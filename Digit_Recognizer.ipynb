{
 "cells": [
  {
   "cell_type": "markdown",
   "metadata": {},
   "source": [
    "# Importing Data"
   ]
  },
  {
   "cell_type": "code",
   "execution_count": 347,
   "metadata": {
    "ExecuteTime": {
     "end_time": "2020-04-19T02:11:40.623421Z",
     "start_time": "2020-04-19T02:11:40.613998Z"
    }
   },
   "outputs": [],
   "source": [
    "import pandas as pd\n",
    "import numpy as np\n",
    "import keras\n",
    "from matplotlib import pyplot as plt\n",
    "import seaborn as sns\n",
    "from sklearn.model_selection import train_test_split\n",
    "from keras.utils import to_categorical\n",
    "from keras.models import Sequential\n",
    "from keras.layers import Dense, BatchNormalization\n",
    "from keras.callbacks import EarlyStopping\n",
    "from sklearn.linear_model import LogisticRegression\n",
    "from sklearn.model_selection import cross_val_score\n",
    "from sklearn.model_selection import RandomizedSearchCV\n",
    "from keras.layers import Dropout\n",
    "from keras.wrappers.scikit_learn import KerasClassifier\n",
    "from keras import regularizers;"
   ]
  },
  {
   "cell_type": "code",
   "execution_count": 2,
   "metadata": {
    "ExecuteTime": {
     "end_time": "2020-04-18T16:17:40.840881Z",
     "start_time": "2020-04-18T16:17:38.181855Z"
    }
   },
   "outputs": [],
   "source": [
    "digits_train = pd.read_csv(\"train.csv\")\n",
    "digits_test = pd.read_csv(\"test.csv\")"
   ]
  },
  {
   "cell_type": "code",
   "execution_count": 3,
   "metadata": {
    "ExecuteTime": {
     "end_time": "2020-04-18T16:17:40.864815Z",
     "start_time": "2020-04-18T16:17:40.841835Z"
    }
   },
   "outputs": [
    {
     "data": {
      "text/html": [
       "<div>\n",
       "<style scoped>\n",
       "    .dataframe tbody tr th:only-of-type {\n",
       "        vertical-align: middle;\n",
       "    }\n",
       "\n",
       "    .dataframe tbody tr th {\n",
       "        vertical-align: top;\n",
       "    }\n",
       "\n",
       "    .dataframe thead th {\n",
       "        text-align: right;\n",
       "    }\n",
       "</style>\n",
       "<table border=\"1\" class=\"dataframe\">\n",
       "  <thead>\n",
       "    <tr style=\"text-align: right;\">\n",
       "      <th></th>\n",
       "      <th>label</th>\n",
       "      <th>pixel0</th>\n",
       "      <th>pixel1</th>\n",
       "      <th>pixel2</th>\n",
       "      <th>pixel3</th>\n",
       "      <th>pixel4</th>\n",
       "      <th>pixel5</th>\n",
       "      <th>pixel6</th>\n",
       "      <th>pixel7</th>\n",
       "      <th>pixel8</th>\n",
       "      <th>...</th>\n",
       "      <th>pixel774</th>\n",
       "      <th>pixel775</th>\n",
       "      <th>pixel776</th>\n",
       "      <th>pixel777</th>\n",
       "      <th>pixel778</th>\n",
       "      <th>pixel779</th>\n",
       "      <th>pixel780</th>\n",
       "      <th>pixel781</th>\n",
       "      <th>pixel782</th>\n",
       "      <th>pixel783</th>\n",
       "    </tr>\n",
       "  </thead>\n",
       "  <tbody>\n",
       "    <tr>\n",
       "      <th>0</th>\n",
       "      <td>1</td>\n",
       "      <td>0</td>\n",
       "      <td>0</td>\n",
       "      <td>0</td>\n",
       "      <td>0</td>\n",
       "      <td>0</td>\n",
       "      <td>0</td>\n",
       "      <td>0</td>\n",
       "      <td>0</td>\n",
       "      <td>0</td>\n",
       "      <td>...</td>\n",
       "      <td>0</td>\n",
       "      <td>0</td>\n",
       "      <td>0</td>\n",
       "      <td>0</td>\n",
       "      <td>0</td>\n",
       "      <td>0</td>\n",
       "      <td>0</td>\n",
       "      <td>0</td>\n",
       "      <td>0</td>\n",
       "      <td>0</td>\n",
       "    </tr>\n",
       "    <tr>\n",
       "      <th>1</th>\n",
       "      <td>0</td>\n",
       "      <td>0</td>\n",
       "      <td>0</td>\n",
       "      <td>0</td>\n",
       "      <td>0</td>\n",
       "      <td>0</td>\n",
       "      <td>0</td>\n",
       "      <td>0</td>\n",
       "      <td>0</td>\n",
       "      <td>0</td>\n",
       "      <td>...</td>\n",
       "      <td>0</td>\n",
       "      <td>0</td>\n",
       "      <td>0</td>\n",
       "      <td>0</td>\n",
       "      <td>0</td>\n",
       "      <td>0</td>\n",
       "      <td>0</td>\n",
       "      <td>0</td>\n",
       "      <td>0</td>\n",
       "      <td>0</td>\n",
       "    </tr>\n",
       "    <tr>\n",
       "      <th>2</th>\n",
       "      <td>1</td>\n",
       "      <td>0</td>\n",
       "      <td>0</td>\n",
       "      <td>0</td>\n",
       "      <td>0</td>\n",
       "      <td>0</td>\n",
       "      <td>0</td>\n",
       "      <td>0</td>\n",
       "      <td>0</td>\n",
       "      <td>0</td>\n",
       "      <td>...</td>\n",
       "      <td>0</td>\n",
       "      <td>0</td>\n",
       "      <td>0</td>\n",
       "      <td>0</td>\n",
       "      <td>0</td>\n",
       "      <td>0</td>\n",
       "      <td>0</td>\n",
       "      <td>0</td>\n",
       "      <td>0</td>\n",
       "      <td>0</td>\n",
       "    </tr>\n",
       "    <tr>\n",
       "      <th>3</th>\n",
       "      <td>4</td>\n",
       "      <td>0</td>\n",
       "      <td>0</td>\n",
       "      <td>0</td>\n",
       "      <td>0</td>\n",
       "      <td>0</td>\n",
       "      <td>0</td>\n",
       "      <td>0</td>\n",
       "      <td>0</td>\n",
       "      <td>0</td>\n",
       "      <td>...</td>\n",
       "      <td>0</td>\n",
       "      <td>0</td>\n",
       "      <td>0</td>\n",
       "      <td>0</td>\n",
       "      <td>0</td>\n",
       "      <td>0</td>\n",
       "      <td>0</td>\n",
       "      <td>0</td>\n",
       "      <td>0</td>\n",
       "      <td>0</td>\n",
       "    </tr>\n",
       "    <tr>\n",
       "      <th>4</th>\n",
       "      <td>0</td>\n",
       "      <td>0</td>\n",
       "      <td>0</td>\n",
       "      <td>0</td>\n",
       "      <td>0</td>\n",
       "      <td>0</td>\n",
       "      <td>0</td>\n",
       "      <td>0</td>\n",
       "      <td>0</td>\n",
       "      <td>0</td>\n",
       "      <td>...</td>\n",
       "      <td>0</td>\n",
       "      <td>0</td>\n",
       "      <td>0</td>\n",
       "      <td>0</td>\n",
       "      <td>0</td>\n",
       "      <td>0</td>\n",
       "      <td>0</td>\n",
       "      <td>0</td>\n",
       "      <td>0</td>\n",
       "      <td>0</td>\n",
       "    </tr>\n",
       "  </tbody>\n",
       "</table>\n",
       "<p>5 rows × 785 columns</p>\n",
       "</div>"
      ],
      "text/plain": [
       "   label  pixel0  pixel1  pixel2  pixel3  pixel4  pixel5  pixel6  pixel7  \\\n",
       "0      1       0       0       0       0       0       0       0       0   \n",
       "1      0       0       0       0       0       0       0       0       0   \n",
       "2      1       0       0       0       0       0       0       0       0   \n",
       "3      4       0       0       0       0       0       0       0       0   \n",
       "4      0       0       0       0       0       0       0       0       0   \n",
       "\n",
       "   pixel8  ...  pixel774  pixel775  pixel776  pixel777  pixel778  pixel779  \\\n",
       "0       0  ...         0         0         0         0         0         0   \n",
       "1       0  ...         0         0         0         0         0         0   \n",
       "2       0  ...         0         0         0         0         0         0   \n",
       "3       0  ...         0         0         0         0         0         0   \n",
       "4       0  ...         0         0         0         0         0         0   \n",
       "\n",
       "   pixel780  pixel781  pixel782  pixel783  \n",
       "0         0         0         0         0  \n",
       "1         0         0         0         0  \n",
       "2         0         0         0         0  \n",
       "3         0         0         0         0  \n",
       "4         0         0         0         0  \n",
       "\n",
       "[5 rows x 785 columns]"
      ]
     },
     "execution_count": 3,
     "metadata": {},
     "output_type": "execute_result"
    }
   ],
   "source": [
    "digits_train.head()"
   ]
  },
  {
   "cell_type": "markdown",
   "metadata": {},
   "source": [
    "# Explorarary Data Analysis"
   ]
  },
  {
   "cell_type": "markdown",
   "metadata": {},
   "source": [
    "## Structure of Data"
   ]
  },
  {
   "cell_type": "code",
   "execution_count": 74,
   "metadata": {
    "ExecuteTime": {
     "end_time": "2020-04-18T17:47:47.342306Z",
     "start_time": "2020-04-18T17:47:47.331352Z"
    }
   },
   "outputs": [
    {
     "data": {
      "text/plain": [
       "(42000, 785)"
      ]
     },
     "execution_count": 74,
     "metadata": {},
     "output_type": "execute_result"
    }
   ],
   "source": [
    "digits_train.shape"
   ]
  },
  {
   "cell_type": "markdown",
   "metadata": {},
   "source": [
    "Training dataset:\n",
    "-  28x28 image in 784 columns and 1 label\n",
    "- 42000 images"
   ]
  },
  {
   "cell_type": "code",
   "execution_count": 7,
   "metadata": {
    "ExecuteTime": {
     "end_time": "2020-04-18T16:53:03.650107Z",
     "start_time": "2020-04-18T16:53:03.646113Z"
    }
   },
   "outputs": [
    {
     "data": {
      "text/plain": [
       "(28000, 784)"
      ]
     },
     "execution_count": 7,
     "metadata": {},
     "output_type": "execute_result"
    }
   ],
   "source": [
    "digits_test.shape"
   ]
  },
  {
   "cell_type": "markdown",
   "metadata": {
    "ExecuteTime": {
     "end_time": "2020-04-18T16:53:34.356086Z",
     "start_time": "2020-04-18T16:53:34.352115Z"
    }
   },
   "source": [
    "Test dataset:\n",
    "- 28x28 image in 784 columns\n",
    "- 28000 images"
   ]
  },
  {
   "cell_type": "code",
   "execution_count": 81,
   "metadata": {
    "ExecuteTime": {
     "end_time": "2020-04-18T17:52:10.302275Z",
     "start_time": "2020-04-18T17:52:10.296673Z"
    }
   },
   "outputs": [],
   "source": [
    "X_test = digits_test"
   ]
  },
  {
   "cell_type": "code",
   "execution_count": 110,
   "metadata": {
    "ExecuteTime": {
     "end_time": "2020-04-18T20:52:38.783646Z",
     "start_time": "2020-04-18T20:52:38.775194Z"
    }
   },
   "outputs": [],
   "source": [
    "X_train, y_train = digits_train.iloc[:,1:], digits_train[\"label\"]"
   ]
  },
  {
   "cell_type": "markdown",
   "metadata": {},
   "source": [
    "## Null values"
   ]
  },
  {
   "cell_type": "code",
   "execution_count": 111,
   "metadata": {
    "ExecuteTime": {
     "end_time": "2020-04-18T20:52:39.849140Z",
     "start_time": "2020-04-18T20:52:39.706765Z"
    }
   },
   "outputs": [
    {
     "data": {
      "text/plain": [
       "count    785.0\n",
       "mean       0.0\n",
       "std        0.0\n",
       "min        0.0\n",
       "25%        0.0\n",
       "50%        0.0\n",
       "75%        0.0\n",
       "max        0.0\n",
       "dtype: float64"
      ]
     },
     "execution_count": 111,
     "metadata": {},
     "output_type": "execute_result"
    }
   ],
   "source": [
    "digits_train.isna().sum().describe()"
   ]
  },
  {
   "cell_type": "markdown",
   "metadata": {},
   "source": [
    "There are no null values"
   ]
  },
  {
   "cell_type": "markdown",
   "metadata": {},
   "source": [
    "## Visualize the images"
   ]
  },
  {
   "cell_type": "code",
   "execution_count": 112,
   "metadata": {
    "ExecuteTime": {
     "end_time": "2020-04-18T20:52:41.422489Z",
     "start_time": "2020-04-18T20:52:40.761256Z"
    }
   },
   "outputs": [
    {
     "data": {
      "image/png": "[encoded data removed]",
      "text/plain": [
       "<Figure size 1080x360 with 3 Axes>"
      ]
     },
     "metadata": {
      "needs_background": "light"
     },
     "output_type": "display_data"
    }
   ],
   "source": [
    "#Let's check how few images look like\n",
    "fig, ax = plt.subplots(1,3, figsize = (15,5))\n",
    "ax[0].imshow(np.array(X_train.iloc[0]).reshape(28,28))\n",
    "ax[1].imshow(np.array(X_train.iloc[1]).reshape(28,28))\n",
    "ax[2].imshow(np.array(X_train.iloc[3]).reshape(28,28));"
   ]
  },
  {
   "cell_type": "markdown",
   "metadata": {},
   "source": [
    "## Distribution of Image labels"
   ]
  },
  {
   "cell_type": "code",
   "execution_count": 113,
   "metadata": {
    "ExecuteTime": {
     "end_time": "2020-04-18T20:52:41.644435Z",
     "start_time": "2020-04-18T20:52:41.625346Z"
    }
   },
   "outputs": [
    {
     "data": {
      "text/html": [
       "<div>\n",
       "<style scoped>\n",
       "    .dataframe tbody tr th:only-of-type {\n",
       "        vertical-align: middle;\n",
       "    }\n",
       "\n",
       "    .dataframe tbody tr th {\n",
       "        vertical-align: top;\n",
       "    }\n",
       "\n",
       "    .dataframe thead th {\n",
       "        text-align: right;\n",
       "    }\n",
       "</style>\n",
       "<table border=\"1\" class=\"dataframe\">\n",
       "  <thead>\n",
       "    <tr style=\"text-align: right;\">\n",
       "      <th></th>\n",
       "      <th>label</th>\n",
       "    </tr>\n",
       "    <tr>\n",
       "      <th>label</th>\n",
       "      <th></th>\n",
       "    </tr>\n",
       "  </thead>\n",
       "  <tbody>\n",
       "    <tr>\n",
       "      <th>0</th>\n",
       "      <td>4132</td>\n",
       "    </tr>\n",
       "    <tr>\n",
       "      <th>1</th>\n",
       "      <td>4684</td>\n",
       "    </tr>\n",
       "    <tr>\n",
       "      <th>2</th>\n",
       "      <td>4177</td>\n",
       "    </tr>\n",
       "    <tr>\n",
       "      <th>3</th>\n",
       "      <td>4351</td>\n",
       "    </tr>\n",
       "    <tr>\n",
       "      <th>4</th>\n",
       "      <td>4072</td>\n",
       "    </tr>\n",
       "    <tr>\n",
       "      <th>5</th>\n",
       "      <td>3795</td>\n",
       "    </tr>\n",
       "    <tr>\n",
       "      <th>6</th>\n",
       "      <td>4137</td>\n",
       "    </tr>\n",
       "    <tr>\n",
       "      <th>7</th>\n",
       "      <td>4401</td>\n",
       "    </tr>\n",
       "    <tr>\n",
       "      <th>8</th>\n",
       "      <td>4063</td>\n",
       "    </tr>\n",
       "    <tr>\n",
       "      <th>9</th>\n",
       "      <td>4188</td>\n",
       "    </tr>\n",
       "  </tbody>\n",
       "</table>\n",
       "</div>"
      ],
      "text/plain": [
       "       label\n",
       "label       \n",
       "0       4132\n",
       "1       4684\n",
       "2       4177\n",
       "3       4351\n",
       "4       4072\n",
       "5       3795\n",
       "6       4137\n",
       "7       4401\n",
       "8       4063\n",
       "9       4188"
      ]
     },
     "execution_count": 113,
     "metadata": {},
     "output_type": "execute_result"
    }
   ],
   "source": [
    "y_counts = y_train.value_counts(sort = True, normalize = True)\n",
    "digits_train.groupby(\"label\").agg({\"label\":\"count\"})"
   ]
  },
  {
   "cell_type": "code",
   "execution_count": 114,
   "metadata": {
    "ExecuteTime": {
     "end_time": "2020-04-18T20:52:42.678723Z",
     "start_time": "2020-04-18T20:52:42.341365Z"
    }
   },
   "outputs": [
    {
     "data": {
      "image/png": "[encoded data removed]",
      "text/plain": [
       "<Figure size 432x288 with 1 Axes>"
      ]
     },
     "metadata": {
      "needs_background": "light"
     },
     "output_type": "display_data"
    }
   ],
   "source": [
    "plt.figure(figsize = (6,4))\n",
    "ax = sns.barplot(x=y_counts.index, y = y_counts.values)\n",
    "ax.set_title(\"Distribution of labels\")\n",
    "ax.set_ylabel(\"Proportion of the label\")\n",
    "ax.set_xlabel(\"Labels\");"
   ]
  },
  {
   "cell_type": "markdown",
   "metadata": {},
   "source": [
    "We observe the labels are fairly evenly distributed"
   ]
  },
  {
   "cell_type": "markdown",
   "metadata": {},
   "source": [
    "Divide the data into train and validation sets before modeling"
   ]
  },
  {
   "cell_type": "markdown",
   "metadata": {},
   "source": [
    "# Data Engineering / Wrangling"
   ]
  },
  {
   "cell_type": "markdown",
   "metadata": {
    "ExecuteTime": {
     "end_time": "2020-04-18T17:35:39.019424Z",
     "start_time": "2020-04-18T17:35:38.987819Z"
    }
   },
   "source": [
    "## Normalizing\n",
    "Neural networks converge faster for normalized data. The data has max 255 represeting the brightness of the image"
   ]
  },
  {
   "cell_type": "code",
   "execution_count": 115,
   "metadata": {
    "ExecuteTime": {
     "end_time": "2020-04-18T20:52:45.390092Z",
     "start_time": "2020-04-18T20:52:45.256489Z"
    }
   },
   "outputs": [],
   "source": [
    "X_train = X_train / 255\n",
    "X_test = X_test / 255"
   ]
  },
  {
   "cell_type": "markdown",
   "metadata": {},
   "source": [
    "## Converting labels to categorical outputs"
   ]
  },
  {
   "cell_type": "code",
   "execution_count": 116,
   "metadata": {
    "ExecuteTime": {
     "end_time": "2020-04-18T20:52:47.752314Z",
     "start_time": "2020-04-18T20:52:47.744509Z"
    }
   },
   "outputs": [],
   "source": [
    "y_train = to_categorical(y_train, num_classes = 10)"
   ]
  },
  {
   "cell_type": "markdown",
   "metadata": {},
   "source": [
    "## Splitting the training data\n",
    "- training set\n",
    "- test set\n",
    "\n",
    "We do not have labels for the test set provided on Kaggle. Hence, we test on them later"
   ]
  },
  {
   "cell_type": "code",
   "execution_count": 130,
   "metadata": {
    "ExecuteTime": {
     "end_time": "2020-04-18T21:03:32.244926Z",
     "start_time": "2020-04-18T21:03:31.883015Z"
    }
   },
   "outputs": [],
   "source": [
    "X_train, X_test, y_train, y_test = train_test_split(X_train, y_train, test_size = 0.2)"
   ]
  },
  {
   "cell_type": "markdown",
   "metadata": {},
   "source": [
    "## Reshaping data for use in CNN\n",
    "- Length x width = 28X28\n",
    "- Channel = 1"
   ]
  },
  {
   "cell_type": "code",
   "execution_count": 180,
   "metadata": {
    "ExecuteTime": {
     "end_time": "2020-04-18T21:47:12.020481Z",
     "start_time": "2020-04-18T21:47:12.014468Z"
    }
   },
   "outputs": [],
   "source": [
    "X_train_r, X_test_r = X_train.values.reshape(-1,28,28,1), X_test.values.reshape(-1,28,28,1)"
   ]
  },
  {
   "cell_type": "markdown",
   "metadata": {
    "ExecuteTime": {
     "end_time": "2020-04-18T17:27:33.338807Z",
     "start_time": "2020-04-18T17:27:33.331839Z"
    }
   },
   "source": [
    "# Modeling"
   ]
  },
  {
   "cell_type": "code",
   "execution_count": 185,
   "metadata": {
    "ExecuteTime": {
     "end_time": "2020-04-18T21:50:19.536019Z",
     "start_time": "2020-04-18T21:50:19.522218Z"
    }
   },
   "outputs": [],
   "source": [
    "Summary_table = pd.DataFrame(columns = [\"model\", \"Test accuracy\"])"
   ]
  },
  {
   "cell_type": "markdown",
   "metadata": {},
   "source": [
    "## Logistic Regression\n",
    "Baseline model for comparison "
   ]
  },
  {
   "cell_type": "code",
   "execution_count": 188,
   "metadata": {
    "ExecuteTime": {
     "end_time": "2020-04-18T21:53:43.641985Z",
     "start_time": "2020-04-18T21:53:43.637996Z"
    }
   },
   "outputs": [],
   "source": [
    "lr = LogisticRegression(max_iter = 1000)"
   ]
  },
  {
   "cell_type": "code",
   "execution_count": 189,
   "metadata": {
    "ExecuteTime": {
     "end_time": "2020-04-18T21:54:23.135519Z",
     "start_time": "2020-04-18T21:53:43.920880Z"
    }
   },
   "outputs": [
    {
     "data": {
      "text/plain": [
       "LogisticRegression(C=1.0, class_weight=None, dual=False, fit_intercept=True,\n",
       "                   intercept_scaling=1, l1_ratio=None, max_iter=1000,\n",
       "                   multi_class='auto', n_jobs=None, penalty='l2',\n",
       "                   random_state=None, solver='lbfgs', tol=0.0001, verbose=0,\n",
       "                   warm_start=False)"
      ]
     },
     "execution_count": 189,
     "metadata": {},
     "output_type": "execute_result"
    }
   ],
   "source": [
    "lr.fit(X_train, np.argmax(y_train, axis = 1))"
   ]
  },
  {
   "cell_type": "code",
   "execution_count": 191,
   "metadata": {
    "ExecuteTime": {
     "end_time": "2020-04-18T21:55:13.972316Z",
     "start_time": "2020-04-18T21:55:13.950350Z"
    }
   },
   "outputs": [],
   "source": [
    "test_accuracy = lr.score(X_test, np.argmax(y_test, axis = 1))"
   ]
  },
  {
   "cell_type": "code",
   "execution_count": 194,
   "metadata": {
    "ExecuteTime": {
     "end_time": "2020-04-18T21:55:51.965347Z",
     "start_time": "2020-04-18T21:55:51.957335Z"
    }
   },
   "outputs": [],
   "source": [
    "Summary_table  = Summary_table.append({\"model\": \"Logistic Regression\", \"Test accuracy\": test_accuracy }, ignore_index = True)"
   ]
  },
  {
   "cell_type": "code",
   "execution_count": 195,
   "metadata": {
    "ExecuteTime": {
     "end_time": "2020-04-18T21:55:56.744936Z",
     "start_time": "2020-04-18T21:55:56.737978Z"
    }
   },
   "outputs": [
    {
     "data": {
      "text/html": [
       "<div>\n",
       "<style scoped>\n",
       "    .dataframe tbody tr th:only-of-type {\n",
       "        vertical-align: middle;\n",
       "    }\n",
       "\n",
       "    .dataframe tbody tr th {\n",
       "        vertical-align: top;\n",
       "    }\n",
       "\n",
       "    .dataframe thead th {\n",
       "        text-align: right;\n",
       "    }\n",
       "</style>\n",
       "<table border=\"1\" class=\"dataframe\">\n",
       "  <thead>\n",
       "    <tr style=\"text-align: right;\">\n",
       "      <th></th>\n",
       "      <th>model</th>\n",
       "      <th>Test accuracy</th>\n",
       "    </tr>\n",
       "  </thead>\n",
       "  <tbody>\n",
       "    <tr>\n",
       "      <th>0</th>\n",
       "      <td>Logistic Regression</td>\n",
       "      <td>0.917708</td>\n",
       "    </tr>\n",
       "  </tbody>\n",
       "</table>\n",
       "</div>"
      ],
      "text/plain": [
       "                 model  Test accuracy\n",
       "0  Logistic Regression       0.917708"
      ]
     },
     "execution_count": 195,
     "metadata": {},
     "output_type": "execute_result"
    }
   ],
   "source": [
    "Summary_table"
   ]
  },
  {
   "cell_type": "markdown",
   "metadata": {},
   "source": [
    "## Shallow fully connected Neural Network\n",
    "- Hidden layer1: 5 nodes, activation function: relu\n",
    "- Optimizer: Adam\n",
    "- Early stoppng: 10, stops further epochs iteration if the validation accuracy does not improve for 10 iterations"
   ]
  },
  {
   "cell_type": "code",
   "execution_count": 196,
   "metadata": {
    "ExecuteTime": {
     "end_time": "2020-04-18T21:56:21.408977Z",
     "start_time": "2020-04-18T21:56:21.369719Z"
    }
   },
   "outputs": [],
   "source": [
    "model_s = Sequential()\n",
    "model_s.add(Dense(5, input_shape = (784,), activation = \"relu\"))\n",
    "#Output layer\n",
    "model_s.add(Dense(10, activation = \"softmax\"))\n",
    "model_s.compile(optimizer = \"adam\", loss = \"categorical_crossentropy\", metrics = [\"accuracy\"])"
   ]
  },
  {
   "cell_type": "code",
   "execution_count": 197,
   "metadata": {
    "ExecuteTime": {
     "end_time": "2020-04-18T21:56:23.133315Z",
     "start_time": "2020-04-18T21:56:23.128360Z"
    }
   },
   "outputs": [
    {
     "name": "stdout",
     "output_type": "stream",
     "text": [
      "Model: \"sequential_5\"\n",
      "_________________________________________________________________\n",
      "Layer (type)                 Output Shape              Param #   \n",
      "=================================================================\n",
      "dense_8 (Dense)              (None, 5)                 3925      \n",
      "_________________________________________________________________\n",
      "dense_9 (Dense)              (None, 10)                60        \n",
      "=================================================================\n",
      "Total params: 3,985\n",
      "Trainable params: 3,985\n",
      "Non-trainable params: 0\n",
      "_________________________________________________________________\n"
     ]
    }
   ],
   "source": [
    "model_s.summary()"
   ]
  },
  {
   "cell_type": "markdown",
   "metadata": {},
   "source": [
    "There are:\n",
    "- Layer1: Weights =  784*5, Bias(each node's) = 5. Total = 3925\n",
    "- Layer2 (output): Weights = 5*10 = 50, Bias (each node's) = 10. Total 60\n",
    "\n",
    "Toatal parameters = 3985"
   ]
  },
  {
   "cell_type": "code",
   "execution_count": 200,
   "metadata": {
    "ExecuteTime": {
     "end_time": "2020-04-18T21:57:36.688819Z",
     "start_time": "2020-04-18T21:57:36.686536Z"
    }
   },
   "outputs": [],
   "source": [
    "early_stopping = EarlyStopping(monitor = \"val_accuracy\", patience = 10)"
   ]
  },
  {
   "cell_type": "code",
   "execution_count": 201,
   "metadata": {
    "ExecuteTime": {
     "end_time": "2020-04-18T21:57:55.532604Z",
     "start_time": "2020-04-18T21:57:37.376075Z"
    }
   },
   "outputs": [
    {
     "name": "stdout",
     "output_type": "stream",
     "text": [
      "Train on 21504 samples, validate on 5376 samples\n",
      "Epoch 1/100\n",
      "21504/21504 [==============================] - 1s 40us/step - loss: 0.3151 - accuracy: 0.9104 - val_loss: 0.3975 - val_accuracy: 0.8884\n",
      "Epoch 2/100\n",
      "21504/21504 [==============================] - 1s 41us/step - loss: 0.3146 - accuracy: 0.9102 - val_loss: 0.3983 - val_accuracy: 0.8878\n",
      "Epoch 3/100\n",
      "21504/21504 [==============================] - 1s 42us/step - loss: 0.3142 - accuracy: 0.9088 - val_loss: 0.3968 - val_accuracy: 0.8895\n",
      "Epoch 4/100\n",
      "21504/21504 [==============================] - ETA: 0s - loss: 0.3126 - accuracy: 0.9108 ETA: 0s - l - 1s 42us/step - loss: 0.3121 - accuracy: 0.9107 - val_loss: 0.3976 - val_accuracy: 0.8878\n",
      "Epoch 5/100\n",
      "21504/21504 [==============================] - 1s 41us/step - loss: 0.3112 - accuracy: 0.9095 - val_loss: 0.3978 - val_accuracy: 0.8906\n",
      "Epoch 6/100\n",
      "21504/21504 [==============================] - 1s 44us/step - loss: 0.3113 - accuracy: 0.9102 - val_loss: 0.4004 - val_accuracy: 0.8897\n",
      "Epoch 7/100\n",
      "21504/21504 [==============================] - 1s 45us/step - loss: 0.3106 - accuracy: 0.9102 - val_loss: 0.3969 - val_accuracy: 0.8893\n",
      "Epoch 8/100\n",
      "21504/21504 [==============================] - 1s 46us/step - loss: 0.3096 - accuracy: 0.9116 - val_loss: 0.3978 - val_accuracy: 0.8878\n",
      "Epoch 9/100\n",
      "21504/21504 [==============================] - 1s 46us/step - loss: 0.3089 - accuracy: 0.9115 - val_loss: 0.3951 - val_accuracy: 0.8932\n",
      "Epoch 10/100\n",
      "21504/21504 [==============================] - 1s 44us/step - loss: 0.3095 - accuracy: 0.9113 - val_loss: 0.3976 - val_accuracy: 0.8899\n",
      "Epoch 11/100\n",
      "21504/21504 [==============================] - 1s 43us/step - loss: 0.3074 - accuracy: 0.9113 - val_loss: 0.3984 - val_accuracy: 0.8929\n",
      "Epoch 12/100\n",
      "21504/21504 [==============================] - 1s 41us/step - loss: 0.3068 - accuracy: 0.9115 - val_loss: 0.3983 - val_accuracy: 0.8916\n",
      "Epoch 13/100\n",
      "21504/21504 [==============================] - 1s 43us/step - loss: 0.3063 - accuracy: 0.9115 - val_loss: 0.4001 - val_accuracy: 0.8932\n",
      "Epoch 14/100\n",
      "21504/21504 [==============================] - 1s 56us/step - loss: 0.3050 - accuracy: 0.9121 - val_loss: 0.4018 - val_accuracy: 0.8904\n",
      "Epoch 15/100\n",
      "21504/21504 [==============================] - 1s 55us/step - loss: 0.3055 - accuracy: 0.9128 - val_loss: 0.4016 - val_accuracy: 0.8904\n",
      "Epoch 16/100\n",
      "21504/21504 [==============================] - 1s 43us/step - loss: 0.3043 - accuracy: 0.9124 - val_loss: 0.4023 - val_accuracy: 0.8890\n",
      "Epoch 17/100\n",
      "21504/21504 [==============================] - 1s 42us/step - loss: 0.3049 - accuracy: 0.9129 - val_loss: 0.3988 - val_accuracy: 0.8921\n",
      "Epoch 18/100\n",
      "21504/21504 [==============================] - 1s 45us/step - loss: 0.3030 - accuracy: 0.9136 - val_loss: 0.4025 - val_accuracy: 0.8891loss: 0.3054 - \n",
      "Epoch 19/100\n",
      "21504/21504 [==============================] - 1s 44us/step - loss: 0.3021 - accuracy: 0.9120 - val_loss: 0.4072 - val_accuracy: 0.8908\n"
     ]
    }
   ],
   "source": [
    "history = model_s.fit(X_train, y_train, epochs = 100, validation_split = 0.2, callbacks = [early_stopping])"
   ]
  },
  {
   "cell_type": "code",
   "execution_count": 202,
   "metadata": {
    "ExecuteTime": {
     "end_time": "2020-04-18T21:57:55.679362Z",
     "start_time": "2020-04-18T21:57:55.534577Z"
    }
   },
   "outputs": [
    {
     "data": {
      "image/png": "[encoded data removed]",
      "text/plain": [
       "<Figure size 576x288 with 1 Axes>"
      ]
     },
     "metadata": {
      "needs_background": "light"
     },
     "output_type": "display_data"
    }
   ],
   "source": [
    "fig = plt.figure(figsize = (8,4))\n",
    "ax1= plt.plot(history.history[\"accuracy\"], label = \"training\")\n",
    "ax2 = plt.plot(history.history[\"val_accuracy\"], label = \"validation\")\n",
    "plt.legend(loc=\"upper left\")\n",
    "plt.xlabel(\"Epochs\")\n",
    "plt.ylim(0.85,1)\n",
    "plt.ylabel(\"Accuracy\")\n",
    "plt.title(\"Training accuracy and Validation accuracy by epochs\");"
   ]
  },
  {
   "cell_type": "code",
   "execution_count": 207,
   "metadata": {
    "ExecuteTime": {
     "end_time": "2020-04-18T22:33:36.069731Z",
     "start_time": "2020-04-18T22:33:35.875980Z"
    }
   },
   "outputs": [
    {
     "name": "stdout",
     "output_type": "stream",
     "text": [
      "6720/6720 [==============================] - 0s 26us/step\n"
     ]
    }
   ],
   "source": [
    "test_accuracy = model_s.evaluate(X_test, y_test)[1]"
   ]
  },
  {
   "cell_type": "code",
   "execution_count": 208,
   "metadata": {
    "ExecuteTime": {
     "end_time": "2020-04-18T22:33:53.601053Z",
     "start_time": "2020-04-18T22:33:53.594086Z"
    }
   },
   "outputs": [],
   "source": [
    "Summary_table  = Summary_table.append({\"model\": \"Shallow NN\", \"Test accuracy\": test_accuracy }, ignore_index = True)"
   ]
  },
  {
   "cell_type": "markdown",
   "metadata": {},
   "source": [
    "Observation:\n",
    "- Bayes error : 0 (Humans can perfectly identify)\n",
    "- Training error : 0.09\n",
    "- Test accuracy: 0.12\n",
    "\n",
    "Therefore, we can focus on trying to decrease the gap between bayes error and training error with **more complex model**\n"
   ]
  },
  {
   "cell_type": "markdown",
   "metadata": {},
   "source": [
    "## Fully connected 2 HL Neural Network \n",
    "- Hidden layer1: 5 nodes, activation function: relu\n",
    "- Hidden layer2: 5 nodes, activation function: relu\n",
    "- Optimizer: Adam\n",
    "- Early stoppng: 10, stops further epochs iteration if the validation accuracy does not improve for 10 iterations\n",
    "- Batch Normalization before every layer"
   ]
  },
  {
   "cell_type": "code",
   "execution_count": 216,
   "metadata": {
    "ExecuteTime": {
     "end_time": "2020-04-18T22:50:07.676498Z",
     "start_time": "2020-04-18T22:50:07.530053Z"
    }
   },
   "outputs": [],
   "source": [
    "model_fc = Sequential()\n",
    "model_fc.add(Dense(5, input_shape = (784,), activation = \"relu\"))\n",
    "model_fc.add(BatchNormalization())\n",
    "model_fc.add(Dense(5, activation = \"relu\"))\n",
    "model_fc.add(BatchNormalization())\n",
    "model_fc.add(Dense(10, activation = \"softmax\"))"
   ]
  },
  {
   "cell_type": "code",
   "execution_count": 217,
   "metadata": {
    "ExecuteTime": {
     "end_time": "2020-04-18T22:50:08.038707Z",
     "start_time": "2020-04-18T22:50:07.987939Z"
    }
   },
   "outputs": [],
   "source": [
    "model_fc.compile(optimizer = \"adam\", loss = \"categorical_crossentropy\", metrics =[\"accuracy\"])"
   ]
  },
  {
   "cell_type": "code",
   "execution_count": 218,
   "metadata": {
    "ExecuteTime": {
     "end_time": "2020-04-18T22:50:08.436178Z",
     "start_time": "2020-04-18T22:50:08.429532Z"
    }
   },
   "outputs": [
    {
     "name": "stdout",
     "output_type": "stream",
     "text": [
      "Model: \"sequential_7\"\n",
      "_________________________________________________________________\n",
      "Layer (type)                 Output Shape              Param #   \n",
      "=================================================================\n",
      "dense_13 (Dense)             (None, 5)                 3925      \n",
      "_________________________________________________________________\n",
      "batch_normalization_3 (Batch (None, 5)                 20        \n",
      "_________________________________________________________________\n",
      "dense_14 (Dense)             (None, 5)                 30        \n",
      "_________________________________________________________________\n",
      "batch_normalization_4 (Batch (None, 5)                 20        \n",
      "_________________________________________________________________\n",
      "dense_15 (Dense)             (None, 10)                60        \n",
      "=================================================================\n",
      "Total params: 4,055\n",
      "Trainable params: 4,035\n",
      "Non-trainable params: 20\n",
      "_________________________________________________________________\n"
     ]
    }
   ],
   "source": [
    "model_fc.summary()"
   ]
  },
  {
   "cell_type": "code",
   "execution_count": 220,
   "metadata": {
    "ExecuteTime": {
     "end_time": "2020-04-18T22:52:51.343868Z",
     "start_time": "2020-04-18T22:50:34.851735Z"
    }
   },
   "outputs": [
    {
     "name": "stdout",
     "output_type": "stream",
     "text": [
      "Train on 21504 samples, validate on 5376 samples\n",
      "Epoch 1/100\n",
      "21504/21504 [==============================] - 4s 199us/step - loss: 0.9192 - accuracy: 0.7074 - val_loss: 0.7317 - val_accuracy: 0.7731\n",
      "Epoch 2/100\n",
      "21504/21504 [==============================] - 3s 138us/step - loss: 0.7038 - accuracy: 0.7816 - val_loss: 0.5997 - val_accuracy: 0.8144\n",
      "Epoch 3/100\n",
      "21504/21504 [==============================] - 3s 139us/step - loss: 0.6129 - accuracy: 0.8146 - val_loss: 0.5449 - val_accuracy: 0.8348\n",
      "Epoch 4/100\n",
      "21504/21504 [==============================] - 3s 117us/step - loss: 0.5561 - accuracy: 0.8329 - val_loss: 0.5275 - val_accuracy: 0.8438\n",
      "Epoch 5/100\n",
      "21504/21504 [==============================] - 3s 118us/step - loss: 0.5296 - accuracy: 0.8392 - val_loss: 0.4716 - val_accuracy: 0.8618\n",
      "Epoch 6/100\n",
      "21504/21504 [==============================] - 3s 117us/step - loss: 0.5113 - accuracy: 0.8455 - val_loss: 0.4768 - val_accuracy: 0.8592\n",
      "Epoch 7/100\n",
      "21504/21504 [==============================] - 3s 118us/step - loss: 0.4985 - accuracy: 0.8509 - val_loss: 0.4406 - val_accuracy: 0.8685\n",
      "Epoch 8/100\n",
      "21504/21504 [==============================] - 3s 117us/step - loss: 0.4866 - accuracy: 0.8535 - val_loss: 0.4391 - val_accuracy: 0.8674\n",
      "Epoch 9/100\n",
      "21504/21504 [==============================] - 3s 135us/step - loss: 0.4778 - accuracy: 0.8561 - val_loss: 0.4646 - val_accuracy: 0.8620\n",
      "Epoch 10/100\n",
      "21504/21504 [==============================] - 3s 117us/step - loss: 0.4818 - accuracy: 0.8563 - val_loss: 0.4295 - val_accuracy: 0.8717\n",
      "Epoch 11/100\n",
      "21504/21504 [==============================] - 3s 117us/step - loss: 0.4685 - accuracy: 0.8566 - val_loss: 0.4229 - val_accuracy: 0.8715\n",
      "Epoch 12/100\n",
      "21504/21504 [==============================] - 2s 115us/step - loss: 0.4618 - accuracy: 0.8610 - val_loss: 0.4442 - val_accuracy: 0.8681\n",
      "Epoch 13/100\n",
      "21504/21504 [==============================] - 2s 116us/step - loss: 0.4563 - accuracy: 0.8639 - val_loss: 0.4289 - val_accuracy: 0.8683\n",
      "Epoch 14/100\n",
      "21504/21504 [==============================] - 3s 122us/step - loss: 0.4608 - accuracy: 0.8608 - val_loss: 0.4147 - val_accuracy: 0.8756\n",
      "Epoch 15/100\n",
      "21504/21504 [==============================] - 5s 241us/step - loss: 0.4403 - accuracy: 0.8677 - val_loss: 0.4358 - val_accuracy: 0.8677\n",
      "Epoch 16/100\n",
      "21504/21504 [==============================] - 6s 275us/step - loss: 0.4434 - accuracy: 0.8666 - val_loss: 0.4299 - val_accuracy: 0.8694\n",
      "Epoch 17/100\n",
      "21504/21504 [==============================] - 4s 193us/step - loss: 0.4454 - accuracy: 0.8649 - val_loss: 0.4283 - val_accuracy: 0.8733\n",
      "Epoch 18/100\n",
      "21504/21504 [==============================] - 4s 164us/step - loss: 0.4431 - accuracy: 0.8669 - val_loss: 0.4210 - val_accuracy: 0.8709\n",
      "Epoch 19/100\n",
      "21504/21504 [==============================] - 4s 190us/step - loss: 0.4347 - accuracy: 0.8677 - val_loss: 0.4277 - val_accuracy: 0.8677\n",
      "Epoch 20/100\n",
      "21504/21504 [==============================] - 6s 274us/step - loss: 0.4354 - accuracy: 0.8675 - val_loss: 0.4291 - val_accuracy: 0.8685\n",
      "Epoch 21/100\n",
      "21504/21504 [==============================] - 3s 131us/step - loss: 0.4299 - accuracy: 0.8706 - val_loss: 0.4137 - val_accuracy: 0.8769\n",
      "Epoch 22/100\n",
      "21504/21504 [==============================] - 3s 117us/step - loss: 0.4307 - accuracy: 0.8700 - val_loss: 0.4230 - val_accuracy: 0.8726\n",
      "Epoch 23/100\n",
      "21504/21504 [==============================] - 3s 121us/step - loss: 0.4296 - accuracy: 0.8690 - val_loss: 0.4278 - val_accuracy: 0.8713\n",
      "Epoch 24/100\n",
      "21504/21504 [==============================] - 3s 162us/step - loss: 0.4236 - accuracy: 0.8696 - val_loss: 0.4160 - val_accuracy: 0.8756\n",
      "Epoch 25/100\n",
      "21504/21504 [==============================] - 3s 132us/step - loss: 0.4278 - accuracy: 0.8716 - val_loss: 0.4287 - val_accuracy: 0.8711\n",
      "Epoch 26/100\n",
      "21504/21504 [==============================] - 4s 169us/step - loss: 0.4177 - accuracy: 0.8733 - val_loss: 0.4130 - val_accuracy: 0.8757\n",
      "Epoch 27/100\n",
      "21504/21504 [==============================] - 4s 207us/step - loss: 0.4211 - accuracy: 0.8723 - val_loss: 0.4237 - val_accuracy: 0.8722\n",
      "Epoch 28/100\n",
      "21504/21504 [==============================] - 4s 165us/step - loss: 0.4179 - accuracy: 0.8722 - val_loss: 0.4158 - val_accuracy: 0.8770\n",
      "Epoch 29/100\n",
      "21504/21504 [==============================] - 3s 133us/step - loss: 0.4125 - accuracy: 0.8752 - val_loss: 0.4062 - val_accuracy: 0.8789\n",
      "Epoch 30/100\n",
      "21504/21504 [==============================] - 4s 182us/step - loss: 0.4197 - accuracy: 0.8747 - val_loss: 0.4124 - val_accuracy: 0.8750\n",
      "Epoch 31/100\n",
      "21504/21504 [==============================] - 3s 141us/step - loss: 0.4120 - accuracy: 0.8737 - val_loss: 0.4068 - val_accuracy: 0.8795\n",
      "Epoch 32/100\n",
      "21504/21504 [==============================] - 2s 90us/step - loss: 0.4126 - accuracy: 0.8721 - val_loss: 0.4090 - val_accuracy: 0.8767\n",
      "Epoch 33/100\n",
      "21504/21504 [==============================] - 3s 159us/step - loss: 0.4128 - accuracy: 0.8740 - val_loss: 0.3984 - val_accuracy: 0.8806\n",
      "Epoch 34/100\n",
      "21504/21504 [==============================] - 3s 141us/step - loss: 0.4108 - accuracy: 0.8740 - val_loss: 0.4085 - val_accuracy: 0.8750\n",
      "Epoch 35/100\n",
      "21504/21504 [==============================] - 2s 97us/step - loss: 0.4085 - accuracy: 0.8741 - val_loss: 0.4152 - val_accuracy: 0.8743\n",
      "Epoch 36/100\n",
      "21504/21504 [==============================] - 3s 133us/step - loss: 0.4052 - accuracy: 0.8770 - val_loss: 0.4130 - val_accuracy: 0.8759\n",
      "Epoch 37/100\n",
      "21504/21504 [==============================] - 3s 141us/step - loss: 0.4079 - accuracy: 0.8770 - val_loss: 0.4114 - val_accuracy: 0.8741\n",
      "Epoch 38/100\n",
      "21504/21504 [==============================] - 3s 125us/step - loss: 0.4088 - accuracy: 0.8755 - val_loss: 0.4194 - val_accuracy: 0.8750\n",
      "Epoch 39/100\n",
      "21504/21504 [==============================] - 3s 141us/step - loss: 0.4085 - accuracy: 0.8769 - val_loss: 0.4161 - val_accuracy: 0.8735\n",
      "Epoch 40/100\n",
      "21504/21504 [==============================] - 3s 124us/step - loss: 0.4006 - accuracy: 0.8793 - val_loss: 0.4131 - val_accuracy: 0.8765\n",
      "Epoch 41/100\n",
      "21504/21504 [==============================] - 3s 142us/step - loss: 0.4053 - accuracy: 0.8762 - val_loss: 0.4203 - val_accuracy: 0.8685\n",
      "Epoch 42/100\n",
      "21504/21504 [==============================] - 3s 138us/step - loss: 0.4037 - accuracy: 0.8778 - val_loss: 0.4029 - val_accuracy: 0.8793\n",
      "Epoch 43/100\n",
      "21504/21504 [==============================] - 3s 124us/step - loss: 0.4064 - accuracy: 0.8764 - val_loss: 0.4081 - val_accuracy: 0.8746\n"
     ]
    }
   ],
   "source": [
    "history = model_fc.fit(X_train, y_train, validation_split = 0.2, callbacks = [early_stopping], epochs = 100)"
   ]
  },
  {
   "cell_type": "code",
   "execution_count": 222,
   "metadata": {
    "ExecuteTime": {
     "end_time": "2020-04-18T22:59:38.781525Z",
     "start_time": "2020-04-18T22:59:38.507706Z"
    }
   },
   "outputs": [
    {
     "data": {
      "image/png": "[encoded data removed]",
      "text/plain": [
       "<Figure size 576x288 with 1 Axes>"
      ]
     },
     "metadata": {
      "needs_background": "light"
     },
     "output_type": "display_data"
    }
   ],
   "source": [
    "fig = plt.figure(figsize = (8,4))\n",
    "ax1= plt.plot(history.history[\"accuracy\"], label = \"training\")\n",
    "ax2 = plt.plot(history.history[\"val_accuracy\"], label = \"validation\")\n",
    "plt.legend(loc=\"upper left\")\n",
    "plt.xlabel(\"Epochs\")\n",
    "plt.ylim(0.7,1)\n",
    "plt.ylabel(\"Accuracy\")\n",
    "plt.title(\"Training accuracy and Validation accuracy by epochs\");"
   ]
  },
  {
   "cell_type": "code",
   "execution_count": 238,
   "metadata": {
    "ExecuteTime": {
     "end_time": "2020-04-18T23:22:48.328169Z",
     "start_time": "2020-04-18T23:22:48.082110Z"
    }
   },
   "outputs": [
    {
     "name": "stdout",
     "output_type": "stream",
     "text": [
      "6720/6720 [==============================] - 0s 35us/step\n"
     ]
    }
   ],
   "source": [
    "test_accuracy = model_fc.evaluate(X_test, y_test)[1]"
   ]
  },
  {
   "cell_type": "code",
   "execution_count": 239,
   "metadata": {
    "ExecuteTime": {
     "end_time": "2020-04-18T23:23:40.374468Z",
     "start_time": "2020-04-18T23:23:40.361871Z"
    }
   },
   "outputs": [],
   "source": [
    "Summary_table  = Summary_table.append({\"model\": \"NN 2 HL,5 nodes\", \"Test accuracy\": test_accuracy }, ignore_index = True)"
   ]
  },
  {
   "cell_type": "markdown",
   "metadata": {
    "ExecuteTime": {
     "end_time": "2020-04-18T23:01:31.495100Z",
     "start_time": "2020-04-18T23:01:31.486079Z"
    }
   },
   "source": [
    "Observations: <br>\n",
    "Increasing  a layer has actually decrased the accuracy rather than increasing. The network needs more width"
   ]
  },
  {
   "cell_type": "markdown",
   "metadata": {},
   "source": [
    "## Fully Connected 2 HL Neural Network (16 nodes)\n",
    "- Hidden layer1: 16 nodes, activation function: relu\n",
    "- Hidden layer2: 16 nodes, activation function: relu\n",
    "- Optimizer: Adam\n",
    "- Early stoppng: 10, stops further epochs iteration if the validation accuracy does not improve for 10 iterations\n",
    "- Batch Normalization before every layer"
   ]
  },
  {
   "cell_type": "code",
   "execution_count": 226,
   "metadata": {
    "ExecuteTime": {
     "end_time": "2020-04-18T23:05:39.828945Z",
     "start_time": "2020-04-18T23:05:39.683260Z"
    }
   },
   "outputs": [],
   "source": [
    "model_fc16 = Sequential()\n",
    "model_fc16.add(Dense(16, input_shape = (784,), activation = \"relu\"))\n",
    "model_fc16.add(BatchNormalization())\n",
    "model_fc16.add(Dense(16, activation = \"relu\"))\n",
    "model_fc16.add(BatchNormalization())\n",
    "model_fc16.add(Dense(10, activation = \"softmax\"))"
   ]
  },
  {
   "cell_type": "code",
   "execution_count": 227,
   "metadata": {
    "ExecuteTime": {
     "end_time": "2020-04-18T23:06:23.504201Z",
     "start_time": "2020-04-18T23:06:23.473840Z"
    }
   },
   "outputs": [],
   "source": [
    "model_fc16.compile(optimizer = \"adam\", loss = \"categorical_crossentropy\", metrics = [\"accuracy\"])"
   ]
  },
  {
   "cell_type": "code",
   "execution_count": 228,
   "metadata": {
    "ExecuteTime": {
     "end_time": "2020-04-18T23:06:42.420177Z",
     "start_time": "2020-04-18T23:06:42.409973Z"
    }
   },
   "outputs": [
    {
     "name": "stdout",
     "output_type": "stream",
     "text": [
      "Model: \"sequential_10\"\n",
      "_________________________________________________________________\n",
      "Layer (type)                 Output Shape              Param #   \n",
      "=================================================================\n",
      "dense_18 (Dense)             (None, 16)                12560     \n",
      "_________________________________________________________________\n",
      "batch_normalization_6 (Batch (None, 16)                64        \n",
      "_________________________________________________________________\n",
      "dense_19 (Dense)             (None, 16)                272       \n",
      "_________________________________________________________________\n",
      "batch_normalization_7 (Batch (None, 16)                64        \n",
      "_________________________________________________________________\n",
      "dense_20 (Dense)             (None, 10)                170       \n",
      "=================================================================\n",
      "Total params: 13,130\n",
      "Trainable params: 13,066\n",
      "Non-trainable params: 64\n",
      "_________________________________________________________________\n"
     ]
    }
   ],
   "source": [
    "model_fc16.summary()"
   ]
  },
  {
   "cell_type": "code",
   "execution_count": 230,
   "metadata": {
    "ExecuteTime": {
     "end_time": "2020-04-18T23:09:09.722962Z",
     "start_time": "2020-04-18T23:07:50.180540Z"
    }
   },
   "outputs": [
    {
     "name": "stdout",
     "output_type": "stream",
     "text": [
      "Train on 21504 samples, validate on 5376 samples\n",
      "Epoch 1/100\n",
      "21504/21504 [==============================] - 3s 150us/step - loss: 0.7792 - accuracy: 0.7835 - val_loss: 0.3735 - val_accuracy: 0.8951\n",
      "Epoch 2/100\n",
      "21504/21504 [==============================] - 5s 221us/step - loss: 0.3479 - accuracy: 0.8990 - val_loss: 0.2872 - val_accuracy: 0.9174\n",
      "Epoch 3/100\n",
      "21504/21504 [==============================] - 4s 165us/step - loss: 0.2841 - accuracy: 0.9150 - val_loss: 0.2450 - val_accuracy: 0.9267\n",
      "Epoch 4/100\n",
      "21504/21504 [==============================] - 6s 273us/step - loss: 0.2585 - accuracy: 0.9251 - val_loss: 0.2440 - val_accuracy: 0.9280\n",
      "Epoch 5/100\n",
      "21504/21504 [==============================] - 5s 238us/step - loss: 0.2319 - accuracy: 0.9303 - val_loss: 0.2261 - val_accuracy: 0.9330\n",
      "Epoch 6/100\n",
      "21504/21504 [==============================] - 5s 234us/step - loss: 0.2191 - accuracy: 0.9323 - val_loss: 0.2149 - val_accuracy: 0.9362\n",
      "Epoch 7/100\n",
      "21504/21504 [==============================] - 6s 300us/step - loss: 0.2026 - accuracy: 0.9386 - val_loss: 0.2159 - val_accuracy: 0.9356\n",
      "Epoch 8/100\n",
      "21504/21504 [==============================] - 5s 244us/step - loss: 0.2010 - accuracy: 0.9383 - val_loss: 0.2357 - val_accuracy: 0.9302\n",
      "Epoch 9/100\n",
      "21504/21504 [==============================] - 3s 150us/step - loss: 0.1882 - accuracy: 0.9408 - val_loss: 0.2182 - val_accuracy: 0.9356\n",
      "Epoch 10/100\n",
      "21504/21504 [==============================] - 1s 56us/step - loss: 0.1838 - accuracy: 0.9440 - val_loss: 0.2046 - val_accuracy: 0.9431\n",
      "Epoch 11/100\n",
      "21504/21504 [==============================] - 1s 55us/step - loss: 0.1776 - accuracy: 0.9448 - val_loss: 0.1983 - val_accuracy: 0.9407\n",
      "Epoch 12/100\n",
      "21504/21504 [==============================] - 1s 58us/step - loss: 0.1731 - accuracy: 0.9449 - val_loss: 0.1965 - val_accuracy: 0.9449\n",
      "Epoch 13/100\n",
      "21504/21504 [==============================] - 1s 57us/step - loss: 0.1650 - accuracy: 0.9488 - val_loss: 0.1990 - val_accuracy: 0.9448\n",
      "Epoch 14/100\n",
      "21504/21504 [==============================] - 1s 55us/step - loss: 0.1635 - accuracy: 0.9468 - val_loss: 0.1998 - val_accuracy: 0.9435\n",
      "Epoch 15/100\n",
      "21504/21504 [==============================] - 1s 56us/step - loss: 0.1567 - accuracy: 0.9513 - val_loss: 0.2011 - val_accuracy: 0.9440\n",
      "Epoch 16/100\n",
      "21504/21504 [==============================] - 1s 62us/step - loss: 0.1579 - accuracy: 0.9494 - val_loss: 0.1998 - val_accuracy: 0.9429\n",
      "Epoch 17/100\n",
      "21504/21504 [==============================] - 1s 56us/step - loss: 0.1552 - accuracy: 0.9501 - val_loss: 0.2021 - val_accuracy: 0.9436\n",
      "Epoch 18/100\n",
      "21504/21504 [==============================] - 1s 56us/step - loss: 0.1533 - accuracy: 0.9519 - val_loss: 0.2176 - val_accuracy: 0.9414\n",
      "Epoch 19/100\n",
      "21504/21504 [==============================] - 1s 63us/step - loss: 0.1424 - accuracy: 0.9539 - val_loss: 0.2036 - val_accuracy: 0.9453\n",
      "Epoch 20/100\n",
      "21504/21504 [==============================] - 1s 55us/step - loss: 0.1468 - accuracy: 0.9532 - val_loss: 0.2089 - val_accuracy: 0.9422\n",
      "Epoch 21/100\n",
      "21504/21504 [==============================] - 1s 56us/step - loss: 0.1382 - accuracy: 0.9555 - val_loss: 0.2012 - val_accuracy: 0.9444\n",
      "Epoch 22/100\n",
      "21504/21504 [==============================] - 1s 56us/step - loss: 0.1364 - accuracy: 0.9561 - val_loss: 0.2027 - val_accuracy: 0.9457\n",
      "Epoch 23/100\n",
      "21504/21504 [==============================] - 1s 57us/step - loss: 0.1350 - accuracy: 0.9567 - val_loss: 0.2146 - val_accuracy: 0.9395\n",
      "Epoch 24/100\n",
      "21504/21504 [==============================] - 1s 62us/step - loss: 0.1331 - accuracy: 0.9577 - val_loss: 0.2173 - val_accuracy: 0.9401\n",
      "Epoch 25/100\n",
      "21504/21504 [==============================] - 1s 56us/step - loss: 0.1331 - accuracy: 0.9565 - val_loss: 0.2161 - val_accuracy: 0.9405\n",
      "Epoch 26/100\n",
      "21504/21504 [==============================] - 1s 55us/step - loss: 0.1290 - accuracy: 0.9592 - val_loss: 0.2165 - val_accuracy: 0.9423\n",
      "Epoch 27/100\n",
      "21504/21504 [==============================] - 1s 56us/step - loss: 0.1266 - accuracy: 0.9589 - val_loss: 0.2135 - val_accuracy: 0.9429\n",
      "Epoch 28/100\n",
      "21504/21504 [==============================] - 1s 56us/step - loss: 0.1225 - accuracy: 0.9606 - val_loss: 0.2055 - val_accuracy: 0.9461\n",
      "Epoch 29/100\n",
      "21504/21504 [==============================] - 1s 61us/step - loss: 0.1249 - accuracy: 0.9597 - val_loss: 0.2029 - val_accuracy: 0.9477\n",
      "Epoch 30/100\n",
      "21504/21504 [==============================] - 1s 59us/step - loss: 0.1212 - accuracy: 0.9611 - val_loss: 0.1999 - val_accuracy: 0.9475\n",
      "Epoch 31/100\n",
      "21504/21504 [==============================] - 1s 56us/step - loss: 0.1179 - accuracy: 0.9619 - val_loss: 0.2223 - val_accuracy: 0.9407\n",
      "Epoch 32/100\n",
      "21504/21504 [==============================] - 1s 56us/step - loss: 0.1244 - accuracy: 0.9589 - val_loss: 0.2075 - val_accuracy: 0.9461\n",
      "Epoch 33/100\n",
      "21504/21504 [==============================] - 1s 56us/step - loss: 0.1208 - accuracy: 0.9601 - val_loss: 0.2062 - val_accuracy: 0.9420\n",
      "Epoch 34/100\n",
      "21504/21504 [==============================] - 1s 56us/step - loss: 0.1186 - accuracy: 0.9607 - val_loss: 0.2198 - val_accuracy: 0.9433\n",
      "Epoch 35/100\n",
      "21504/21504 [==============================] - 1s 66us/step - loss: 0.1170 - accuracy: 0.9607 - val_loss: 0.2154 - val_accuracy: 0.9436\n",
      "Epoch 36/100\n",
      "21504/21504 [==============================] - ETA: 0s - loss: 0.1122 - accuracy: 0.96 - 1s 59us/step - loss: 0.1141 - accuracy: 0.9620 - val_loss: 0.2072 - val_accuracy: 0.9401\n",
      "Epoch 37/100\n",
      "21504/21504 [==============================] - 1s 56us/step - loss: 0.1151 - accuracy: 0.9621 - val_loss: 0.2222 - val_accuracy: 0.9408\n",
      "Epoch 38/100\n",
      "21504/21504 [==============================] - 1s 57us/step - loss: 0.1140 - accuracy: 0.9628 - val_loss: 0.2087 - val_accuracy: 0.9475\n",
      "Epoch 39/100\n",
      "21504/21504 [==============================] - 1s 57us/step - loss: 0.1120 - accuracy: 0.9613 - val_loss: 0.2154 - val_accuracy: 0.9422\n"
     ]
    }
   ],
   "source": [
    "history = model_fc16.fit(X_train, y_train, validation_split = 0.2, epochs = 100, callbacks = [early_stopping])"
   ]
  },
  {
   "cell_type": "code",
   "execution_count": 232,
   "metadata": {
    "ExecuteTime": {
     "end_time": "2020-04-18T23:10:05.116470Z",
     "start_time": "2020-04-18T23:10:05.005684Z"
    }
   },
   "outputs": [
    {
     "data": {
      "image/png": "[encoded data removed]",
      "text/plain": [
       "<Figure size 576x288 with 1 Axes>"
      ]
     },
     "metadata": {
      "needs_background": "light"
     },
     "output_type": "display_data"
    }
   ],
   "source": [
    "fig = plt.figure(figsize = (8,4))\n",
    "ax1= plt.plot(history.history[\"accuracy\"], label = \"training\")\n",
    "ax2 = plt.plot(history.history[\"val_accuracy\"], label = \"validation\")\n",
    "plt.legend(loc=\"upper left\")\n",
    "plt.xlabel(\"Epochs\")\n",
    "plt.ylim(0.75,1)\n",
    "plt.ylabel(\"Accuracy\")\n",
    "plt.title(\"Training accuracy and Validation accuracy by epochs\");"
   ]
  },
  {
   "cell_type": "code",
   "execution_count": 240,
   "metadata": {
    "ExecuteTime": {
     "end_time": "2020-04-18T23:23:54.771402Z",
     "start_time": "2020-04-18T23:23:54.472103Z"
    }
   },
   "outputs": [
    {
     "name": "stdout",
     "output_type": "stream",
     "text": [
      "6720/6720 [==============================] - 0s 41us/step\n"
     ]
    }
   ],
   "source": [
    "test_accuracy = model_fc16.evaluate(X_test, y_test)[1]"
   ]
  },
  {
   "cell_type": "code",
   "execution_count": 241,
   "metadata": {
    "ExecuteTime": {
     "end_time": "2020-04-18T23:23:57.259959Z",
     "start_time": "2020-04-18T23:23:57.255188Z"
    }
   },
   "outputs": [],
   "source": [
    "Summary_table  = Summary_table.append({\"model\": \"NN 2 HL,16 nodes\", \"Test accuracy\": test_accuracy }, ignore_index = True)"
   ]
  },
  {
   "cell_type": "code",
   "execution_count": 243,
   "metadata": {
    "ExecuteTime": {
     "end_time": "2020-04-18T23:26:43.593968Z",
     "start_time": "2020-04-18T23:26:43.577924Z"
    }
   },
   "outputs": [
    {
     "data": {
      "text/html": [
       "<div>\n",
       "<style scoped>\n",
       "    .dataframe tbody tr th:only-of-type {\n",
       "        vertical-align: middle;\n",
       "    }\n",
       "\n",
       "    .dataframe tbody tr th {\n",
       "        vertical-align: top;\n",
       "    }\n",
       "\n",
       "    .dataframe thead th {\n",
       "        text-align: right;\n",
       "    }\n",
       "</style>\n",
       "<table border=\"1\" class=\"dataframe\">\n",
       "  <thead>\n",
       "    <tr style=\"text-align: right;\">\n",
       "      <th></th>\n",
       "      <th>model</th>\n",
       "      <th>Test accuracy</th>\n",
       "    </tr>\n",
       "  </thead>\n",
       "  <tbody>\n",
       "    <tr>\n",
       "      <th>0</th>\n",
       "      <td>Logistic Regression</td>\n",
       "      <td>0.917708</td>\n",
       "    </tr>\n",
       "    <tr>\n",
       "      <th>1</th>\n",
       "      <td>Shallow NN</td>\n",
       "      <td>0.884673</td>\n",
       "    </tr>\n",
       "    <tr>\n",
       "      <th>2</th>\n",
       "      <td>NN 2 HL,5 nodes</td>\n",
       "      <td>0.875595</td>\n",
       "    </tr>\n",
       "    <tr>\n",
       "      <th>3</th>\n",
       "      <td>NN 2 HL,16 nodes</td>\n",
       "      <td>0.939435</td>\n",
       "    </tr>\n",
       "  </tbody>\n",
       "</table>\n",
       "</div>"
      ],
      "text/plain": [
       "                 model  Test accuracy\n",
       "0  Logistic Regression       0.917708\n",
       "1           Shallow NN       0.884673\n",
       "2      NN 2 HL,5 nodes       0.875595\n",
       "3     NN 2 HL,16 nodes       0.939435"
      ]
     },
     "execution_count": 243,
     "metadata": {},
     "output_type": "execute_result"
    }
   ],
   "source": [
    "Summary_table"
   ]
  },
  {
   "cell_type": "markdown",
   "metadata": {},
   "source": [
    "Observations:\n",
    "- Bayes error : 0 (Humans can perfectly identify)\n",
    "- Training error : 0.04\n",
    "- Test accuracy: 0.06\n",
    "\n",
    "We have successfully reduced the bias but there still is 0.04 reducable bias which can be tackled with **more complex model**"
   ]
  },
  {
   "cell_type": "markdown",
   "metadata": {},
   "source": [
    "## Optimizing Fully Connected Neural Network\n",
    "Based on our observation so far, we can optimize the neural network with hyperparamters tuning:\n",
    "- Optimizer: Stochastic Gradient Descent and Adam\n",
    "- Nodes: 16, 32, 64, 128\n",
    "- Hidden Layers: 2,3,4\n",
    "- Activation function: relu, tanh"
   ]
  },
  {
   "cell_type": "code",
   "execution_count": 274,
   "metadata": {
    "ExecuteTime": {
     "end_time": "2020-04-18T23:56:42.053389Z",
     "start_time": "2020-04-18T23:56:42.043996Z"
    }
   },
   "outputs": [],
   "source": [
    "def create_model(optimizer =\"adam\", hl = 2, nodes = 16, activation = \"relu\"):\n",
    "    model = Sequential()\n",
    "    model.add(Dense(nodes, input_shape = (784,), activation = activation))\n",
    "    l=1\n",
    "    while(l < hl):\n",
    "        model.add(Dense(nodes,activation = activation))\n",
    "        model.add(BatchNormalization())\n",
    "        l+=1\n",
    "    model.add(Dense(10, activation = \"softmax\"))\n",
    "    model.compile(optimizer = optimizer, loss = \"categorical_crossentropy\",metrics = [\"accuracy\"])\n",
    "    return model"
   ]
  },
  {
   "cell_type": "code",
   "execution_count": 288,
   "metadata": {
    "ExecuteTime": {
     "end_time": "2020-04-19T00:08:21.000413Z",
     "start_time": "2020-04-19T00:08:20.995692Z"
    }
   },
   "outputs": [],
   "source": [
    "NN_parameters = {\"optimizer\":[\"sgd\", \"adam\"], \"hl\":[2,3,4], \"nodes\":[16,32,64,128], \"activation\":[\"relu\",\"tanh\"]}"
   ]
  },
  {
   "cell_type": "code",
   "execution_count": 291,
   "metadata": {
    "ExecuteTime": {
     "end_time": "2020-04-19T00:08:56.946760Z",
     "start_time": "2020-04-19T00:08:56.938751Z"
    }
   },
   "outputs": [],
   "source": [
    "model = KerasClassifier(build_fn = create_model, epochs = 10)"
   ]
  },
  {
   "cell_type": "code",
   "execution_count": 294,
   "metadata": {
    "ExecuteTime": {
     "end_time": "2020-04-19T00:09:20.595067Z",
     "start_time": "2020-04-19T00:09:20.588281Z"
    }
   },
   "outputs": [],
   "source": [
    "RS_CV = RandomizedSearchCV(model, n_iter = 10, param_distributions = NN_parameters, cv = 3)"
   ]
  },
  {
   "cell_type": "code",
   "execution_count": 295,
   "metadata": {
    "ExecuteTime": {
     "end_time": "2020-04-19T00:16:16.215150Z",
     "start_time": "2020-04-19T00:09:21.813381Z"
    }
   },
   "outputs": [
    {
     "name": "stdout",
     "output_type": "stream",
     "text": [
      "Epoch 1/10\n",
      "17920/17920 [==============================] - 3s 194us/step - loss: 0.3534 - accuracy: 0.8921\n",
      "Epoch 2/10\n",
      "17920/17920 [==============================] - 1s 76us/step - loss: 0.1902 - accuracy: 0.9422\n",
      "Epoch 3/10\n",
      "17920/17920 [==============================] - 1s 76us/step - loss: 0.1380 - accuracy: 0.9559\n",
      "Epoch 4/10\n",
      "17920/17920 [==============================] - 1s 75us/step - loss: 0.1062 - accuracy: 0.9658\n",
      "Epoch 5/10\n",
      "17920/17920 [==============================] - 1s 75us/step - loss: 0.0923 - accuracy: 0.9715\n",
      "Epoch 6/10\n",
      "17920/17920 [==============================] - ETA: 0s - loss: 0.0766 - accuracy: 0.97 - 1s 80us/step - loss: 0.0773 - accuracy: 0.9753\n",
      "Epoch 7/10\n",
      "17920/17920 [==============================] - 1s 83us/step - loss: 0.0627 - accuracy: 0.9792\n",
      "Epoch 8/10\n",
      "17920/17920 [==============================] - 2s 84us/step - loss: 0.0603 - accuracy: 0.9802\n",
      "Epoch 9/10\n",
      "17920/17920 [==============================] - 1s 83us/step - loss: 0.0488 - accuracy: 0.9835\n",
      "Epoch 10/10\n",
      "17920/17920 [==============================] - 1s 83us/step - loss: 0.0468 - accuracy: 0.9842\n",
      "8960/8960 [==============================] - 0s 30us/step\n",
      "Epoch 1/10\n",
      "17920/17920 [==============================] - 2s 113us/step - loss: 0.3748 - accuracy: 0.8857\n",
      "Epoch 2/10\n",
      "17920/17920 [==============================] - 2s 97us/step - loss: 0.1912 - accuracy: 0.9412\n",
      "Epoch 3/10\n",
      "17920/17920 [==============================] - 2s 97us/step - loss: 0.1358 - accuracy: 0.9574\n",
      "Epoch 4/10\n",
      "17920/17920 [==============================] - 2s 97us/step - loss: 0.1101 - accuracy: 0.9640\n",
      "Epoch 5/10\n",
      "17920/17920 [==============================] - 2s 97us/step - loss: 0.0862 - accuracy: 0.9724\n",
      "Epoch 6/10\n",
      "17920/17920 [==============================] - 2s 97us/step - loss: 0.0713 - accuracy: 0.9765\n",
      "Epoch 7/10\n",
      "17920/17920 [==============================] - 2s 98us/step - loss: 0.0665 - accuracy: 0.9777\n",
      "Epoch 8/10\n",
      "17920/17920 [==============================] - 2s 97us/step - loss: 0.0564 - accuracy: 0.9819\n",
      "Epoch 9/10\n",
      "17920/17920 [==============================] - 2s 97us/step - loss: 0.0527 - accuracy: 0.9824\n",
      "Epoch 10/10\n",
      "17920/17920 [==============================] - 2s 98us/step - loss: 0.0427 - accuracy: 0.9856\n",
      "8960/8960 [==============================] - 0s 30us/step\n",
      "Epoch 1/10\n",
      "17920/17920 [==============================] - 2s 122us/step - loss: 0.3718 - accuracy: 0.8858\n",
      "Epoch 2/10\n",
      "17920/17920 [==============================] - 2s 104us/step - loss: 0.1892 - accuracy: 0.9420\n",
      "Epoch 3/10\n",
      "17920/17920 [==============================] - 2s 103us/step - loss: 0.1359 - accuracy: 0.9584\n",
      "Epoch 4/10\n",
      "17920/17920 [==============================] - 2s 104us/step - loss: 0.1047 - accuracy: 0.9652\n",
      "Epoch 5/10\n",
      "17920/17920 [==============================] - 2s 103us/step - loss: 0.0932 - accuracy: 0.9693\n",
      "Epoch 6/10\n",
      "17920/17920 [==============================] - 2s 102us/step - loss: 0.0736 - accuracy: 0.9745\n",
      "Epoch 7/10\n",
      "17920/17920 [==============================] - 2s 104us/step - loss: 0.0672 - accuracy: 0.9767\n",
      "Epoch 8/10\n",
      "17920/17920 [==============================] - 2s 103us/step - loss: 0.0517 - accuracy: 0.9825\n",
      "Epoch 9/10\n",
      "17920/17920 [==============================] - 2s 103us/step - loss: 0.0540 - accuracy: 0.9830\n",
      "Epoch 10/10\n",
      "17920/17920 [==============================] - 2s 102us/step - loss: 0.0372 - accuracy: 0.9875\n",
      "8960/8960 [==============================] - 0s 33us/step\n",
      "Epoch 1/10\n",
      "17920/17920 [==============================] - 1s 68us/step - loss: 0.8952 - accuracy: 0.7469\n",
      "Epoch 2/10\n",
      "17920/17920 [==============================] - 1s 55us/step - loss: 0.4460 - accuracy: 0.8747\n",
      "Epoch 3/10\n",
      "17920/17920 [==============================] - 1s 56us/step - loss: 0.3569 - accuracy: 0.8984\n",
      "Epoch 4/10\n",
      "17920/17920 [==============================] - 1s 54us/step - loss: 0.3088 - accuracy: 0.9098\n",
      "Epoch 5/10\n",
      "17920/17920 [==============================] - 1s 54us/step - loss: 0.2806 - accuracy: 0.9195\n",
      "Epoch 6/10\n",
      "17920/17920 [==============================] - 1s 54us/step - loss: 0.2531 - accuracy: 0.9252\n",
      "Epoch 7/10\n",
      "17920/17920 [==============================] - 1s 54us/step - loss: 0.2334 - accuracy: 0.9306\n",
      "Epoch 8/10\n",
      "17920/17920 [==============================] - 1s 54us/step - loss: 0.2238 - accuracy: 0.9346\n",
      "Epoch 9/10\n",
      "17920/17920 [==============================] - 1s 56us/step - loss: 0.2124 - accuracy: 0.9359\n",
      "Epoch 10/10\n",
      "17920/17920 [==============================] - 1s 55us/step - loss: 0.1978 - accuracy: 0.9414 \n",
      "8960/8960 [==============================] - 0s 26us/step\n",
      "Epoch 1/10\n",
      "17920/17920 [==============================] - 1s 69us/step - loss: 0.9353 - accuracy: 0.7354\n",
      "Epoch 2/10\n",
      "17920/17920 [==============================] - 1s 55us/step - loss: 0.4695 - accuracy: 0.8758 \n",
      "Epoch 3/10\n",
      "17920/17920 [==============================] - 1s 54us/step - loss: 0.3653 - accuracy: 0.8974\n",
      "Epoch 4/10\n",
      "17920/17920 [==============================] - 1s 54us/step - loss: 0.3153 - accuracy: 0.9111\n",
      "Epoch 5/10\n",
      "17920/17920 [==============================] - 1s 54us/step - loss: 0.2749 - accuracy: 0.9210\n",
      "Epoch 6/10\n",
      "17920/17920 [==============================] - 1s 54us/step - loss: 0.2579 - accuracy: 0.9265\n",
      "Epoch 7/10\n",
      "17920/17920 [==============================] - 1s 54us/step - loss: 0.2365 - accuracy: 0.9323\n",
      "Epoch 8/10\n",
      "17920/17920 [==============================] - 1s 55us/step - loss: 0.2219 - accuracy: 0.9350\n",
      "Epoch 9/10\n",
      "17920/17920 [==============================] - 1s 54us/step - loss: 0.2074 - accuracy: 0.9399\n",
      "Epoch 10/10\n",
      "17920/17920 [==============================] - 1s 54us/step - loss: 0.1992 - accuracy: 0.9409 0s - loss: 0.1997 - accuracy: 0.\n",
      "8960/8960 [==============================] - 0s 26us/step\n",
      "Epoch 1/10\n",
      "17920/17920 [==============================] - 1s 69us/step - loss: 0.8993 - accuracy: 0.7402 0s - loss: 1.1\n",
      "Epoch 2/10\n",
      "17920/17920 [==============================] - 1s 54us/step - loss: 0.4578 - accuracy: 0.8739\n",
      "Epoch 3/10\n",
      "17920/17920 [==============================] - 1s 54us/step - loss: 0.3583 - accuracy: 0.8999 0s - loss: 0.3612 - accura\n",
      "Epoch 4/10\n",
      "17920/17920 [==============================] - 1s 54us/step - loss: 0.3190 - accuracy: 0.9059 0s - loss: 0.3217 - accuracy: \n",
      "Epoch 5/10\n",
      "17920/17920 [==============================] - 1s 54us/step - loss: 0.2843 - accuracy: 0.9180\n",
      "Epoch 6/10\n",
      "17920/17920 [==============================] - 1s 54us/step - loss: 0.2535 - accuracy: 0.9249\n",
      "Epoch 7/10\n",
      "17920/17920 [==============================] - 1s 55us/step - loss: 0.2416 - accuracy: 0.9288\n",
      "Epoch 8/10\n",
      "17920/17920 [==============================] - 1s 56us/step - loss: 0.2201 - accuracy: 0.9340\n",
      "Epoch 9/10\n",
      "17920/17920 [==============================] - 1s 55us/step - loss: 0.2137 - accuracy: 0.9379\n",
      "Epoch 10/10\n",
      "17920/17920 [==============================] - 1s 54us/step - loss: 0.1971 - accuracy: 0.9396\n",
      "8960/8960 [==============================] - 0s 26us/step\n",
      "Epoch 1/10\n",
      "17920/17920 [==============================] - 1s 54us/step - loss: 0.7411 - accuracy: 0.7973\n",
      "Epoch 2/10\n",
      "17920/17920 [==============================] - 1s 46us/step - loss: 0.3078 - accuracy: 0.9147\n",
      "Epoch 3/10\n",
      "17920/17920 [==============================] - 1s 46us/step - loss: 0.2376 - accuracy: 0.9309\n",
      "Epoch 4/10\n",
      "17920/17920 [==============================] - 1s 46us/step - loss: 0.1995 - accuracy: 0.9411\n",
      "Epoch 5/10\n",
      "17920/17920 [==============================] - 1s 46us/step - loss: 0.1787 - accuracy: 0.9464 0s - loss: 0.1764 - \n",
      "Epoch 6/10\n",
      "17920/17920 [==============================] - 1s 46us/step - loss: 0.1648 - accuracy: 0.9506\n",
      "Epoch 7/10\n",
      "17920/17920 [==============================] - 1s 46us/step - loss: 0.1525 - accuracy: 0.9555\n",
      "Epoch 8/10\n",
      "17920/17920 [==============================] - 1s 53us/step - loss: 0.1409 - accuracy: 0.9567\n",
      "Epoch 9/10\n",
      "17920/17920 [==============================] - 1s 47us/step - loss: 0.1344 - accuracy: 0.9584\n",
      "Epoch 10/10\n",
      "17920/17920 [==============================] - 1s 46us/step - loss: 0.1270 - accuracy: 0.9618\n",
      "8960/8960 [==============================] - 0s 20us/step\n",
      "Epoch 1/10\n",
      "17920/17920 [==============================] - 1s 54us/step - loss: 0.7901 - accuracy: 0.7823\n",
      "Epoch 2/10\n",
      "17920/17920 [==============================] - 1s 46us/step - loss: 0.3410 - accuracy: 0.9071\n",
      "Epoch 3/10\n"
     ]
    },
    {
     "name": "stdout",
     "output_type": "stream",
     "text": [
      "17920/17920 [==============================] - 1s 45us/step - loss: 0.2577 - accuracy: 0.9239\n",
      "Epoch 4/10\n",
      "17920/17920 [==============================] - 1s 44us/step - loss: 0.2212 - accuracy: 0.9366 0s - loss: 0.2250 - accuracy: \n",
      "Epoch 5/10\n",
      "17920/17920 [==============================] - 1s 44us/step - loss: 0.1994 - accuracy: 0.9422 0s - loss: 0.1989 - accuracy: \n",
      "Epoch 6/10\n",
      "17920/17920 [==============================] - 1s 44us/step - loss: 0.1828 - accuracy: 0.9454\n",
      "Epoch 7/10\n",
      "17920/17920 [==============================] - 1s 44us/step - loss: 0.1658 - accuracy: 0.9498\n",
      "Epoch 8/10\n",
      "17920/17920 [==============================] - 1s 44us/step - loss: 0.1586 - accuracy: 0.9529\n",
      "Epoch 9/10\n",
      "17920/17920 [==============================] - 1s 44us/step - loss: 0.1484 - accuracy: 0.9555\n",
      "Epoch 10/10\n",
      "17920/17920 [==============================] - 1s 45us/step - loss: 0.1350 - accuracy: 0.9593\n",
      "8960/8960 [==============================] - 0s 21us/step\n",
      "Epoch 1/10\n",
      "17920/17920 [==============================] - 1s 52us/step - loss: 0.8061 - accuracy: 0.7713\n",
      "Epoch 2/10\n",
      "17920/17920 [==============================] - 1s 45us/step - loss: 0.3020 - accuracy: 0.9145\n",
      "Epoch 3/10\n",
      "17920/17920 [==============================] - 1s 44us/step - loss: 0.2277 - accuracy: 0.9350\n",
      "Epoch 4/10\n",
      "17920/17920 [==============================] - 1s 44us/step - loss: 0.1887 - accuracy: 0.9456 0s - loss: 0.1700 - accuracy - ETA: 0s - loss: 0.1\n",
      "Epoch 5/10\n",
      "17920/17920 [==============================] - 1s 44us/step - loss: 0.1702 - accuracy: 0.9507\n",
      "Epoch 6/10\n",
      "17920/17920 [==============================] - 1s 44us/step - loss: 0.1513 - accuracy: 0.9542\n",
      "Epoch 7/10\n",
      "17920/17920 [==============================] - 1s 44us/step - loss: 0.1409 - accuracy: 0.9586\n",
      "Epoch 8/10\n",
      "17920/17920 [==============================] - 1s 45us/step - loss: 0.1263 - accuracy: 0.9636\n",
      "Epoch 9/10\n",
      "17920/17920 [==============================] - 1s 44us/step - loss: 0.1167 - accuracy: 0.9641\n",
      "Epoch 10/10\n",
      "17920/17920 [==============================] - 1s 44us/step - loss: 0.1091 - accuracy: 0.9674\n",
      "8960/8960 [==============================] - 0s 20us/step\n",
      "Epoch 1/10\n",
      "17920/17920 [==============================] - 2s 93us/step - loss: 0.3604 - accuracy: 0.8891\n",
      "Epoch 2/10\n",
      "17920/17920 [==============================] - 1s 81us/step - loss: 0.1819 - accuracy: 0.9451\n",
      "Epoch 3/10\n",
      "17920/17920 [==============================] - 1s 80us/step - loss: 0.1250 - accuracy: 0.9609\n",
      "Epoch 4/10\n",
      "17920/17920 [==============================] - 1s 80us/step - loss: 0.0913 - accuracy: 0.9717\n",
      "Epoch 5/10\n",
      "17920/17920 [==============================] - 1s 80us/step - loss: 0.0749 - accuracy: 0.9756\n",
      "Epoch 6/10\n",
      "17920/17920 [==============================] - 1s 80us/step - loss: 0.0567 - accuracy: 0.9814 0s - loss: 0.0579 - accuracy: 0.\n",
      "Epoch 7/10\n",
      "17920/17920 [==============================] - 1s 82us/step - loss: 0.0484 - accuracy: 0.9842\n",
      "Epoch 8/10\n",
      "17920/17920 [==============================] - 2s 85us/step - loss: 0.0466 - accuracy: 0.9843 0s - loss: 0.042\n",
      "Epoch 9/10\n",
      "17920/17920 [==============================] - 2s 84us/step - loss: 0.0388 - accuracy: 0.9865 0s - loss: 0.0 - ETA: 0s - loss: 0.0398 - accuracy: 0.\n",
      "Epoch 10/10\n",
      "17920/17920 [==============================] - 2s 84us/step - loss: 0.0377 - accuracy: 0.9875\n",
      "8960/8960 [==============================] - 0s 29us/step\n",
      "Epoch 1/10\n",
      "17920/17920 [==============================] - 2s 94us/step - loss: 0.3749 - accuracy: 0.8864\n",
      "Epoch 2/10\n",
      "17920/17920 [==============================] - 1s 82us/step - loss: 0.1856 - accuracy: 0.9426\n",
      "Epoch 3/10\n",
      "17920/17920 [==============================] - 1s 83us/step - loss: 0.1342 - accuracy: 0.9576 0s - loss: 0.1339 -  - ETA: 0s - loss: 0.1349 - accuracy: 0.\n",
      "Epoch 4/10\n",
      "17920/17920 [==============================] - 1s 82us/step - loss: 0.0989 - accuracy: 0.9688\n",
      "Epoch 5/10\n",
      "17920/17920 [==============================] - 1s 83us/step - loss: 0.0795 - accuracy: 0.9756\n",
      "Epoch 6/10\n",
      "17920/17920 [==============================] - 1s 82us/step - loss: 0.0624 - accuracy: 0.9790\n",
      "Epoch 7/10\n",
      "17920/17920 [==============================] - 1s 83us/step - loss: 0.0543 - accuracy: 0.9818\n",
      "Epoch 8/10\n",
      "17920/17920 [==============================] - 1s 82us/step - loss: 0.0464 - accuracy: 0.9843\n",
      "Epoch 9/10\n",
      "17920/17920 [==============================] - 1s 82us/step - loss: 0.0415 - accuracy: 0.9866\n",
      "Epoch 10/10\n",
      "17920/17920 [==============================] - 1s 83us/step - loss: 0.0332 - accuracy: 0.9896\n",
      "8960/8960 [==============================] - 0s 28us/step\n",
      "Epoch 1/10\n",
      "17920/17920 [==============================] - 2s 95us/step - loss: 0.3670 - accuracy: 0.8846\n",
      "Epoch 2/10\n",
      "17920/17920 [==============================] - 2s 84us/step - loss: 0.1816 - accuracy: 0.9452\n",
      "Epoch 3/10\n",
      "17920/17920 [==============================] - 2s 84us/step - loss: 0.1261 - accuracy: 0.9608 0s - los\n",
      "Epoch 4/10\n",
      "17920/17920 [==============================] - 2s 85us/step - loss: 0.0947 - accuracy: 0.9712\n",
      "Epoch 5/10\n",
      "17920/17920 [==============================] - 2s 85us/step - loss: 0.0758 - accuracy: 0.9757\n",
      "Epoch 6/10\n",
      "17920/17920 [==============================] - 2s 85us/step - loss: 0.0649 - accuracy: 0.9782\n",
      "Epoch 7/10\n",
      "17920/17920 [==============================] - 2s 85us/step - loss: 0.0457 - accuracy: 0.9858 0s - loss: 0.0454 - accuracy: 0.98\n",
      "Epoch 8/10\n",
      "17920/17920 [==============================] - 2s 85us/step - loss: 0.0385 - accuracy: 0.9884\n",
      "Epoch 9/10\n",
      "17920/17920 [==============================] - 2s 85us/step - loss: 0.0438 - accuracy: 0.9850\n",
      "Epoch 10/10\n",
      "17920/17920 [==============================] - 2s 85us/step - loss: 0.0388 - accuracy: 0.9862\n",
      "8960/8960 [==============================] - 0s 30us/step\n",
      "Epoch 1/10\n",
      "17920/17920 [==============================] - 1s 68us/step - loss: 0.6006 - accuracy: 0.8283\n",
      "Epoch 2/10\n",
      "17920/17920 [==============================] - 1s 56us/step - loss: 0.2703 - accuracy: 0.9203\n",
      "Epoch 3/10\n",
      "17920/17920 [==============================] - 1s 55us/step - loss: 0.2052 - accuracy: 0.9379\n",
      "Epoch 4/10\n",
      "17920/17920 [==============================] - 1s 57us/step - loss: 0.1716 - accuracy: 0.9489 \n",
      "Epoch 5/10\n",
      "17920/17920 [==============================] - 1s 56us/step - loss: 0.1441 - accuracy: 0.9570\n",
      "Epoch 6/10\n",
      "17920/17920 [==============================] - 1s 55us/step - loss: 0.1209 - accuracy: 0.9642\n",
      "Epoch 7/10\n",
      "17920/17920 [==============================] - 1s 56us/step - loss: 0.1095 - accuracy: 0.9661\n",
      "Epoch 8/10\n",
      "17920/17920 [==============================] - 1s 57us/step - loss: 0.0983 - accuracy: 0.9689 0s - loss:\n",
      "Epoch 9/10\n",
      "17920/17920 [==============================] - 1s 56us/step - loss: 0.0899 - accuracy: 0.9719 0s - loss:\n",
      "Epoch 10/10\n",
      "17920/17920 [==============================] - 1s 55us/step - loss: 0.0843 - accuracy: 0.9740\n",
      "8960/8960 [==============================] - 0s 23us/step\n",
      "Epoch 1/10\n",
      "17920/17920 [==============================] - 1s 69us/step - loss: 0.6405 - accuracy: 0.8127\n",
      "Epoch 2/10\n",
      "17920/17920 [==============================] - 1s 56us/step - loss: 0.2736 - accuracy: 0.9181\n",
      "Epoch 3/10\n",
      "17920/17920 [==============================] - 1s 55us/step - loss: 0.2127 - accuracy: 0.9357\n",
      "Epoch 4/10\n",
      "17920/17920 [==============================] - 1s 57us/step - loss: 0.1784 - accuracy: 0.9451 1s - loss: 0.2053 - accuracy: 0.93 - ETA: \n",
      "Epoch 5/10\n",
      "17920/17920 [==============================] - ETA: 0s - loss: 0.1544 - accuracy: 0.95 - 1s 56us/step - loss: 0.1547 - accuracy: 0.9531\n",
      "Epoch 6/10\n",
      "17920/17920 [==============================] - 1s 56us/step - loss: 0.1373 - accuracy: 0.9581\n",
      "Epoch 7/10\n",
      "17920/17920 [==============================] - 1s 60us/step - loss: 0.1218 - accuracy: 0.9623\n",
      "Epoch 8/10\n",
      "17920/17920 [==============================] - 1s 57us/step - loss: 0.1066 - accuracy: 0.9664\n",
      "Epoch 9/10\n",
      "17920/17920 [==============================] - 1s 56us/step - loss: 0.1020 - accuracy: 0.9666\n",
      "Epoch 10/10\n",
      "17920/17920 [==============================] - ETA: 0s - loss: 0.0914 - accuracy: 0.97 - 1s 57us/step - loss: 0.0917 - accuracy: 0.9708\n",
      "8960/8960 [==============================] - 0s 23us/step\n",
      "Epoch 1/10\n",
      "17920/17920 [==============================] - 1s 70us/step - loss: 0.6090 - accuracy: 0.8208\n",
      "Epoch 2/10\n"
     ]
    },
    {
     "name": "stdout",
     "output_type": "stream",
     "text": [
      "17920/17920 [==============================] - 1s 57us/step - loss: 0.2469 - accuracy: 0.9265\n",
      "Epoch 3/10\n",
      "17920/17920 [==============================] - 1s 55us/step - loss: 0.1797 - accuracy: 0.9469\n",
      "Epoch 4/10\n",
      "17920/17920 [==============================] - 1s 56us/step - loss: 0.1492 - accuracy: 0.9539\n",
      "Epoch 5/10\n",
      "17920/17920 [==============================] - 1s 55us/step - loss: 0.1235 - accuracy: 0.9613\n",
      "Epoch 6/10\n",
      "17920/17920 [==============================] - 1s 56us/step - loss: 0.1164 - accuracy: 0.9641\n",
      "Epoch 7/10\n",
      "17920/17920 [==============================] - 1s 55us/step - loss: 0.0964 - accuracy: 0.9695\n",
      "Epoch 8/10\n",
      "17920/17920 [==============================] - 1s 56us/step - loss: 0.0858 - accuracy: 0.9727 0s -\n",
      "Epoch 9/10\n",
      "17920/17920 [==============================] - 1s 54us/step - loss: 0.0722 - accuracy: 0.9771\n",
      "Epoch 10/10\n",
      "17920/17920 [==============================] - 1s 55us/step - loss: 0.0758 - accuracy: 0.9753\n",
      "8960/8960 [==============================] - 0s 26us/step\n",
      "Epoch 1/10\n",
      "17920/17920 [==============================] - 1s 72us/step - loss: 1.0260 - accuracy: 0.6848\n",
      "Epoch 2/10\n",
      "17920/17920 [==============================] - 1s 59us/step - loss: 0.4210 - accuracy: 0.8789\n",
      "Epoch 3/10\n",
      "17920/17920 [==============================] - 1s 57us/step - loss: 0.3090 - accuracy: 0.9085\n",
      "Epoch 4/10\n",
      "17920/17920 [==============================] - 1s 52us/step - loss: 0.2598 - accuracy: 0.9244\n",
      "Epoch 5/10\n",
      "17920/17920 [==============================] - 1s 52us/step - loss: 0.2267 - accuracy: 0.9321\n",
      "Epoch 6/10\n",
      "17920/17920 [==============================] - 1s 53us/step - loss: 0.2022 - accuracy: 0.9390\n",
      "Epoch 7/10\n",
      "17920/17920 [==============================] - 1s 52us/step - loss: 0.1862 - accuracy: 0.9432 0s - loss: 0.1908 - \n",
      "Epoch 8/10\n",
      "17920/17920 [==============================] - 1s 53us/step - loss: 0.1753 - accuracy: 0.9474\n",
      "Epoch 9/10\n",
      "17920/17920 [==============================] - 1s 53us/step - loss: 0.1623 - accuracy: 0.9501 0s -\n",
      "Epoch 10/10\n",
      "17920/17920 [==============================] - 1s 52us/step - loss: 0.1563 - accuracy: 0.9512\n",
      "8960/8960 [==============================] - 0s 22us/step\n",
      "Epoch 1/10\n",
      "17920/17920 [==============================] - 1s 69us/step - loss: 1.0005 - accuracy: 0.6974\n",
      "Epoch 2/10\n",
      "17920/17920 [==============================] - 1s 55us/step - loss: 0.4457 - accuracy: 0.8673\n",
      "Epoch 3/10\n",
      "17920/17920 [==============================] - 1s 55us/step - loss: 0.3353 - accuracy: 0.8994\n",
      "Epoch 4/10\n",
      "17920/17920 [==============================] - 1s 55us/step - loss: 0.2838 - accuracy: 0.9145\n",
      "Epoch 5/10\n",
      "17920/17920 [==============================] - 1s 55us/step - loss: 0.2509 - accuracy: 0.9273\n",
      "Epoch 6/10\n",
      "17920/17920 [==============================] - 1s 55us/step - loss: 0.2382 - accuracy: 0.9263 0s\n",
      "Epoch 7/10\n",
      "17920/17920 [==============================] - 1s 55us/step - loss: 0.2149 - accuracy: 0.9350\n",
      "Epoch 8/10\n",
      "17920/17920 [==============================] - 1s 55us/step - loss: 0.1991 - accuracy: 0.9392\n",
      "Epoch 9/10\n",
      "17920/17920 [==============================] - 1s 55us/step - loss: 0.1906 - accuracy: 0.9410\n",
      "Epoch 10/10\n",
      "17920/17920 [==============================] - 1s 55us/step - loss: 0.1858 - accuracy: 0.9445\n",
      "8960/8960 [==============================] - 0s 24us/step\n",
      "Epoch 1/10\n",
      "17920/17920 [==============================] - 1s 67us/step - loss: 1.0076 - accuracy: 0.6901\n",
      "Epoch 2/10\n",
      "17920/17920 [==============================] - 1s 54us/step - loss: 0.4156 - accuracy: 0.8826\n",
      "Epoch 3/10\n",
      "17920/17920 [==============================] - 1s 54us/step - loss: 0.3055 - accuracy: 0.9127\n",
      "Epoch 4/10\n",
      "17920/17920 [==============================] - 1s 55us/step - loss: 0.2641 - accuracy: 0.9249 0s - los\n",
      "Epoch 5/10\n",
      "17920/17920 [==============================] - 1s 55us/step - loss: 0.2306 - accuracy: 0.9301\n",
      "Epoch 6/10\n",
      "17920/17920 [==============================] - 1s 55us/step - loss: 0.2150 - accuracy: 0.9363 0s - loss: 0.2152 - accuracy: 0.93\n",
      "Epoch 7/10\n",
      "17920/17920 [==============================] - 1s 54us/step - loss: 0.1972 - accuracy: 0.9415\n",
      "Epoch 8/10\n",
      "17920/17920 [==============================] - 1s 57us/step - loss: 0.1885 - accuracy: 0.9426 0s -\n",
      "Epoch 9/10\n",
      "17920/17920 [==============================] - 1s 55us/step - loss: 0.1724 - accuracy: 0.9493 0s - loss: 0.1709 - accuracy: 0.\n",
      "Epoch 10/10\n",
      "17920/17920 [==============================] - 1s 54us/step - loss: 0.1661 - accuracy: 0.9504\n",
      "8960/8960 [==============================] - 0s 23us/step\n",
      "Epoch 1/10\n",
      "17920/17920 [==============================] - 1s 67us/step - loss: 0.6464 - accuracy: 0.8213\n",
      "Epoch 2/10\n",
      "17920/17920 [==============================] - 1s 54us/step - loss: 0.2933 - accuracy: 0.9140\n",
      "Epoch 3/10\n",
      "17920/17920 [==============================] - 1s 53us/step - loss: 0.2365 - accuracy: 0.9296 0s - loss: 0.2373 - accuracy: 0.\n",
      "Epoch 4/10\n",
      "17920/17920 [==============================] - 1s 54us/step - loss: 0.2005 - accuracy: 0.9390\n",
      "Epoch 5/10\n",
      "17920/17920 [==============================] - 1s 55us/step - loss: 0.1806 - accuracy: 0.9455\n",
      "Epoch 6/10\n",
      "17920/17920 [==============================] - 1s 55us/step - loss: 0.1670 - accuracy: 0.9493\n",
      "Epoch 7/10\n",
      "17920/17920 [==============================] - 1s 56us/step - loss: 0.1543 - accuracy: 0.9509 0s - loss: 0\n",
      "Epoch 8/10\n",
      "17920/17920 [==============================] - 1s 54us/step - loss: 0.1478 - accuracy: 0.9540\n",
      "Epoch 9/10\n",
      "17920/17920 [==============================] - 1s 54us/step - loss: 0.1372 - accuracy: 0.9557\n",
      "Epoch 10/10\n",
      "17920/17920 [==============================] - 1s 54us/step - loss: 0.1300 - accuracy: 0.9583\n",
      "8960/8960 [==============================] - 0s 24us/step\n",
      "Epoch 1/10\n",
      "17920/17920 [==============================] - 1s 67us/step - loss: 0.6573 - accuracy: 0.8225\n",
      "Epoch 2/10\n",
      "17920/17920 [==============================] - 1s 54us/step - loss: 0.3080 - accuracy: 0.9105\n",
      "Epoch 3/10\n",
      "17920/17920 [==============================] - 1s 54us/step - loss: 0.2486 - accuracy: 0.9256 0s - loss: 0.2474 \n",
      "Epoch 4/10\n",
      "17920/17920 [==============================] - 1s 54us/step - loss: 0.2158 - accuracy: 0.9364 0s - los\n",
      "Epoch 5/10\n",
      "17920/17920 [==============================] - 1s 54us/step - loss: 0.1941 - accuracy: 0.9395\n",
      "Epoch 6/10\n",
      "17920/17920 [==============================] - 1s 54us/step - loss: 0.1768 - accuracy: 0.9480 0s - loss: 0.1763 - accuracy: 0.94\n",
      "Epoch 7/10\n",
      "17920/17920 [==============================] - 1s 54us/step - loss: 0.1647 - accuracy: 0.9494\n",
      "Epoch 8/10\n",
      "17920/17920 [==============================] - 1s 57us/step - loss: 0.1576 - accuracy: 0.9509\n",
      "Epoch 9/10\n",
      "17920/17920 [==============================] - 1s 54us/step - loss: 0.1449 - accuracy: 0.9554 0s - loss: 0.1415 \n",
      "Epoch 10/10\n",
      "17920/17920 [==============================] - 1s 53us/step - loss: 0.1383 - accuracy: 0.9569\n",
      "8960/8960 [==============================] - 0s 23us/step\n",
      "Epoch 1/10\n",
      "17920/17920 [==============================] - 1s 67us/step - loss: 0.6431 - accuracy: 0.8206\n",
      "Epoch 2/10\n",
      "17920/17920 [==============================] - 1s 53us/step - loss: 0.2996 - accuracy: 0.9117\n",
      "Epoch 3/10\n",
      "17920/17920 [==============================] - 1s 54us/step - loss: 0.2477 - accuracy: 0.9249\n",
      "Epoch 4/10\n",
      "17920/17920 [==============================] - 1s 55us/step - loss: 0.2122 - accuracy: 0.9367\n",
      "Epoch 5/10\n",
      "17920/17920 [==============================] - 1s 55us/step - loss: 0.1933 - accuracy: 0.9407\n",
      "Epoch 6/10\n",
      "17920/17920 [==============================] - 1s 55us/step - loss: 0.1723 - accuracy: 0.9484\n",
      "Epoch 7/10\n",
      "17920/17920 [==============================] - 1s 55us/step - loss: 0.1580 - accuracy: 0.9515\n",
      "Epoch 8/10\n",
      "17920/17920 [==============================] - 1s 55us/step - loss: 0.1528 - accuracy: 0.9519\n",
      "Epoch 9/10\n",
      "17920/17920 [==============================] - ETA: 0s - loss: 0.1386 - accuracy: 0.95 - 1s 54us/step - loss: 0.1379 - accuracy: 0.9557\n",
      "Epoch 10/10\n",
      "17920/17920 [==============================] - 1s 54us/step - loss: 0.1335 - accuracy: 0.9584 0s - loss: 0.1329 - accuracy: 0.95\n",
      "8960/8960 [==============================] - 0s 23us/step\n",
      "Epoch 1/10\n",
      "17920/17920 [==============================] - 1s 82us/step - loss: 0.4538 - accuracy: 0.8608\n",
      "Epoch 2/10\n",
      "17920/17920 [==============================] - 1s 70us/step - loss: 0.2022 - accuracy: 0.9397\n",
      "Epoch 3/10\n"
     ]
    },
    {
     "name": "stdout",
     "output_type": "stream",
     "text": [
      "17920/17920 [==============================] - 1s 70us/step - loss: 0.1476 - accuracy: 0.9533\n",
      "Epoch 4/10\n",
      "17920/17920 [==============================] - 1s 69us/step - loss: 0.1124 - accuracy: 0.9644\n",
      "Epoch 5/10\n",
      "17920/17920 [==============================] - 1s 69us/step - loss: 0.1018 - accuracy: 0.9675 0s - loss: 0.1014 - accuracy: 0.\n",
      "Epoch 6/10\n",
      "17920/17920 [==============================] - 1s 69us/step - loss: 0.0771 - accuracy: 0.9759 0s - loss: 0\n",
      "Epoch 7/10\n",
      "17920/17920 [==============================] - 1s 69us/step - loss: 0.0710 - accuracy: 0.9770 0s - loss: 0.069\n",
      "Epoch 8/10\n",
      "17920/17920 [==============================] - 1s 70us/step - loss: 0.0619 - accuracy: 0.9798\n",
      "Epoch 9/10\n",
      "17920/17920 [==============================] - 1s 69us/step - loss: 0.0551 - accuracy: 0.9822\n",
      "Epoch 10/10\n",
      "17920/17920 [==============================] - 1s 69us/step - loss: 0.0498 - accuracy: 0.9842\n",
      "8960/8960 [==============================] - 0s 27us/step\n",
      "Epoch 1/10\n",
      "17920/17920 [==============================] - 1s 82us/step - loss: 0.4612 - accuracy: 0.8604\n",
      "Epoch 2/10\n",
      "17920/17920 [==============================] - 1s 66us/step - loss: 0.2072 - accuracy: 0.9368\n",
      "Epoch 3/10\n",
      "17920/17920 [==============================] - 1s 69us/step - loss: 0.1577 - accuracy: 0.9516\n",
      "Epoch 4/10\n",
      "17920/17920 [==============================] - 1s 70us/step - loss: 0.1222 - accuracy: 0.9604\n",
      "Epoch 5/10\n",
      "17920/17920 [==============================] - 1s 69us/step - loss: 0.0981 - accuracy: 0.9698\n",
      "Epoch 6/10\n",
      "17920/17920 [==============================] - 1s 69us/step - loss: 0.0867 - accuracy: 0.9720\n",
      "Epoch 7/10\n",
      "17920/17920 [==============================] - 1s 71us/step - loss: 0.0722 - accuracy: 0.9766\n",
      "Epoch 8/10\n",
      "17920/17920 [==============================] - 1s 72us/step - loss: 0.0598 - accuracy: 0.9812 1s - loss: 0.0579 - accuracy: 0.\n",
      "Epoch 9/10\n",
      "17920/17920 [==============================] - 1s 70us/step - loss: 0.0546 - accuracy: 0.9820\n",
      "Epoch 10/10\n",
      "17920/17920 [==============================] - 1s 70us/step - loss: 0.0474 - accuracy: 0.9835\n",
      "8960/8960 [==============================] - 0s 27us/step\n",
      "Epoch 1/10\n",
      "17920/17920 [==============================] - 1s 78us/step - loss: 0.4536 - accuracy: 0.8634\n",
      "Epoch 2/10\n",
      "17920/17920 [==============================] - 1s 66us/step - loss: 0.1947 - accuracy: 0.9400\n",
      "Epoch 3/10\n",
      "17920/17920 [==============================] - 1s 65us/step - loss: 0.1427 - accuracy: 0.9562\n",
      "Epoch 4/10\n",
      "17920/17920 [==============================] - 1s 66us/step - loss: 0.1154 - accuracy: 0.9638\n",
      "Epoch 5/10\n",
      "17920/17920 [==============================] - 1s 66us/step - loss: 0.0937 - accuracy: 0.9692\n",
      "Epoch 6/10\n",
      "17920/17920 [==============================] - 1s 67us/step - loss: 0.0789 - accuracy: 0.9746\n",
      "Epoch 7/10\n",
      "17920/17920 [==============================] - 1s 69us/step - loss: 0.0631 - accuracy: 0.9794 1s - loss: 0.0616 -  - ETA: 0s - loss: 0\n",
      "Epoch 8/10\n",
      "17920/17920 [==============================] - 1s 70us/step - loss: 0.0614 - accuracy: 0.9795\n",
      "Epoch 9/10\n",
      "17920/17920 [==============================] - 1s 69us/step - loss: 0.0553 - accuracy: 0.9820\n",
      "Epoch 10/10\n",
      "17920/17920 [==============================] - 1s 69us/step - loss: 0.0450 - accuracy: 0.9855\n",
      "8960/8960 [==============================] - 0s 27us/step\n",
      "Epoch 1/10\n",
      "17920/17920 [==============================] - 2s 85us/step - loss: 0.3694 - accuracy: 0.8870 0s - loss: 0.3693 - accuracy: 0.88\n",
      "Epoch 2/10\n",
      "17920/17920 [==============================] - 1s 79us/step - loss: 0.1772 - accuracy: 0.9458\n",
      "Epoch 3/10\n",
      "17920/17920 [==============================] - 1s 79us/step - loss: 0.1232 - accuracy: 0.9619\n",
      "Epoch 4/10\n",
      "17920/17920 [==============================] - 1s 78us/step - loss: 0.0911 - accuracy: 0.9708\n",
      "Epoch 5/10\n",
      "17920/17920 [==============================] - 1s 80us/step - loss: 0.0725 - accuracy: 0.9782\n",
      "Epoch 6/10\n",
      "17920/17920 [==============================] - 1s 79us/step - loss: 0.0518 - accuracy: 0.9842\n",
      "Epoch 7/10\n",
      "17920/17920 [==============================] - 1s 79us/step - loss: 0.0422 - accuracy: 0.9866\n",
      "Epoch 8/10\n",
      "17920/17920 [==============================] - 1s 79us/step - loss: 0.0399 - accuracy: 0.9869 0s - loss:\n",
      "Epoch 9/10\n",
      "17920/17920 [==============================] - 1s 79us/step - loss: 0.0305 - accuracy: 0.9905\n",
      "Epoch 10/10\n",
      "17920/17920 [==============================] - 1s 81us/step - loss: 0.0235 - accuracy: 0.9927 0s - los\n",
      "8960/8960 [==============================] - 0s 27us/step\n",
      "Epoch 1/10\n",
      "17920/17920 [==============================] - 2s 85us/step - loss: 0.3694 - accuracy: 0.8876\n",
      "Epoch 2/10\n",
      "17920/17920 [==============================] - 1s 78us/step - loss: 0.1829 - accuracy: 0.9449\n",
      "Epoch 3/10\n",
      "17920/17920 [==============================] - 1s 78us/step - loss: 0.1256 - accuracy: 0.9603\n",
      "Epoch 4/10\n",
      "17920/17920 [==============================] - 1s 77us/step - loss: 0.0943 - accuracy: 0.9711\n",
      "Epoch 5/10\n",
      "17920/17920 [==============================] - 1s 78us/step - loss: 0.0682 - accuracy: 0.9787 0s - l\n",
      "Epoch 6/10\n",
      "17920/17920 [==============================] - 1s 79us/step - loss: 0.0593 - accuracy: 0.9804\n",
      "Epoch 7/10\n",
      "17920/17920 [==============================] - 1s 78us/step - loss: 0.0472 - accuracy: 0.9846\n",
      "Epoch 8/10\n",
      "17920/17920 [==============================] - 1s 78us/step - loss: 0.0341 - accuracy: 0.9894\n",
      "Epoch 9/10\n",
      "17920/17920 [==============================] - 1s 79us/step - loss: 0.0305 - accuracy: 0.9903\n",
      "Epoch 10/10\n",
      "17920/17920 [==============================] - 1s 79us/step - loss: 0.0266 - accuracy: 0.9910\n",
      "8960/8960 [==============================] - 0s 28us/step\n",
      "Epoch 1/10\n",
      "17920/17920 [==============================] - 2s 85us/step - loss: 0.3647 - accuracy: 0.8877\n",
      "Epoch 2/10\n",
      "17920/17920 [==============================] - 1s 79us/step - loss: 0.1785 - accuracy: 0.9470\n",
      "Epoch 3/10\n",
      "17920/17920 [==============================] - 1s 79us/step - loss: 0.1260 - accuracy: 0.9627\n",
      "Epoch 4/10\n",
      "17920/17920 [==============================] - 1s 80us/step - loss: 0.0901 - accuracy: 0.9722 0s - loss: 0.0\n",
      "Epoch 5/10\n",
      "17920/17920 [==============================] - 1s 76us/step - loss: 0.0692 - accuracy: 0.9788\n",
      "Epoch 6/10\n",
      "17920/17920 [==============================] - 1s 76us/step - loss: 0.0527 - accuracy: 0.9823\n",
      "Epoch 7/10\n",
      "17920/17920 [==============================] - 1s 80us/step - loss: 0.0436 - accuracy: 0.9855\n",
      "Epoch 8/10\n",
      "17920/17920 [==============================] - 1s 79us/step - loss: 0.0331 - accuracy: 0.9896\n",
      "Epoch 9/10\n",
      "17920/17920 [==============================] - 1s 80us/step - loss: 0.0293 - accuracy: 0.9914 0s - loss: 0.0274 - \n",
      "Epoch 10/10\n",
      "17920/17920 [==============================] - 1s 80us/step - loss: 0.0260 - accuracy: 0.9914\n",
      "8960/8960 [==============================] - 0s 27us/step\n",
      "Epoch 1/10\n",
      "17920/17920 [==============================] - 1s 67us/step - loss: 0.5281 - accuracy: 0.8429\n",
      "Epoch 2/10\n",
      "17920/17920 [==============================] - ETA: 0s - loss: 0.3382 - accuracy: 0.90 - 1s 62us/step - loss: 0.3395 - accuracy: 0.9001\n",
      "Epoch 3/10\n",
      "17920/17920 [==============================] - 1s 62us/step - loss: 0.2980 - accuracy: 0.9128\n",
      "Epoch 4/10\n",
      "17920/17920 [==============================] - 1s 62us/step - loss: 0.2671 - accuracy: 0.9193\n",
      "Epoch 5/10\n",
      "17920/17920 [==============================] - 1s 62us/step - loss: 0.2398 - accuracy: 0.9304\n",
      "Epoch 6/10\n",
      "17920/17920 [==============================] - 1s 63us/step - loss: 0.2184 - accuracy: 0.9368 1s - loss: 0.1966 - accuracy: 0.94 - ETA\n",
      "Epoch 7/10\n",
      "17920/17920 [==============================] - 1s 63us/step - loss: 0.1988 - accuracy: 0.9424\n",
      "Epoch 8/10\n",
      "17920/17920 [==============================] - 1s 62us/step - loss: 0.1840 - accuracy: 0.9473\n",
      "Epoch 9/10\n",
      "17920/17920 [==============================] - 1s 62us/step - loss: 0.1708 - accuracy: 0.9496\n",
      "Epoch 10/10\n",
      "17920/17920 [==============================] - 1s 63us/step - loss: 0.1573 - accuracy: 0.9547 0s - loss:\n",
      "8960/8960 [==============================] - 0s 27us/step\n",
      "Epoch 1/10\n",
      "17920/17920 [==============================] - 1s 65us/step - loss: 0.5463 - accuracy: 0.8371\n",
      "Epoch 2/10\n",
      "17920/17920 [==============================] - 1s 64us/step - loss: 0.3483 - accuracy: 0.8975 0s -\n",
      "Epoch 3/10\n",
      "17920/17920 [==============================] - ETA: 0s - loss: 0.3019 - accuracy: 0.91 - 1s 62us/step - loss: 0.3008 - accuracy: 0.9132\n"
     ]
    },
    {
     "name": "stdout",
     "output_type": "stream",
     "text": [
      "Epoch 4/10\n",
      "17920/17920 [==============================] - ETA: 0s - loss: 0.2679 - accuracy: 0.92 - 1s 62us/step - loss: 0.2675 - accuracy: 0.9221\n",
      "Epoch 5/10\n",
      "17920/17920 [==============================] - 1s 62us/step - loss: 0.2416 - accuracy: 0.9294\n",
      "Epoch 6/10\n",
      "17920/17920 [==============================] - 1s 61us/step - loss: 0.2152 - accuracy: 0.9376 0s - l\n",
      "Epoch 7/10\n",
      "17920/17920 [==============================] - 1s 61us/step - loss: 0.1976 - accuracy: 0.9432\n",
      "Epoch 8/10\n",
      "17920/17920 [==============================] - 1s 62us/step - loss: 0.1758 - accuracy: 0.9485 0s - los\n",
      "Epoch 9/10\n",
      "17920/17920 [==============================] - ETA: 0s - loss: 0.1620 - accuracy: 0.95 - 1s 62us/step - loss: 0.1631 - accuracy: 0.9542\n",
      "Epoch 10/10\n",
      "17920/17920 [==============================] - 1s 61us/step - loss: 0.1472 - accuracy: 0.9580\n",
      "8960/8960 [==============================] - 0s 27us/step\n",
      "Epoch 1/10\n",
      "17920/17920 [==============================] - 1s 66us/step - loss: 0.5551 - accuracy: 0.8354 0s - loss: 0.663\n",
      "Epoch 2/10\n",
      "17920/17920 [==============================] - 1s 61us/step - loss: 0.3490 - accuracy: 0.8984\n",
      "Epoch 3/10\n",
      "17920/17920 [==============================] - 1s 62us/step - loss: 0.3016 - accuracy: 0.9131\n",
      "Epoch 4/10\n",
      "17920/17920 [==============================] - 1s 63us/step - loss: 0.2710 - accuracy: 0.9239\n",
      "Epoch 5/10\n",
      "17920/17920 [==============================] - 1s 61us/step - loss: 0.2459 - accuracy: 0.9301\n",
      "Epoch 6/10\n",
      "17920/17920 [==============================] - 1s 62us/step - loss: 0.2181 - accuracy: 0.9388\n",
      "Epoch 7/10\n",
      "17920/17920 [==============================] - 1s 63us/step - loss: 0.2051 - accuracy: 0.9415\n",
      "Epoch 8/10\n",
      "17920/17920 [==============================] - 1s 62us/step - loss: 0.1850 - accuracy: 0.9479 0s - loss: 0.1886 - accuracy\n",
      "Epoch 9/10\n",
      "17920/17920 [==============================] - 1s 61us/step - loss: 0.1668 - accuracy: 0.9534\n",
      "Epoch 10/10\n",
      "17920/17920 [==============================] - 1s 62us/step - loss: 0.1576 - accuracy: 0.9549\n",
      "8960/8960 [==============================] - 0s 26us/step\n",
      "Epoch 1/10\n",
      "26880/26880 [==============================] - 3s 101us/step - loss: 0.3156 - accuracy: 0.9032\n",
      "Epoch 2/10\n",
      "26880/26880 [==============================] - 2s 92us/step - loss: 0.1590 - accuracy: 0.9507\n",
      "Epoch 3/10\n",
      "26880/26880 [==============================] - 3s 95us/step - loss: 0.1130 - accuracy: 0.9646\n",
      "Epoch 4/10\n",
      "26880/26880 [==============================] - 2s 93us/step - loss: 0.0875 - accuracy: 0.9726\n",
      "Epoch 5/10\n",
      "26880/26880 [==============================] - 2s 92us/step - loss: 0.0642 - accuracy: 0.9798\n",
      "Epoch 6/10\n",
      "26880/26880 [==============================] - 2s 91us/step - loss: 0.0613 - accuracy: 0.9797\n",
      "Epoch 7/10\n",
      "26880/26880 [==============================] - 3s 94us/step - loss: 0.0509 - accuracy: 0.9828\n",
      "Epoch 8/10\n",
      "26880/26880 [==============================] - 3s 97us/step - loss: 0.0482 - accuracy: 0.9837\n",
      "Epoch 9/10\n",
      "26880/26880 [==============================] - 2s 92us/step - loss: 0.0382 - accuracy: 0.9872\n",
      "Epoch 10/10\n",
      "26880/26880 [==============================] - 3s 97us/step - loss: 0.0323 - accuracy: 0.9893\n"
     ]
    },
    {
     "data": {
      "text/plain": [
       "RandomizedSearchCV(cv=3, error_score=nan,\n",
       "                   estimator=<keras.wrappers.scikit_learn.KerasClassifier object at 0x0000027A4EB19408>,\n",
       "                   iid='deprecated', n_iter=10, n_jobs=None,\n",
       "                   param_distributions={'activation': ['relu', 'tanh'],\n",
       "                                        'hl': [2, 3, 4],\n",
       "                                        'nodes': [16, 32, 64, 128],\n",
       "                                        'optimizer': ['sgd', 'adam']},\n",
       "                   pre_dispatch='2*n_jobs', random_state=None, refit=True,\n",
       "                   return_train_score=False, scoring=None, verbose=0)"
      ]
     },
     "execution_count": 295,
     "metadata": {},
     "output_type": "execute_result"
    }
   ],
   "source": [
    "RS_CV.fit(X_train, y_train)"
   ]
  },
  {
   "cell_type": "code",
   "execution_count": 296,
   "metadata": {
    "ExecuteTime": {
     "end_time": "2020-04-19T00:21:55.575171Z",
     "start_time": "2020-04-19T00:21:55.568194Z"
    }
   },
   "outputs": [
    {
     "data": {
      "text/plain": [
       "{'optimizer': 'adam', 'nodes': 128, 'hl': 3, 'activation': 'tanh'}"
      ]
     },
     "execution_count": 296,
     "metadata": {},
     "output_type": "execute_result"
    }
   ],
   "source": [
    "RS_CV.best_params_"
   ]
  },
  {
   "cell_type": "markdown",
   "metadata": {
    "ExecuteTime": {
     "end_time": "2020-04-19T00:26:11.190062Z",
     "start_time": "2020-04-19T00:26:11.186060Z"
    }
   },
   "source": [
    "Best parameters:\n",
    "- Optimizer: adam\n",
    "- 3 hidden layers\n",
    "- Activation tanh"
   ]
  },
  {
   "cell_type": "code",
   "execution_count": 303,
   "metadata": {
    "ExecuteTime": {
     "end_time": "2020-04-19T00:35:34.644763Z",
     "start_time": "2020-04-19T00:35:34.639814Z"
    }
   },
   "outputs": [
    {
     "data": {
      "text/plain": [
       "{'optimizer': 'adam', 'nodes': 128, 'hl': 3, 'activation': 'tanh'}"
      ]
     },
     "execution_count": 303,
     "metadata": {},
     "output_type": "execute_result"
    }
   ],
   "source": [
    "RS_CV.best_params_"
   ]
  },
  {
   "cell_type": "code",
   "execution_count": 307,
   "metadata": {
    "ExecuteTime": {
     "end_time": "2020-04-19T00:36:51.235276Z",
     "start_time": "2020-04-19T00:36:51.139647Z"
    }
   },
   "outputs": [],
   "source": [
    "model_fc_o = create_model(optimizer= \"adam\", nodes = 128, hl = 3, activation = \"tanh\")"
   ]
  },
  {
   "cell_type": "code",
   "execution_count": 311,
   "metadata": {
    "ExecuteTime": {
     "end_time": "2020-04-19T00:39:15.116449Z",
     "start_time": "2020-04-19T00:38:22.569763Z"
    }
   },
   "outputs": [
    {
     "name": "stdout",
     "output_type": "stream",
     "text": [
      "Train on 21504 samples, validate on 5376 samples\n",
      "Epoch 1/100\n",
      "21504/21504 [==============================] - 2s 104us/step - loss: 0.0261 - accuracy: 0.9909 - val_loss: 0.1676 - val_accuracy: 0.9596\n",
      "Epoch 2/100\n",
      "21504/21504 [==============================] - 2s 103us/step - loss: 0.0262 - accuracy: 0.9909 - val_loss: 0.1400 - val_accuracy: 0.9676\n",
      "Epoch 3/100\n",
      "21504/21504 [==============================] - 2s 111us/step - loss: 0.0232 - accuracy: 0.9920 - val_loss: 0.1312 - val_accuracy: 0.9691\n",
      "Epoch 4/100\n",
      "21504/21504 [==============================] - 2s 111us/step - loss: 0.0252 - accuracy: 0.9908 - val_loss: 0.1345 - val_accuracy: 0.9697\n",
      "Epoch 5/100\n",
      "21504/21504 [==============================] - 2s 106us/step - loss: 0.0207 - accuracy: 0.9931 - val_loss: 0.1791 - val_accuracy: 0.9609\n",
      "Epoch 6/100\n",
      "21504/21504 [==============================] - 2s 108us/step - loss: 0.0209 - accuracy: 0.9934 - val_loss: 0.1491 - val_accuracy: 0.9656\n",
      "Epoch 7/100\n",
      "21504/21504 [==============================] - 2s 103us/step - loss: 0.0220 - accuracy: 0.9928 - val_loss: 0.1353 - val_accuracy: 0.9682\n",
      "Epoch 8/100\n",
      "21504/21504 [==============================] - 2s 107us/step - loss: 0.0110 - accuracy: 0.9967 - val_loss: 0.1328 - val_accuracy: 0.9717\n",
      "Epoch 9/100\n",
      "21504/21504 [==============================] - 2s 106us/step - loss: 0.0180 - accuracy: 0.9939 - val_loss: 0.1675 - val_accuracy: 0.9639\n",
      "Epoch 10/100\n",
      "21504/21504 [==============================] - 2s 108us/step - loss: 0.0138 - accuracy: 0.9961 - val_loss: 0.1464 - val_accuracy: 0.9682\n",
      "Epoch 11/100\n",
      "21504/21504 [==============================] - 2s 106us/step - loss: 0.0212 - accuracy: 0.9934 - val_loss: 0.1764 - val_accuracy: 0.9648\n",
      "Epoch 12/100\n",
      "21504/21504 [==============================] - 2s 106us/step - loss: 0.0192 - accuracy: 0.9935 - val_loss: 0.1430 - val_accuracy: 0.9706\n",
      "Epoch 13/100\n",
      "21504/21504 [==============================] - 2s 106us/step - loss: 0.0092 - accuracy: 0.9971 - val_loss: 0.1337 - val_accuracy: 0.9721\n",
      "Epoch 14/100\n",
      "21504/21504 [==============================] - 2s 104us/step - loss: 0.0121 - accuracy: 0.9963 - val_loss: 0.1468 - val_accuracy: 0.9717\n",
      "Epoch 15/100\n",
      "21504/21504 [==============================] - 2s 107us/step - loss: 0.0184 - accuracy: 0.9940 - val_loss: 0.1688 - val_accuracy: 0.9635\n",
      "Epoch 16/100\n",
      "21504/21504 [==============================] - 2s 108us/step - loss: 0.0165 - accuracy: 0.9947 - val_loss: 0.1559 - val_accuracy: 0.9661\n",
      "Epoch 17/100\n",
      "21504/21504 [==============================] - 2s 105us/step - loss: 0.0138 - accuracy: 0.9957 - val_loss: 0.1427 - val_accuracy: 0.9697\n",
      "Epoch 18/100\n",
      "21504/21504 [==============================] - 2s 111us/step - loss: 0.0113 - accuracy: 0.9967 - val_loss: 0.1391 - val_accuracy: 0.9658\n",
      "Epoch 19/100\n",
      "21504/21504 [==============================] - 2s 104us/step - loss: 0.0135 - accuracy: 0.9954 - val_loss: 0.1471 - val_accuracy: 0.9693\n",
      "Epoch 20/100\n",
      "21504/21504 [==============================] - 2s 105us/step - loss: 0.0133 - accuracy: 0.9957 - val_loss: 0.1529 - val_accuracy: 0.9691\n",
      "Epoch 21/100\n",
      "21504/21504 [==============================] - 2s 104us/step - loss: 0.0133 - accuracy: 0.9957 - val_loss: 0.1819 - val_accuracy: 0.9587\n",
      "Epoch 22/100\n",
      "21504/21504 [==============================] - 2s 105us/step - loss: 0.0113 - accuracy: 0.9960 - val_loss: 0.1519 - val_accuracy: 0.9702\n",
      "Epoch 23/100\n",
      "21504/21504 [==============================] - 2s 105us/step - loss: 0.0113 - accuracy: 0.9959 - val_loss: 0.1525 - val_accuracy: 0.9645\n"
     ]
    }
   ],
   "source": [
    "history = model_fc_o.fit(X_train, y_train, validation_split = 0.2, epochs = 100, callbacks = [early_stopping])"
   ]
  },
  {
   "cell_type": "code",
   "execution_count": 316,
   "metadata": {
    "ExecuteTime": {
     "end_time": "2020-04-19T00:45:19.317874Z",
     "start_time": "2020-04-19T00:45:19.207114Z"
    }
   },
   "outputs": [
    {
     "data": {
      "image/png": "[encoded data removed]",
      "text/plain": [
       "<Figure size 576x288 with 1 Axes>"
      ]
     },
     "metadata": {
      "needs_background": "light"
     },
     "output_type": "display_data"
    }
   ],
   "source": [
    "fig = plt.figure(figsize = (8,4))\n",
    "ax1= plt.plot(history.history[\"accuracy\"], label = \"training\")\n",
    "ax2 = plt.plot(history.history[\"val_accuracy\"], label = \"validation\")\n",
    "plt.legend(loc=\"upper left\")\n",
    "plt.xlabel(\"Epochs\")\n",
    "plt.ylim(0.9,1)\n",
    "plt.ylabel(\"Accuracy\")\n",
    "plt.title(\"Training accuracy and Validation accuracy by epochs\");"
   ]
  },
  {
   "cell_type": "code",
   "execution_count": 317,
   "metadata": {
    "ExecuteTime": {
     "end_time": "2020-04-19T01:38:22.763866Z",
     "start_time": "2020-04-19T01:38:22.445790Z"
    }
   },
   "outputs": [
    {
     "name": "stdout",
     "output_type": "stream",
     "text": [
      "6720/6720 [==============================] - 0s 45us/step\n"
     ]
    }
   ],
   "source": [
    "test_accuracy = model_fc_o.evaluate(X_test, y_test)[1]"
   ]
  },
  {
   "cell_type": "code",
   "execution_count": 318,
   "metadata": {
    "ExecuteTime": {
     "end_time": "2020-04-19T01:38:24.374866Z",
     "start_time": "2020-04-19T01:38:24.363457Z"
    }
   },
   "outputs": [],
   "source": [
    "Summary_table  = Summary_table.append({\"model\": \"Opimized NN (3 HL, 128 nodes)\", \"Test accuracy\": test_accuracy }, ignore_index = True)"
   ]
  },
  {
   "cell_type": "code",
   "execution_count": 319,
   "metadata": {
    "ExecuteTime": {
     "end_time": "2020-04-19T01:38:24.855612Z",
     "start_time": "2020-04-19T01:38:24.840137Z"
    }
   },
   "outputs": [
    {
     "data": {
      "text/html": [
       "<div>\n",
       "<style scoped>\n",
       "    .dataframe tbody tr th:only-of-type {\n",
       "        vertical-align: middle;\n",
       "    }\n",
       "\n",
       "    .dataframe tbody tr th {\n",
       "        vertical-align: top;\n",
       "    }\n",
       "\n",
       "    .dataframe thead th {\n",
       "        text-align: right;\n",
       "    }\n",
       "</style>\n",
       "<table border=\"1\" class=\"dataframe\">\n",
       "  <thead>\n",
       "    <tr style=\"text-align: right;\">\n",
       "      <th></th>\n",
       "      <th>model</th>\n",
       "      <th>Test accuracy</th>\n",
       "    </tr>\n",
       "  </thead>\n",
       "  <tbody>\n",
       "    <tr>\n",
       "      <th>0</th>\n",
       "      <td>Logistic Regression</td>\n",
       "      <td>0.917708</td>\n",
       "    </tr>\n",
       "    <tr>\n",
       "      <th>1</th>\n",
       "      <td>Shallow NN</td>\n",
       "      <td>0.884673</td>\n",
       "    </tr>\n",
       "    <tr>\n",
       "      <th>2</th>\n",
       "      <td>NN 2 HL,5 nodes</td>\n",
       "      <td>0.875595</td>\n",
       "    </tr>\n",
       "    <tr>\n",
       "      <th>3</th>\n",
       "      <td>NN 2 HL,16 nodes</td>\n",
       "      <td>0.939435</td>\n",
       "    </tr>\n",
       "    <tr>\n",
       "      <th>4</th>\n",
       "      <td>Opimized NN (3 HL, 128 nodes)</td>\n",
       "      <td>0.966369</td>\n",
       "    </tr>\n",
       "    <tr>\n",
       "      <th>5</th>\n",
       "      <td>Opimized NN (3 HL, 128 nodes)</td>\n",
       "      <td>0.966369</td>\n",
       "    </tr>\n",
       "  </tbody>\n",
       "</table>\n",
       "</div>"
      ],
      "text/plain": [
       "                           model  Test accuracy\n",
       "0            Logistic Regression       0.917708\n",
       "1                     Shallow NN       0.884673\n",
       "2                NN 2 HL,5 nodes       0.875595\n",
       "3               NN 2 HL,16 nodes       0.939435\n",
       "4  Opimized NN (3 HL, 128 nodes)       0.966369\n",
       "5  Opimized NN (3 HL, 128 nodes)       0.966369"
      ]
     },
     "execution_count": 319,
     "metadata": {},
     "output_type": "execute_result"
    }
   ],
   "source": [
    "Summary_table"
   ]
  },
  {
   "cell_type": "markdown",
   "metadata": {},
   "source": [
    "Observations:\n",
    "- Bayes error : 0 (Humans can perfectly identify)\n",
    "- Training error : 0.004\n",
    "- Test accuracy: 0.037\n",
    "\n",
    "We have successfully reduced the bias but there is varaince now due to overfitting.Variance can be decreased by:\n",
    "- l2 Regularization \n",
    "- Drop out regularization"
   ]
  },
  {
   "cell_type": "markdown",
   "metadata": {},
   "source": [
    "## Regulazrization "
   ]
  },
  {
   "cell_type": "markdown",
   "metadata": {},
   "source": [
    "### Dropout and Regularization"
   ]
  },
  {
   "cell_type": "code",
   "execution_count": 323,
   "metadata": {
    "ExecuteTime": {
     "end_time": "2020-04-19T01:57:57.952776Z",
     "start_time": "2020-04-19T01:57:57.879625Z"
    }
   },
   "outputs": [],
   "source": [
    "model_fc_r = Sequential()\n",
    "model_fc_r.add(Dense(128, input_shape = (784,), activation = \"tanh\"))\n",
    "model_fc_r.add(Dropout(0.2))\n",
    "model_fc_r.add(Dense(128, activation = \"tanh\"))\n",
    "model_fc_r.add(Dropout(0.2))\n",
    "model_fc_r.add(Dense(128, activation = \"tanh\"))\n",
    "model_fc_r.add(Dropout(0.2))\n",
    "model_fc_r.add(Dense(10, activation = \"softmax\"))"
   ]
  },
  {
   "cell_type": "code",
   "execution_count": 325,
   "metadata": {
    "ExecuteTime": {
     "end_time": "2020-04-19T02:00:16.701988Z",
     "start_time": "2020-04-19T02:00:16.672734Z"
    }
   },
   "outputs": [],
   "source": [
    "model_fc_r.compile(optimizer = \"adam\", loss = \"categorical_crossentropy\", metrics = [\"accuracy\"])"
   ]
  },
  {
   "cell_type": "code",
   "execution_count": 326,
   "metadata": {
    "ExecuteTime": {
     "end_time": "2020-04-19T02:04:55.743742Z",
     "start_time": "2020-04-19T02:00:53.976934Z"
    }
   },
   "outputs": [
    {
     "name": "stdout",
     "output_type": "stream",
     "text": [
      "Train on 21504 samples, validate on 5376 samples\n",
      "Epoch 1/100\n",
      "21504/21504 [==============================] - 6s 296us/step - loss: 0.4582 - accuracy: 0.8585 - val_loss: 0.2605 - val_accuracy: 0.9185\n",
      "Epoch 2/100\n",
      "21504/21504 [==============================] - 6s 256us/step - loss: 0.2690 - accuracy: 0.9180 - val_loss: 0.2187 - val_accuracy: 0.9358\n",
      "Epoch 3/100\n",
      "21504/21504 [==============================] - 7s 318us/step - loss: 0.2127 - accuracy: 0.9343 - val_loss: 0.1767 - val_accuracy: 0.9451\n",
      "Epoch 4/100\n",
      "21504/21504 [==============================] - 6s 301us/step - loss: 0.1800 - accuracy: 0.9433 - val_loss: 0.1527 - val_accuracy: 0.9542\n",
      "Epoch 5/100\n",
      "21504/21504 [==============================] - 5s 230us/step - loss: 0.1534 - accuracy: 0.9515 - val_loss: 0.1511 - val_accuracy: 0.9554\n",
      "Epoch 6/100\n",
      "21504/21504 [==============================] - 8s 351us/step - loss: 0.1353 - accuracy: 0.9581 - val_loss: 0.1490 - val_accuracy: 0.9572\n",
      "Epoch 7/100\n",
      "21504/21504 [==============================] - 7s 340us/step - loss: 0.1264 - accuracy: 0.9595 - val_loss: 0.1319 - val_accuracy: 0.9637\n",
      "Epoch 8/100\n",
      "21504/21504 [==============================] - 4s 173us/step - loss: 0.1112 - accuracy: 0.9652 - val_loss: 0.1242 - val_accuracy: 0.9645\n",
      "Epoch 9/100\n",
      "21504/21504 [==============================] - 4s 185us/step - loss: 0.0985 - accuracy: 0.9681 - val_loss: 0.1252 - val_accuracy: 0.9641\n",
      "Epoch 10/100\n",
      "21504/21504 [==============================] - 6s 270us/step - loss: 0.0972 - accuracy: 0.9682 - val_loss: 0.1304 - val_accuracy: 0.9648\n",
      "Epoch 11/100\n",
      "21504/21504 [==============================] - 5s 235us/step - loss: 0.0836 - accuracy: 0.9725 - val_loss: 0.1301 - val_accuracy: 0.9673\n",
      "Epoch 12/100\n",
      "21504/21504 [==============================] - 4s 186us/step - loss: 0.0826 - accuracy: 0.9731 - val_loss: 0.1404 - val_accuracy: 0.9606\n",
      "Epoch 13/100\n",
      "21504/21504 [==============================] - 5s 219us/step - loss: 0.0771 - accuracy: 0.9752 - val_loss: 0.1362 - val_accuracy: 0.9656\n",
      "Epoch 14/100\n",
      "21504/21504 [==============================] - 5s 231us/step - loss: 0.0757 - accuracy: 0.9755 - val_loss: 0.1371 - val_accuracy: 0.9648\n",
      "Epoch 15/100\n",
      "21504/21504 [==============================] - 4s 202us/step - loss: 0.0687 - accuracy: 0.9774 - val_loss: 0.1321 - val_accuracy: 0.9630\n",
      "Epoch 16/100\n",
      "21504/21504 [==============================] - 5s 212us/step - loss: 0.0657 - accuracy: 0.9789 - val_loss: 0.1193 - val_accuracy: 0.9660\n",
      "Epoch 17/100\n",
      "21504/21504 [==============================] - 5s 235us/step - loss: 0.0579 - accuracy: 0.9805 - val_loss: 0.1253 - val_accuracy: 0.9673\n",
      "Epoch 18/100\n",
      "21504/21504 [==============================] - 5s 227us/step - loss: 0.0575 - accuracy: 0.9809 - val_loss: 0.1257 - val_accuracy: 0.9686\n",
      "Epoch 19/100\n",
      "21504/21504 [==============================] - 5s 247us/step - loss: 0.0615 - accuracy: 0.9796 - val_loss: 0.1368 - val_accuracy: 0.9660\n",
      "Epoch 20/100\n",
      "21504/21504 [==============================] - 5s 256us/step - loss: 0.0558 - accuracy: 0.9818 - val_loss: 0.1246 - val_accuracy: 0.9686\n",
      "Epoch 21/100\n",
      "21504/21504 [==============================] - 5s 246us/step - loss: 0.0531 - accuracy: 0.9826 - val_loss: 0.1321 - val_accuracy: 0.9665\n",
      "Epoch 22/100\n",
      "21504/21504 [==============================] - 5s 253us/step - loss: 0.0499 - accuracy: 0.9836 - val_loss: 0.1361 - val_accuracy: 0.9676\n",
      "Epoch 23/100\n",
      "21504/21504 [==============================] - 5s 232us/step - loss: 0.0445 - accuracy: 0.9854 - val_loss: 0.1250 - val_accuracy: 0.9702\n",
      "Epoch 24/100\n",
      "21504/21504 [==============================] - 6s 256us/step - loss: 0.0455 - accuracy: 0.9852 - val_loss: 0.1407 - val_accuracy: 0.9661\n",
      "Epoch 25/100\n",
      "21504/21504 [==============================] - 5s 239us/step - loss: 0.0397 - accuracy: 0.9863 - val_loss: 0.1392 - val_accuracy: 0.9697\n",
      "Epoch 26/100\n",
      "21504/21504 [==============================] - 6s 294us/step - loss: 0.0405 - accuracy: 0.9854 - val_loss: 0.1300 - val_accuracy: 0.9688\n",
      "Epoch 27/100\n",
      "21504/21504 [==============================] - 5s 238us/step - loss: 0.0430 - accuracy: 0.9854 - val_loss: 0.1327 - val_accuracy: 0.9695\n",
      "Epoch 28/100\n",
      "21504/21504 [==============================] - 7s 326us/step - loss: 0.0426 - accuracy: 0.9853 - val_loss: 0.1262 - val_accuracy: 0.9695\n",
      "Epoch 29/100\n",
      "21504/21504 [==============================] - 6s 259us/step - loss: 0.0369 - accuracy: 0.9874 - val_loss: 0.1312 - val_accuracy: 0.9704\n",
      "Epoch 30/100\n",
      "21504/21504 [==============================] - 7s 302us/step - loss: 0.0373 - accuracy: 0.9880 - val_loss: 0.1507 - val_accuracy: 0.9691\n",
      "Epoch 31/100\n",
      "21504/21504 [==============================] - 5s 220us/step - loss: 0.0359 - accuracy: 0.9881 - val_loss: 0.1369 - val_accuracy: 0.9691\n",
      "Epoch 32/100\n",
      "21504/21504 [==============================] - 5s 235us/step - loss: 0.0366 - accuracy: 0.9880 - val_loss: 0.1442 - val_accuracy: 0.9693\n",
      "Epoch 33/100\n",
      "21504/21504 [==============================] - 4s 207us/step - loss: 0.0350 - accuracy: 0.9878 - val_loss: 0.1485 - val_accuracy: 0.9684\n",
      "Epoch 34/100\n",
      "21504/21504 [==============================] - 4s 201us/step - loss: 0.0345 - accuracy: 0.9892 - val_loss: 0.1403 - val_accuracy: 0.9680\n",
      "Epoch 35/100\n",
      "21504/21504 [==============================] - 4s 206us/step - loss: 0.0350 - accuracy: 0.9887 - val_loss: 0.1356 - val_accuracy: 0.9710\n",
      "Epoch 36/100\n",
      "21504/21504 [==============================] - 5s 249us/step - loss: 0.0355 - accuracy: 0.9878 - val_loss: 0.1381 - val_accuracy: 0.9702\n",
      "Epoch 37/100\n",
      "21504/21504 [==============================] - 5s 252us/step - loss: 0.0282 - accuracy: 0.9903 - val_loss: 0.1371 - val_accuracy: 0.9699\n",
      "Epoch 38/100\n",
      "21504/21504 [==============================] - 5s 252us/step - loss: 0.0268 - accuracy: 0.9905 - val_loss: 0.1721 - val_accuracy: 0.9656\n",
      "Epoch 39/100\n",
      "21504/21504 [==============================] - 5s 237us/step - loss: 0.0340 - accuracy: 0.9888 - val_loss: 0.1549 - val_accuracy: 0.9671\n",
      "Epoch 40/100\n",
      "21504/21504 [==============================] - 5s 215us/step - loss: 0.0320 - accuracy: 0.9892 - val_loss: 0.1533 - val_accuracy: 0.9695\n",
      "Epoch 41/100\n",
      "21504/21504 [==============================] - 5s 236us/step - loss: 0.0295 - accuracy: 0.9902 - val_loss: 0.1507 - val_accuracy: 0.9691\n",
      "Epoch 42/100\n",
      "21504/21504 [==============================] - 5s 250us/step - loss: 0.0299 - accuracy: 0.9900 - val_loss: 0.1470 - val_accuracy: 0.9686\n",
      "Epoch 43/100\n",
      "21504/21504 [==============================] - 5s 234us/step - loss: 0.0291 - accuracy: 0.9904 - val_loss: 0.1334 - val_accuracy: 0.9706\n",
      "Epoch 44/100\n",
      "21504/21504 [==============================] - 8s 365us/step - loss: 0.0293 - accuracy: 0.9906 - val_loss: 0.1504 - val_accuracy: 0.9684\n",
      "Epoch 45/100\n",
      "21504/21504 [==============================] - 4s 209us/step - loss: 0.0318 - accuracy: 0.9894 - val_loss: 0.1399 - val_accuracy: 0.9702\n"
     ]
    }
   ],
   "source": [
    "history = model_fc_r.fit(X_train, y_train, validation_split = 0.2, epochs = 100, callbacks = [early_stopping])"
   ]
  },
  {
   "cell_type": "code",
   "execution_count": 327,
   "metadata": {
    "ExecuteTime": {
     "end_time": "2020-04-19T02:05:04.281266Z",
     "start_time": "2020-04-19T02:05:04.086190Z"
    }
   },
   "outputs": [
    {
     "data": {
      "image/png": "[encoded data removed]",
      "text/plain": [
       "<Figure size 576x288 with 1 Axes>"
      ]
     },
     "metadata": {
      "needs_background": "light"
     },
     "output_type": "display_data"
    }
   ],
   "source": [
    "fig = plt.figure(figsize = (8,4))\n",
    "ax1= plt.plot(history.history[\"accuracy\"], label = \"training\")\n",
    "ax2 = plt.plot(history.history[\"val_accuracy\"], label = \"validation\")\n",
    "plt.legend(loc=\"upper left\")\n",
    "plt.xlabel(\"Epochs\")\n",
    "plt.ylim(0.9,1)\n",
    "plt.ylabel(\"Accuracy\")\n",
    "plt.title(\"Training accuracy and Validation accuracy by epochs\");"
   ]
  },
  {
   "cell_type": "code",
   "execution_count": 328,
   "metadata": {
    "ExecuteTime": {
     "end_time": "2020-04-19T02:05:40.489757Z",
     "start_time": "2020-04-19T02:05:40.146138Z"
    }
   },
   "outputs": [
    {
     "name": "stdout",
     "output_type": "stream",
     "text": [
      "6720/6720 [==============================] - 0s 48us/step\n"
     ]
    }
   ],
   "source": [
    "test_accuracy = model_fc_r.evaluate(X_test, y_test)[1]"
   ]
  },
  {
   "cell_type": "code",
   "execution_count": 331,
   "metadata": {
    "ExecuteTime": {
     "end_time": "2020-04-19T02:06:09.790883Z",
     "start_time": "2020-04-19T02:06:09.779210Z"
    }
   },
   "outputs": [],
   "source": [
    "Summary_table  = Summary_table.append({\"model\": \"Opimized NN (3 HL, 128 nodes) with Dropout\", \"Test accuracy\": test_accuracy }, ignore_index = True)"
   ]
  },
  {
   "cell_type": "code",
   "execution_count": 345,
   "metadata": {
    "ExecuteTime": {
     "end_time": "2020-04-19T02:09:16.890270Z",
     "start_time": "2020-04-19T02:09:16.882789Z"
    }
   },
   "outputs": [
    {
     "data": {
      "text/html": [
       "<div>\n",
       "<style scoped>\n",
       "    .dataframe tbody tr th:only-of-type {\n",
       "        vertical-align: middle;\n",
       "    }\n",
       "\n",
       "    .dataframe tbody tr th {\n",
       "        vertical-align: top;\n",
       "    }\n",
       "\n",
       "    .dataframe thead th {\n",
       "        text-align: right;\n",
       "    }\n",
       "</style>\n",
       "<table border=\"1\" class=\"dataframe\">\n",
       "  <thead>\n",
       "    <tr style=\"text-align: right;\">\n",
       "      <th></th>\n",
       "      <th>model</th>\n",
       "      <th>Test accuracy</th>\n",
       "    </tr>\n",
       "  </thead>\n",
       "  <tbody>\n",
       "    <tr>\n",
       "      <th>0</th>\n",
       "      <td>Logistic Regression</td>\n",
       "      <td>0.917708</td>\n",
       "    </tr>\n",
       "    <tr>\n",
       "      <th>1</th>\n",
       "      <td>Shallow NN</td>\n",
       "      <td>0.884673</td>\n",
       "    </tr>\n",
       "    <tr>\n",
       "      <th>2</th>\n",
       "      <td>NN 2 HL,5 nodes</td>\n",
       "      <td>0.875595</td>\n",
       "    </tr>\n",
       "    <tr>\n",
       "      <th>3</th>\n",
       "      <td>NN 2 HL,16 nodes</td>\n",
       "      <td>0.939435</td>\n",
       "    </tr>\n",
       "    <tr>\n",
       "      <th>4</th>\n",
       "      <td>Opimized NN (3 HL, 128 nodes)</td>\n",
       "      <td>0.966369</td>\n",
       "    </tr>\n",
       "    <tr>\n",
       "      <th>5</th>\n",
       "      <td>Opimized NN (3 HL, 128 nodes) with Dropout</td>\n",
       "      <td>0.968452</td>\n",
       "    </tr>\n",
       "  </tbody>\n",
       "</table>\n",
       "</div>"
      ],
      "text/plain": [
       "                                        model  Test accuracy\n",
       "0                         Logistic Regression       0.917708\n",
       "1                                  Shallow NN       0.884673\n",
       "2                             NN 2 HL,5 nodes       0.875595\n",
       "3                            NN 2 HL,16 nodes       0.939435\n",
       "4               Opimized NN (3 HL, 128 nodes)       0.966369\n",
       "5  Opimized NN (3 HL, 128 nodes) with Dropout       0.968452"
      ]
     },
     "execution_count": 345,
     "metadata": {},
     "output_type": "execute_result"
    }
   ],
   "source": [
    "Summary_table"
   ]
  },
  {
   "cell_type": "markdown",
   "metadata": {},
   "source": [
    "Observation: <br>\n",
    " We reduce the variance but not much. Furthermure we can combine both drop out and l2 regularization"
   ]
  },
  {
   "cell_type": "markdown",
   "metadata": {},
   "source": [
    "### Dropout"
   ]
  },
  {
   "cell_type": "code",
   "execution_count": 320,
   "metadata": {
    "ExecuteTime": {
     "end_time": "2020-04-19T01:50:30.531642Z",
     "start_time": "2020-04-19T01:50:30.523158Z"
    }
   },
   "outputs": [
    {
     "data": {
      "text/plain": [
       "{'optimizer': 'adam', 'nodes': 128, 'hl': 3, 'activation': 'tanh'}"
      ]
     },
     "execution_count": 320,
     "metadata": {},
     "output_type": "execute_result"
    }
   ],
   "source": [
    "RS_CV.best_params_"
   ]
  },
  {
   "cell_type": "code",
   "execution_count": null,
   "metadata": {},
   "outputs": [],
   "source": [
    " activity_regularizer=regularizers.l1(0.01)))"
   ]
  },
  {
   "cell_type": "code",
   "execution_count": 354,
   "metadata": {
    "ExecuteTime": {
     "end_time": "2020-04-19T02:23:08.049142Z",
     "start_time": "2020-04-19T02:23:07.940269Z"
    }
   },
   "outputs": [],
   "source": [
    "model_fc_r2 = Sequential()\n",
    "model_fc_r2.add(Dense(128, input_shape = (784,), activation = \"tanh\", activity_regularizer = regularizers.l2(0.00001)))\n",
    "model_fc_r2.add(Dropout(0.2))\n",
    "model_fc_r2.add(Dense(128, activation = \"tanh\", activity_regularizer = regularizers.l2(0.00001)))\n",
    "model_fc_r2.add(Dropout(0.2))\n",
    "model_fc_r2.add(Dense(128, activation = \"tanh\", activity_regularizer = regularizers.l2(0.00001)))\n",
    "model_fc_r2.add(Dropout(0.2))\n",
    "model_fc_r2.add(Dense(10, activation = \"softmax\"))"
   ]
  },
  {
   "cell_type": "code",
   "execution_count": 355,
   "metadata": {
    "ExecuteTime": {
     "end_time": "2020-04-19T02:23:14.339693Z",
     "start_time": "2020-04-19T02:23:14.309364Z"
    }
   },
   "outputs": [],
   "source": [
    "model_fc_r2.compile(optimizer = \"adam\", loss = \"categorical_crossentropy\", metrics = [\"accuracy\"])"
   ]
  },
  {
   "cell_type": "code",
   "execution_count": 363,
   "metadata": {
    "ExecuteTime": {
     "end_time": "2020-04-19T02:42:04.037816Z",
     "start_time": "2020-04-19T02:40:04.857690Z"
    }
   },
   "outputs": [
    {
     "name": "stdout",
     "output_type": "stream",
     "text": [
      "Train on 21504 samples, validate on 5376 samples\n",
      "Epoch 1/100\n",
      "21504/21504 [==============================] - 9s 416us/step - loss: 0.1172 - accuracy: 0.9929 - val_loss: 0.2671 - val_accuracy: 0.9701\n",
      "Epoch 2/100\n",
      "21504/21504 [==============================] - 8s 366us/step - loss: 0.1162 - accuracy: 0.9927 - val_loss: 0.2710 - val_accuracy: 0.9678\n",
      "Epoch 3/100\n",
      "21504/21504 [==============================] - 4s 175us/step - loss: 0.1159 - accuracy: 0.9934 - val_loss: 0.2723 - val_accuracy: 0.9684\n",
      "Epoch 4/100\n",
      "21504/21504 [==============================] - 4s 199us/step - loss: 0.1114 - accuracy: 0.9941 - val_loss: 0.2811 - val_accuracy: 0.9697\n",
      "Epoch 5/100\n",
      "21504/21504 [==============================] - 6s 267us/step - loss: 0.1178 - accuracy: 0.9926 - val_loss: 0.2733 - val_accuracy: 0.9678\n",
      "Epoch 6/100\n",
      "21504/21504 [==============================] - 5s 229us/step - loss: 0.1142 - accuracy: 0.9934 - val_loss: 0.2621 - val_accuracy: 0.9699\n",
      "Epoch 7/100\n",
      "21504/21504 [==============================] - 4s 195us/step - loss: 0.1140 - accuracy: 0.9942 - val_loss: 0.2674 - val_accuracy: 0.9686\n",
      "Epoch 8/100\n",
      "21504/21504 [==============================] - 4s 208us/step - loss: 0.1164 - accuracy: 0.9933 - val_loss: 0.2764 - val_accuracy: 0.9691\n",
      "Epoch 9/100\n",
      "21504/21504 [==============================] - 6s 278us/step - loss: 0.1112 - accuracy: 0.9950 - val_loss: 0.2767 - val_accuracy: 0.9706\n",
      "Epoch 10/100\n",
      "21504/21504 [==============================] - 7s 346us/step - loss: 0.1169 - accuracy: 0.9930 - val_loss: 0.2728 - val_accuracy: 0.9658\n",
      "Epoch 11/100\n",
      "21504/21504 [==============================] - 6s 265us/step - loss: 0.1124 - accuracy: 0.9940 - val_loss: 0.2762 - val_accuracy: 0.9678\n",
      "Epoch 12/100\n",
      "21504/21504 [==============================] - 7s 314us/step - loss: 0.1138 - accuracy: 0.9940 - val_loss: 0.2622 - val_accuracy: 0.9689\n",
      "Epoch 13/100\n",
      "21504/21504 [==============================] - 8s 375us/step - loss: 0.1137 - accuracy: 0.9940 - val_loss: 0.2679 - val_accuracy: 0.9704\n",
      "Epoch 14/100\n",
      "21504/21504 [==============================] - 5s 252us/step - loss: 0.1135 - accuracy: 0.9944 - val_loss: 0.2744 - val_accuracy: 0.9691\n",
      "Epoch 15/100\n",
      "21504/21504 [==============================] - 6s 292us/step - loss: 0.1138 - accuracy: 0.9938 - val_loss: 0.2575 - val_accuracy: 0.9706\n",
      "Epoch 16/100\n",
      "21504/21504 [==============================] - 6s 285us/step - loss: 0.1140 - accuracy: 0.9940 - val_loss: 0.2736 - val_accuracy: 0.9682\n",
      "Epoch 17/100\n",
      "21504/21504 [==============================] - 7s 315us/step - loss: 0.1116 - accuracy: 0.9943 - val_loss: 0.2677 - val_accuracy: 0.9686\n",
      "Epoch 18/100\n",
      "21504/21504 [==============================] - 10s 456us/step - loss: 0.1117 - accuracy: 0.9947 - val_loss: 0.2847 - val_accuracy: 0.9686\n",
      "Epoch 19/100\n",
      "21504/21504 [==============================] - 7s 304us/step - loss: 0.1107 - accuracy: 0.9949 - val_loss: 0.2837 - val_accuracy: 0.9691\n"
     ]
    }
   ],
   "source": [
    "history = model_fc_r2.fit(X_train, y_train, validation_split = 0.2, epochs = 100, callbacks = [early_stopping])"
   ]
  },
  {
   "cell_type": "code",
   "execution_count": 364,
   "metadata": {
    "ExecuteTime": {
     "end_time": "2020-04-19T02:42:42.102948Z",
     "start_time": "2020-04-19T02:42:41.871014Z"
    }
   },
   "outputs": [
    {
     "data": {
      "image/png": "[encoded data removed]",
      "text/plain": [
       "<Figure size 576x288 with 1 Axes>"
      ]
     },
     "metadata": {
      "needs_background": "light"
     },
     "output_type": "display_data"
    }
   ],
   "source": [
    "fig = plt.figure(figsize = (8,4))\n",
    "ax1= plt.plot(history.history[\"accuracy\"], label = \"training\")\n",
    "ax2 = plt.plot(history.history[\"val_accuracy\"], label = \"validation\")\n",
    "plt.legend(loc=\"upper left\")\n",
    "plt.xlabel(\"Epochs\")\n",
    "plt.ylim(0.9,1)\n",
    "plt.ylabel(\"Accuracy\")\n",
    "plt.title(\"Training accuracy and Validation accuracy by epochs\");"
   ]
  },
  {
   "cell_type": "code",
   "execution_count": 359,
   "metadata": {
    "ExecuteTime": {
     "end_time": "2020-04-19T02:30:54.863589Z",
     "start_time": "2020-04-19T02:30:54.400558Z"
    }
   },
   "outputs": [
    {
     "name": "stdout",
     "output_type": "stream",
     "text": [
      "6720/6720 [==============================] - 0s 66us/step\n"
     ]
    }
   ],
   "source": [
    "test_accuracy = model_fc_r2.evaluate(X_test, y_test)[1]"
   ]
  },
  {
   "cell_type": "code",
   "execution_count": 360,
   "metadata": {
    "ExecuteTime": {
     "end_time": "2020-04-19T02:31:02.563899Z",
     "start_time": "2020-04-19T02:31:02.553683Z"
    }
   },
   "outputs": [],
   "source": [
    "Summary_table  = Summary_table.append({\"model\": \"Opimized NN (3 HL, 128 nodes) with Dropout & L2\", \"Test accuracy\": test_accuracy }, ignore_index = True)"
   ]
  },
  {
   "cell_type": "code",
   "execution_count": 361,
   "metadata": {
    "ExecuteTime": {
     "end_time": "2020-04-19T02:31:02.934552Z",
     "start_time": "2020-04-19T02:31:02.919196Z"
    }
   },
   "outputs": [
    {
     "data": {
      "text/html": [
       "<div>\n",
       "<style scoped>\n",
       "    .dataframe tbody tr th:only-of-type {\n",
       "        vertical-align: middle;\n",
       "    }\n",
       "\n",
       "    .dataframe tbody tr th {\n",
       "        vertical-align: top;\n",
       "    }\n",
       "\n",
       "    .dataframe thead th {\n",
       "        text-align: right;\n",
       "    }\n",
       "</style>\n",
       "<table border=\"1\" class=\"dataframe\">\n",
       "  <thead>\n",
       "    <tr style=\"text-align: right;\">\n",
       "      <th></th>\n",
       "      <th>model</th>\n",
       "      <th>Test accuracy</th>\n",
       "    </tr>\n",
       "  </thead>\n",
       "  <tbody>\n",
       "    <tr>\n",
       "      <th>0</th>\n",
       "      <td>Logistic Regression</td>\n",
       "      <td>0.917708</td>\n",
       "    </tr>\n",
       "    <tr>\n",
       "      <th>1</th>\n",
       "      <td>Shallow NN</td>\n",
       "      <td>0.884673</td>\n",
       "    </tr>\n",
       "    <tr>\n",
       "      <th>2</th>\n",
       "      <td>NN 2 HL,5 nodes</td>\n",
       "      <td>0.875595</td>\n",
       "    </tr>\n",
       "    <tr>\n",
       "      <th>3</th>\n",
       "      <td>NN 2 HL,16 nodes</td>\n",
       "      <td>0.939435</td>\n",
       "    </tr>\n",
       "    <tr>\n",
       "      <th>4</th>\n",
       "      <td>Opimized NN (3 HL, 128 nodes)</td>\n",
       "      <td>0.966369</td>\n",
       "    </tr>\n",
       "    <tr>\n",
       "      <th>5</th>\n",
       "      <td>Opimized NN (3 HL, 128 nodes) with Dropout</td>\n",
       "      <td>0.968452</td>\n",
       "    </tr>\n",
       "    <tr>\n",
       "      <th>6</th>\n",
       "      <td>Opimized NN (3 HL, 128 nodes) with Dropout &amp; L2</td>\n",
       "      <td>0.968750</td>\n",
       "    </tr>\n",
       "  </tbody>\n",
       "</table>\n",
       "</div>"
      ],
      "text/plain": [
       "                                             model  Test accuracy\n",
       "0                              Logistic Regression       0.917708\n",
       "1                                       Shallow NN       0.884673\n",
       "2                                  NN 2 HL,5 nodes       0.875595\n",
       "3                                 NN 2 HL,16 nodes       0.939435\n",
       "4                    Opimized NN (3 HL, 128 nodes)       0.966369\n",
       "5       Opimized NN (3 HL, 128 nodes) with Dropout       0.968452\n",
       "6  Opimized NN (3 HL, 128 nodes) with Dropout & L2       0.968750"
      ]
     },
     "execution_count": 361,
     "metadata": {},
     "output_type": "execute_result"
    }
   ],
   "source": [
    "Summary_table"
   ]
  },
  {
   "cell_type": "code",
   "execution_count": null,
   "metadata": {},
   "outputs": [],
   "source": []
  }
 ],
 "metadata": {
  "kernelspec": {
   "display_name": "Python 3",
   "language": "python",
   "name": "python3"
  },
  "language_info": {
   "codemirror_mode": {
    "name": "ipython",
    "version": 3
   },
   "file_extension": ".py",
   "mimetype": "text/x-python",
   "name": "python",
   "nbconvert_exporter": "python",
   "pygments_lexer": "ipython3",
   "version": "3.7.6"
  },
  "toc": {
   "base_numbering": 1,
   "nav_menu": {},
   "number_sections": true,
   "sideBar": true,
   "skip_h1_title": false,
   "title_cell": "Table of Contents",
   "title_sidebar": "Contents",
   "toc_cell": false,
   "toc_position": {},
   "toc_section_display": true,
   "toc_window_display": false
  }
 },
 "nbformat": 4,
 "nbformat_minor": 4
}
