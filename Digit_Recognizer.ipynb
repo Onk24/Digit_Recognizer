{
 "cells": [
  {
   "cell_type": "markdown",
   "metadata": {},
   "source": [
    "# Digit Recognizer \n",
    "\n",
    "by Onkar Suhas Samant"
   ]
  },
  {
   "cell_type": "markdown",
   "metadata": {},
   "source": [
    "#  Executive Summary\n",
    "\n",
    "\n",
    "**Goal:** <br>\n",
    "\n",
    "Recognize hand written digits' images (32x32 pixels in grey scale) and predict the labels which are from 0 to 9. \n",
    "It's also an ongoing competition. <br> \n",
    "Kaggle link: https://www.kaggle.com/c/digit-recognizer\n",
    "\n",
    "**Dataset:** <br>\n",
    "\n",
    "The dataset is obtained from the link above <br>\n",
    "- Training dataset: 42,000 images, labeled \n",
    "- Test dataset: 28,000, unlabeled\n",
    "\n",
    "Since we do not have labels for the test set we create a test set from the training set (20% of training set, technically validation set) and tabulate the results\n",
    "\n",
    "<br>\n",
    "    \n",
    "**Key takeaways:** <br>\n",
    "\n",
    "- Following are results on the test dataset \n",
    "\n",
    "| Model | Test Set Accuracy |\n",
    "| :-: | :-: |\n",
    "| Logistic Regression | 0.92 |\n",
    "| Shallow Neural Network | 0.89 | \n",
    "| Fully Connected Neural Network  | 0.94 |\n",
    "| Optimized Fully Connected Neural Network | 0.97 | \n",
    "| CNN architecture | 0.99|\n",
    "\n",
    "- Logistic Regression serves as the baseline for all the models\n",
    "\n",
    "\n",
    "- Neural Networks with more than 2 hidden layers performs well on this dataset. The optimized Fully Connected Neural Network Architechture has 3 Hidden layers of 128 nodes and Dropout Regularization\n",
    "\n",
    "\n",
    "- Convolutional Neural Network Architechture performs exceptionally well on the dataset. The Architecture is inspired from LeNet-5 architecture. It has 2 Convolution Layers (filter size - 3x3), 2 Fully Connected layers (128, 64 nodes) and Dropout Regularization <br>\n",
    "\n",
    "\n",
    "\n",
    "\n",
    "**Kaggle Submission Result:** Accuracy = 0.989 (Top 40 percentile) on unlabeled dataset\n"
   ]
  },
  {
   "cell_type": "markdown",
   "metadata": {},
   "source": [
    "#  Importing libraries and data"
   ]
  },
  {
   "cell_type": "code",
   "execution_count": 1,
   "metadata": {
    "ExecuteTime": {
     "end_time": "2020-04-20T02:31:36.605827Z",
     "start_time": "2020-04-20T02:31:30.048627Z"
    }
   },
   "outputs": [
    {
     "name": "stderr",
     "output_type": "stream",
     "text": [
      "Using TensorFlow backend.\n"
     ]
    }
   ],
   "source": [
    "import pandas as pd\n",
    "import numpy as np\n",
    "import keras\n",
    "from matplotlib import pyplot as plt\n",
    "import seaborn as sns\n",
    "from sklearn.model_selection import train_test_split\n",
    "from keras.utils import to_categorical\n",
    "from keras.models import Sequential\n",
    "from keras.layers import Dense, BatchNormalization, Conv2D, MaxPooling2D, Flatten, Activation\n",
    "from keras.callbacks import EarlyStopping\n",
    "from sklearn.linear_model import LogisticRegression\n",
    "from sklearn.model_selection import cross_val_score\n",
    "from sklearn.model_selection import RandomizedSearchCV\n",
    "from sklearn.model_selection import GridSearchCV\n",
    "from keras.layers import Dropout\n",
    "from keras.wrappers.scikit_learn import KerasClassifier\n",
    "from keras import regularizers;"
   ]
  },
  {
   "cell_type": "code",
   "execution_count": 2,
   "metadata": {
    "ExecuteTime": {
     "end_time": "2020-04-20T02:31:43.468810Z",
     "start_time": "2020-04-20T02:31:36.610892Z"
    }
   },
   "outputs": [],
   "source": [
    "digits_train = pd.read_csv(\"train.csv\")\n",
    "digits_test = pd.read_csv(\"test.csv\")"
   ]
  },
  {
   "cell_type": "markdown",
   "metadata": {},
   "source": [
    "# Explorarary Data Analysis"
   ]
  },
  {
   "cell_type": "markdown",
   "metadata": {},
   "source": [
    "##  Structure of Data"
   ]
  },
  {
   "cell_type": "code",
   "execution_count": 3,
   "metadata": {
    "ExecuteTime": {
     "end_time": "2020-04-20T02:31:43.482474Z",
     "start_time": "2020-04-20T02:31:43.472547Z"
    }
   },
   "outputs": [
    {
     "data": {
      "text/plain": [
       "(42000, 785)"
      ]
     },
     "execution_count": 3,
     "metadata": {},
     "output_type": "execute_result"
    }
   ],
   "source": [
    "digits_train.shape"
   ]
  },
  {
   "cell_type": "markdown",
   "metadata": {},
   "source": [
    "Training dataset:\n",
    "-  28x28 image in 784 columns and 1 label\n",
    "- 42000 images"
   ]
  },
  {
   "cell_type": "code",
   "execution_count": 4,
   "metadata": {
    "ExecuteTime": {
     "end_time": "2020-04-20T02:31:43.490620Z",
     "start_time": "2020-04-20T02:31:43.484511Z"
    }
   },
   "outputs": [
    {
     "data": {
      "text/plain": [
       "(28000, 784)"
      ]
     },
     "execution_count": 4,
     "metadata": {},
     "output_type": "execute_result"
    }
   ],
   "source": [
    "digits_test.shape"
   ]
  },
  {
   "cell_type": "markdown",
   "metadata": {},
   "source": [
    "Test dataset:\n",
    "- 28x28 image in 784 columns\n",
    "- 28000 images"
   ]
  },
  {
   "cell_type": "code",
   "execution_count": 5,
   "metadata": {
    "ExecuteTime": {
     "end_time": "2020-04-20T02:31:43.496875Z",
     "start_time": "2020-04-20T02:31:43.492615Z"
    }
   },
   "outputs": [],
   "source": [
    "X_test = digits_test"
   ]
  },
  {
   "cell_type": "code",
   "execution_count": 6,
   "metadata": {
    "ExecuteTime": {
     "end_time": "2020-04-20T02:31:43.504427Z",
     "start_time": "2020-04-20T02:31:43.499553Z"
    }
   },
   "outputs": [],
   "source": [
    "X_train, y_train = digits_train.iloc[:,1:], digits_train[\"label\"]"
   ]
  },
  {
   "cell_type": "markdown",
   "metadata": {},
   "source": [
    "## Check Null values"
   ]
  },
  {
   "cell_type": "code",
   "execution_count": 7,
   "metadata": {
    "ExecuteTime": {
     "end_time": "2020-04-20T02:31:43.595442Z",
     "start_time": "2020-04-20T02:31:43.505625Z"
    }
   },
   "outputs": [
    {
     "data": {
      "text/plain": [
       "count    785.0\n",
       "mean       0.0\n",
       "std        0.0\n",
       "min        0.0\n",
       "25%        0.0\n",
       "50%        0.0\n",
       "75%        0.0\n",
       "max        0.0\n",
       "dtype: float64"
      ]
     },
     "execution_count": 7,
     "metadata": {},
     "output_type": "execute_result"
    }
   ],
   "source": [
    "digits_train.isna().sum().describe()"
   ]
  },
  {
   "cell_type": "markdown",
   "metadata": {},
   "source": [
    "There are no null values"
   ]
  },
  {
   "cell_type": "markdown",
   "metadata": {},
   "source": [
    "##  Visualize the images"
   ]
  },
  {
   "cell_type": "code",
   "execution_count": 8,
   "metadata": {
    "ExecuteTime": {
     "end_time": "2020-04-20T02:31:44.121652Z",
     "start_time": "2020-04-20T02:31:43.598174Z"
    }
   },
   "outputs": [
    {
     "data": {
      "image/png": "[encoded data removed]",
      "text/plain": [
       "<Figure size 1080x360 with 3 Axes>"
      ]
     },
     "metadata": {
      "needs_background": "light"
     },
     "output_type": "display_data"
    }
   ],
   "source": [
    "#Let's check how few images look like\n",
    "fig, ax = plt.subplots(1,3, figsize = (15,5))\n",
    "ax[0].set_title(\"Image 1\")\n",
    "ax[0].imshow(np.array(X_train.iloc[0]).reshape(28,28), cmap = \"gray\")\n",
    "ax[1].set_title(\"Image 2\")\n",
    "ax[1].imshow(np.array(X_train.iloc[1]).reshape(28,28), cmap = \"gray\")\n",
    "ax[2].set_title(\"Image 3\")\n",
    "ax[2].imshow(np.array(X_train.iloc[3]).reshape(28,28), cmap = \"gray\");"
   ]
  },
  {
   "cell_type": "markdown",
   "metadata": {},
   "source": [
    "##  Distribution of Image labels"
   ]
  },
  {
   "cell_type": "code",
   "execution_count": 9,
   "metadata": {
    "ExecuteTime": {
     "end_time": "2020-04-20T02:31:44.239192Z",
     "start_time": "2020-04-20T02:31:44.125945Z"
    }
   },
   "outputs": [
    {
     "data": {
      "text/html": [
       "<div>\n",
       "<style scoped>\n",
       "    .dataframe tbody tr th:only-of-type {\n",
       "        vertical-align: middle;\n",
       "    }\n",
       "\n",
       "    .dataframe tbody tr th {\n",
       "        vertical-align: top;\n",
       "    }\n",
       "\n",
       "    .dataframe thead th {\n",
       "        text-align: right;\n",
       "    }\n",
       "</style>\n",
       "<table border=\"1\" class=\"dataframe\">\n",
       "  <thead>\n",
       "    <tr style=\"text-align: right;\">\n",
       "      <th></th>\n",
       "      <th>label</th>\n",
       "    </tr>\n",
       "    <tr>\n",
       "      <th>label</th>\n",
       "      <th></th>\n",
       "    </tr>\n",
       "  </thead>\n",
       "  <tbody>\n",
       "    <tr>\n",
       "      <th>0</th>\n",
       "      <td>4132</td>\n",
       "    </tr>\n",
       "    <tr>\n",
       "      <th>1</th>\n",
       "      <td>4684</td>\n",
       "    </tr>\n",
       "    <tr>\n",
       "      <th>2</th>\n",
       "      <td>4177</td>\n",
       "    </tr>\n",
       "    <tr>\n",
       "      <th>3</th>\n",
       "      <td>4351</td>\n",
       "    </tr>\n",
       "    <tr>\n",
       "      <th>4</th>\n",
       "      <td>4072</td>\n",
       "    </tr>\n",
       "    <tr>\n",
       "      <th>5</th>\n",
       "      <td>3795</td>\n",
       "    </tr>\n",
       "    <tr>\n",
       "      <th>6</th>\n",
       "      <td>4137</td>\n",
       "    </tr>\n",
       "    <tr>\n",
       "      <th>7</th>\n",
       "      <td>4401</td>\n",
       "    </tr>\n",
       "    <tr>\n",
       "      <th>8</th>\n",
       "      <td>4063</td>\n",
       "    </tr>\n",
       "    <tr>\n",
       "      <th>9</th>\n",
       "      <td>4188</td>\n",
       "    </tr>\n",
       "  </tbody>\n",
       "</table>\n",
       "</div>"
      ],
      "text/plain": [
       "       label\n",
       "label       \n",
       "0       4132\n",
       "1       4684\n",
       "2       4177\n",
       "3       4351\n",
       "4       4072\n",
       "5       3795\n",
       "6       4137\n",
       "7       4401\n",
       "8       4063\n",
       "9       4188"
      ]
     },
     "execution_count": 9,
     "metadata": {},
     "output_type": "execute_result"
    }
   ],
   "source": [
    "y_counts = y_train.value_counts(sort = True, normalize = True)\n",
    "digits_train.groupby(\"label\").agg({\"label\":\"count\"})"
   ]
  },
  {
   "cell_type": "code",
   "execution_count": 77,
   "metadata": {
    "ExecuteTime": {
     "end_time": "2020-04-20T03:11:45.492884Z",
     "start_time": "2020-04-20T03:11:45.485859Z"
    }
   },
   "outputs": [
    {
     "data": {
      "text/plain": [
       "0    1\n",
       "dtype: int64"
      ]
     },
     "execution_count": 77,
     "metadata": {},
     "output_type": "execute_result"
    }
   ],
   "source": [
    "#Mode of the distribution (Most common value)\n",
    "digits_train[\"label\"].mode()"
   ]
  },
  {
   "cell_type": "code",
   "execution_count": 10,
   "metadata": {
    "ExecuteTime": {
     "end_time": "2020-04-20T02:31:44.494661Z",
     "start_time": "2020-04-20T02:31:44.242230Z"
    }
   },
   "outputs": [
    {
     "data": {
      "image/png": "[encoded data removed]",
      "text/plain": [
       "<Figure size 720x360 with 1 Axes>"
      ]
     },
     "metadata": {
      "needs_background": "light"
     },
     "output_type": "display_data"
    }
   ],
   "source": [
    "plt.figure(figsize = (10,5))\n",
    "ax = sns.barplot(x=y_counts.index, y = y_counts.values)\n",
    "ax.set_title(\"Distribution of labels\")\n",
    "ax.set_ylabel(\"Proportion of the label\")\n",
    "ax.set_xlabel(\"Labels\");"
   ]
  },
  {
   "cell_type": "markdown",
   "metadata": {},
   "source": [
    "We observe the labels are fairly evenly distributed"
   ]
  },
  {
   "cell_type": "markdown",
   "metadata": {},
   "source": [
    "# Data Engineering / Wrangling"
   ]
  },
  {
   "cell_type": "markdown",
   "metadata": {},
   "source": [
    "##  Normalizing\n",
    "Neural networks converge faster for normalized data. The data has max 255 represeting the brightness of the image"
   ]
  },
  {
   "cell_type": "code",
   "execution_count": 11,
   "metadata": {
    "ExecuteTime": {
     "end_time": "2020-04-20T02:31:44.600175Z",
     "start_time": "2020-04-20T02:31:44.496415Z"
    }
   },
   "outputs": [],
   "source": [
    "X_train = X_train / 255\n",
    "X_test = X_test / 255"
   ]
  },
  {
   "cell_type": "markdown",
   "metadata": {},
   "source": [
    "##  Converting labels to categorical outputs"
   ]
  },
  {
   "cell_type": "code",
   "execution_count": 12,
   "metadata": {
    "ExecuteTime": {
     "end_time": "2020-04-20T02:31:44.607675Z",
     "start_time": "2020-04-20T02:31:44.601172Z"
    }
   },
   "outputs": [],
   "source": [
    "y_train = to_categorical(y_train, num_classes = 10)"
   ]
  },
  {
   "cell_type": "markdown",
   "metadata": {},
   "source": [
    "##  Splitting the training data\n",
    "- training set\n",
    "- test set\n",
    "\n",
    "We do not have labels for the test set provided on Kaggle. Hence, we test on them later with the best model"
   ]
  },
  {
   "cell_type": "code",
   "execution_count": 13,
   "metadata": {
    "ExecuteTime": {
     "end_time": "2020-04-20T02:31:44.999800Z",
     "start_time": "2020-04-20T02:31:44.609976Z"
    }
   },
   "outputs": [],
   "source": [
    "X_train, X_test, y_train, y_test = train_test_split(X_train, y_train, test_size = 0.2)"
   ]
  },
  {
   "cell_type": "markdown",
   "metadata": {},
   "source": [
    "## Reshaping data for use in CNN\n",
    "- Length x width = 28 x 28\n",
    "- Channel = 1"
   ]
  },
  {
   "cell_type": "code",
   "execution_count": 14,
   "metadata": {
    "ExecuteTime": {
     "end_time": "2020-04-20T02:31:45.009827Z",
     "start_time": "2020-04-20T02:31:45.002050Z"
    }
   },
   "outputs": [],
   "source": [
    "X_train_r, X_test_r = X_train.values.reshape(-1,28,28,1), X_test.values.reshape(-1,28,28,1)"
   ]
  },
  {
   "cell_type": "markdown",
   "metadata": {},
   "source": [
    "# Modeling"
   ]
  },
  {
   "cell_type": "code",
   "execution_count": 15,
   "metadata": {
    "ExecuteTime": {
     "end_time": "2020-04-20T02:31:45.029452Z",
     "start_time": "2020-04-20T02:31:45.011386Z"
    }
   },
   "outputs": [],
   "source": [
    "Summary_table = pd.DataFrame(columns = [\"model\", \"Test accuracy\"])"
   ]
  },
  {
   "cell_type": "markdown",
   "metadata": {},
   "source": [
    "## Logistic Regression\n",
    "Baseline model for comparison "
   ]
  },
  {
   "cell_type": "code",
   "execution_count": 16,
   "metadata": {
    "ExecuteTime": {
     "end_time": "2020-04-20T02:31:45.034523Z",
     "start_time": "2020-04-20T02:31:45.030548Z"
    }
   },
   "outputs": [],
   "source": [
    "lr = LogisticRegression(solver = \"lbfgs\", max_iter = 1000)"
   ]
  },
  {
   "cell_type": "code",
   "execution_count": 17,
   "metadata": {
    "ExecuteTime": {
     "end_time": "2020-04-20T02:33:07.967846Z",
     "start_time": "2020-04-20T02:31:45.036518Z"
    }
   },
   "outputs": [],
   "source": [
    "lr.fit(X_train, np.argmax(y_train, axis = 1));"
   ]
  },
  {
   "cell_type": "code",
   "execution_count": 18,
   "metadata": {
    "ExecuteTime": {
     "end_time": "2020-04-20T02:33:08.008972Z",
     "start_time": "2020-04-20T02:33:07.969764Z"
    }
   },
   "outputs": [],
   "source": [
    "test_accuracy = lr.score(X_test, np.argmax(y_test, axis = 1))"
   ]
  },
  {
   "cell_type": "code",
   "execution_count": 19,
   "metadata": {
    "ExecuteTime": {
     "end_time": "2020-04-20T02:33:08.021208Z",
     "start_time": "2020-04-20T02:33:08.009971Z"
    }
   },
   "outputs": [],
   "source": [
    "Summary_table  = Summary_table.append({\"model\": \"Logistic Regression\", \"Test accuracy\": np.round(test_accuracy,3) }, ignore_index = True)"
   ]
  },
  {
   "cell_type": "code",
   "execution_count": 20,
   "metadata": {
    "ExecuteTime": {
     "end_time": "2020-04-20T02:33:08.037641Z",
     "start_time": "2020-04-20T02:33:08.023206Z"
    }
   },
   "outputs": [
    {
     "data": {
      "text/html": [
       "<div>\n",
       "<style scoped>\n",
       "    .dataframe tbody tr th:only-of-type {\n",
       "        vertical-align: middle;\n",
       "    }\n",
       "\n",
       "    .dataframe tbody tr th {\n",
       "        vertical-align: top;\n",
       "    }\n",
       "\n",
       "    .dataframe thead th {\n",
       "        text-align: right;\n",
       "    }\n",
       "</style>\n",
       "<table border=\"1\" class=\"dataframe\">\n",
       "  <thead>\n",
       "    <tr style=\"text-align: right;\">\n",
       "      <th></th>\n",
       "      <th>model</th>\n",
       "      <th>Test accuracy</th>\n",
       "    </tr>\n",
       "  </thead>\n",
       "  <tbody>\n",
       "    <tr>\n",
       "      <th>0</th>\n",
       "      <td>Logistic Regression</td>\n",
       "      <td>0.921</td>\n",
       "    </tr>\n",
       "  </tbody>\n",
       "</table>\n",
       "</div>"
      ],
      "text/plain": [
       "                 model  Test accuracy\n",
       "0  Logistic Regression          0.921"
      ]
     },
     "execution_count": 20,
     "metadata": {},
     "output_type": "execute_result"
    }
   ],
   "source": [
    "Summary_table"
   ]
  },
  {
   "cell_type": "markdown",
   "metadata": {},
   "source": [
    "## Shallow fully connected Neural Network\n",
    "- Hidden layer1: 5 nodes, activation function: relu\n",
    "- Optimizer: Adam\n",
    "- Early stoppng: 10, stops further epochs iteration if the validation accuracy does not improve for 10 iterations"
   ]
  },
  {
   "cell_type": "code",
   "execution_count": 21,
   "metadata": {
    "ExecuteTime": {
     "end_time": "2020-04-20T02:33:08.113832Z",
     "start_time": "2020-04-20T02:33:08.039624Z"
    }
   },
   "outputs": [],
   "source": [
    "model_s = Sequential()\n",
    "model_s.add(Dense(5, input_shape = (784,), activation = \"relu\"))\n",
    "#Output layer\n",
    "model_s.add(Dense(10, activation = \"softmax\"))\n",
    "model_s.compile(optimizer = \"adam\", loss = \"categorical_crossentropy\", metrics = [\"accuracy\"])"
   ]
  },
  {
   "cell_type": "code",
   "execution_count": 22,
   "metadata": {
    "ExecuteTime": {
     "end_time": "2020-04-20T02:33:08.118484Z",
     "start_time": "2020-04-20T02:33:08.115376Z"
    }
   },
   "outputs": [
    {
     "name": "stdout",
     "output_type": "stream",
     "text": [
      "Model: \"sequential_1\"\n",
      "_________________________________________________________________\n",
      "Layer (type)                 Output Shape              Param #   \n",
      "=================================================================\n",
      "dense_1 (Dense)              (None, 5)                 3925      \n",
      "_________________________________________________________________\n",
      "dense_2 (Dense)              (None, 10)                60        \n",
      "=================================================================\n",
      "Total params: 3,985\n",
      "Trainable params: 3,985\n",
      "Non-trainable params: 0\n",
      "_________________________________________________________________\n"
     ]
    }
   ],
   "source": [
    "model_s.summary()"
   ]
  },
  {
   "cell_type": "markdown",
   "metadata": {},
   "source": [
    "There are:\n",
    "- Layer1: Weights =  784*5, Bias(each node's) = 5. Total = 3925\n",
    "- Layer2 (output): Weights = 5*10 = 50, Bias (each node's) = 10. Total 60\n",
    "\n",
    "Toatal parameters = 3985"
   ]
  },
  {
   "cell_type": "code",
   "execution_count": 23,
   "metadata": {
    "ExecuteTime": {
     "end_time": "2020-04-20T02:33:08.125931Z",
     "start_time": "2020-04-20T02:33:08.124041Z"
    }
   },
   "outputs": [],
   "source": [
    "early_stopping = EarlyStopping(monitor = \"val_accuracy\", patience = 10)"
   ]
  },
  {
   "cell_type": "code",
   "execution_count": 24,
   "metadata": {
    "ExecuteTime": {
     "end_time": "2020-04-20T02:36:37.199670Z",
     "start_time": "2020-04-20T02:33:08.128264Z"
    }
   },
   "outputs": [
    {
     "name": "stdout",
     "output_type": "stream",
     "text": [
      "Train on 26880 samples, validate on 6720 samples\n",
      "Epoch 1/100\n",
      "26880/26880 [==============================] - 5s 180us/step - loss: 1.1677 - accuracy: 0.6351 - val_loss: 0.7051 - val_accuracy: 0.7899\n",
      "Epoch 2/100\n",
      "26880/26880 [==============================] - 4s 157us/step - loss: 0.6243 - accuracy: 0.8126 - val_loss: 0.5501 - val_accuracy: 0.8324\n",
      "Epoch 3/100\n",
      "26880/26880 [==============================] - 5s 171us/step - loss: 0.5251 - accuracy: 0.8433 - val_loss: 0.4933 - val_accuracy: 0.8503\n",
      "Epoch 4/100\n",
      "26880/26880 [==============================] - 5s 174us/step - loss: 0.4735 - accuracy: 0.8586 - val_loss: 0.4495 - val_accuracy: 0.8665\n",
      "Epoch 5/100\n",
      "26880/26880 [==============================] - 5s 168us/step - loss: 0.4390 - accuracy: 0.8688 - val_loss: 0.4245 - val_accuracy: 0.8737\n",
      "Epoch 6/100\n",
      "26880/26880 [==============================] - 5s 173us/step - loss: 0.4143 - accuracy: 0.8786 - val_loss: 0.4163 - val_accuracy: 0.8762\n",
      "Epoch 7/100\n",
      "26880/26880 [==============================] - 4s 167us/step - loss: 0.3973 - accuracy: 0.8838 - val_loss: 0.3920 - val_accuracy: 0.8856\n",
      "Epoch 8/100\n",
      "26880/26880 [==============================] - 4s 167us/step - loss: 0.3841 - accuracy: 0.8878 - val_loss: 0.3959 - val_accuracy: 0.8808\n",
      "Epoch 9/100\n",
      "26880/26880 [==============================] - 5s 175us/step - loss: 0.3751 - accuracy: 0.8903 - val_loss: 0.3811 - val_accuracy: 0.8909\n",
      "Epoch 10/100\n",
      "26880/26880 [==============================] - 5s 176us/step - loss: 0.3675 - accuracy: 0.8930 - val_loss: 0.3846 - val_accuracy: 0.8874\n",
      "Epoch 11/100\n",
      "26880/26880 [==============================] - 4s 160us/step - loss: 0.3616 - accuracy: 0.8952 - val_loss: 0.3756 - val_accuracy: 0.8915\n",
      "Epoch 12/100\n",
      "26880/26880 [==============================] - 3s 107us/step - loss: 0.3569 - accuracy: 0.8950 - val_loss: 0.3811 - val_accuracy: 0.8890\n",
      "Epoch 13/100\n",
      "26880/26880 [==============================] - 3s 121us/step - loss: 0.3520 - accuracy: 0.8954 - val_loss: 0.3783 - val_accuracy: 0.8902\n",
      "Epoch 14/100\n",
      "26880/26880 [==============================] - 2s 91us/step - loss: 0.3486 - accuracy: 0.8981 - val_loss: 0.3759 - val_accuracy: 0.8920\n",
      "Epoch 15/100\n",
      "26880/26880 [==============================] - 4s 166us/step - loss: 0.3462 - accuracy: 0.8985 - val_loss: 0.3743 - val_accuracy: 0.8905\n",
      "Epoch 16/100\n",
      "26880/26880 [==============================] - 6s 206us/step - loss: 0.3435 - accuracy: 0.8996 - val_loss: 0.3764 - val_accuracy: 0.8936\n",
      "Epoch 17/100\n",
      "26880/26880 [==============================] - 6s 222us/step - loss: 0.3389 - accuracy: 0.9004 - val_loss: 0.3723 - val_accuracy: 0.8936\n",
      "Epoch 18/100\n",
      "26880/26880 [==============================] - 5s 193us/step - loss: 0.3380 - accuracy: 0.9017 - val_loss: 0.3721 - val_accuracy: 0.8917\n",
      "Epoch 19/100\n",
      "26880/26880 [==============================] - 5s 174us/step - loss: 0.3363 - accuracy: 0.9019 - val_loss: 0.3705 - val_accuracy: 0.8942\n",
      "Epoch 20/100\n",
      "26880/26880 [==============================] - 4s 162us/step - loss: 0.3334 - accuracy: 0.9026 - val_loss: 0.3707 - val_accuracy: 0.8960\n",
      "Epoch 21/100\n",
      "26880/26880 [==============================] - 5s 176us/step - loss: 0.3312 - accuracy: 0.9029 - val_loss: 0.3734 - val_accuracy: 0.8939\n",
      "Epoch 22/100\n",
      "26880/26880 [==============================] - 4s 161us/step - loss: 0.3306 - accuracy: 0.9047 - val_loss: 0.3745 - val_accuracy: 0.8924\n",
      "Epoch 23/100\n",
      "26880/26880 [==============================] - 5s 182us/step - loss: 0.3274 - accuracy: 0.9042 - val_loss: 0.3759 - val_accuracy: 0.8927\n",
      "Epoch 24/100\n",
      "26880/26880 [==============================] - 5s 171us/step - loss: 0.3263 - accuracy: 0.9040 - val_loss: 0.3714 - val_accuracy: 0.8945\n",
      "Epoch 25/100\n",
      "26880/26880 [==============================] - 5s 172us/step - loss: 0.3250 - accuracy: 0.9058 - val_loss: 0.3733 - val_accuracy: 0.8933\n",
      "Epoch 26/100\n",
      "26880/26880 [==============================] - 5s 169us/step - loss: 0.3239 - accuracy: 0.9063 - val_loss: 0.3718 - val_accuracy: 0.8935\n",
      "Epoch 27/100\n",
      "26880/26880 [==============================] - 5s 173us/step - loss: 0.3223 - accuracy: 0.9061 - val_loss: 0.3729 - val_accuracy: 0.8954\n",
      "Epoch 28/100\n",
      "26880/26880 [==============================] - 5s 172us/step - loss: 0.3205 - accuracy: 0.9065 - val_loss: 0.3791 - val_accuracy: 0.8958\n",
      "Epoch 29/100\n",
      "26880/26880 [==============================] - 4s 161us/step - loss: 0.3203 - accuracy: 0.9057 - val_loss: 0.3748 - val_accuracy: 0.8966\n",
      "Epoch 30/100\n",
      "26880/26880 [==============================] - 4s 160us/step - loss: 0.3191 - accuracy: 0.9072 - val_loss: 0.3705 - val_accuracy: 0.8961\n",
      "Epoch 31/100\n",
      "26880/26880 [==============================] - 4s 165us/step - loss: 0.3180 - accuracy: 0.9073 - val_loss: 0.3775 - val_accuracy: 0.8957\n",
      "Epoch 32/100\n",
      "26880/26880 [==============================] - 3s 130us/step - loss: 0.3176 - accuracy: 0.9082 - val_loss: 0.3798 - val_accuracy: 0.8918\n",
      "Epoch 33/100\n",
      "26880/26880 [==============================] - 5s 185us/step - loss: 0.3158 - accuracy: 0.9077 - val_loss: 0.3727 - val_accuracy: 0.8982\n",
      "Epoch 34/100\n",
      "26880/26880 [==============================] - 3s 122us/step - loss: 0.3154 - accuracy: 0.9080 - val_loss: 0.3734 - val_accuracy: 0.8949\n",
      "Epoch 35/100\n",
      "26880/26880 [==============================] - 4s 153us/step - loss: 0.3144 - accuracy: 0.9076 - val_loss: 0.3760 - val_accuracy: 0.8936\n",
      "Epoch 36/100\n",
      "26880/26880 [==============================] - 5s 177us/step - loss: 0.3146 - accuracy: 0.9077 - val_loss: 0.3755 - val_accuracy: 0.8961\n",
      "Epoch 37/100\n",
      "26880/26880 [==============================] - 4s 140us/step - loss: 0.3126 - accuracy: 0.9096 - val_loss: 0.3857 - val_accuracy: 0.8917\n",
      "Epoch 38/100\n",
      "26880/26880 [==============================] - 3s 124us/step - loss: 0.3121 - accuracy: 0.9086 - val_loss: 0.3836 - val_accuracy: 0.8930\n",
      "Epoch 39/100\n",
      "26880/26880 [==============================] - 3s 111us/step - loss: 0.3116 - accuracy: 0.9090 - val_loss: 0.3793 - val_accuracy: 0.8948\n",
      "Epoch 40/100\n",
      "26880/26880 [==============================] - 4s 136us/step - loss: 0.3115 - accuracy: 0.9087 - val_loss: 0.3735 - val_accuracy: 0.8984\n",
      "Epoch 41/100\n",
      "26880/26880 [==============================] - 4s 142us/step - loss: 0.3099 - accuracy: 0.9083 - val_loss: 0.3877 - val_accuracy: 0.8884\n",
      "Epoch 42/100\n",
      "26880/26880 [==============================] - 4s 144us/step - loss: 0.3106 - accuracy: 0.9089 - val_loss: 0.3759 - val_accuracy: 0.8957\n",
      "Epoch 43/100\n",
      "26880/26880 [==============================] - 3s 115us/step - loss: 0.3091 - accuracy: 0.9099 - val_loss: 0.3783 - val_accuracy: 0.8948\n",
      "Epoch 44/100\n",
      "26880/26880 [==============================] - 3s 117us/step - loss: 0.3077 - accuracy: 0.9091 - val_loss: 0.3813 - val_accuracy: 0.8954\n",
      "Epoch 45/100\n",
      "26880/26880 [==============================] - 4s 134us/step - loss: 0.3078 - accuracy: 0.9105 - val_loss: 0.3822 - val_accuracy: 0.8926\n",
      "Epoch 46/100\n",
      "26880/26880 [==============================] - 4s 154us/step - loss: 0.3079 - accuracy: 0.9100 - val_loss: 0.3862 - val_accuracy: 0.8921\n",
      "Epoch 47/100\n",
      "26880/26880 [==============================] - 3s 101us/step - loss: 0.3071 - accuracy: 0.9094 - val_loss: 0.3781 - val_accuracy: 0.8961\n",
      "Epoch 48/100\n",
      "26880/26880 [==============================] - 4s 147us/step - loss: 0.3068 - accuracy: 0.9109 - val_loss: 0.3796 - val_accuracy: 0.8954\n",
      "Epoch 49/100\n",
      "26880/26880 [==============================] - 4s 135us/step - loss: 0.3063 - accuracy: 0.9104 - val_loss: 0.3820 - val_accuracy: 0.8948\n",
      "Epoch 50/100\n",
      "26880/26880 [==============================] - 3s 113us/step - loss: 0.3053 - accuracy: 0.9110 - val_loss: 0.3813 - val_accuracy: 0.8955\n"
     ]
    }
   ],
   "source": [
    "history = model_s.fit(X_train, y_train, epochs = 100, validation_split = 0.2, callbacks = [early_stopping]);"
   ]
  },
  {
   "cell_type": "code",
   "execution_count": 25,
   "metadata": {
    "ExecuteTime": {
     "end_time": "2020-04-20T02:36:37.621551Z",
     "start_time": "2020-04-20T02:36:37.205874Z"
    }
   },
   "outputs": [
    {
     "data": {
      "image/png": "[encoded data removed]",
      "text/plain": [
       "<Figure size 576x288 with 1 Axes>"
      ]
     },
     "metadata": {
      "needs_background": "light"
     },
     "output_type": "display_data"
    }
   ],
   "source": [
    "fig = plt.figure(figsize = (8,4))\n",
    "ax1= plt.plot(history.history[\"accuracy\"], label = \"training\")\n",
    "ax2 = plt.plot(history.history[\"val_accuracy\"], label = \"validation\")\n",
    "plt.legend(loc=\"upper left\")\n",
    "plt.xlabel(\"Epochs\")\n",
    "plt.ylim(0.85,1)\n",
    "plt.ylabel(\"Accuracy\")\n",
    "plt.title(\"Training accuracy and Validation accuracy by epochs\");"
   ]
  },
  {
   "cell_type": "code",
   "execution_count": 26,
   "metadata": {
    "ExecuteTime": {
     "end_time": "2020-04-20T02:36:37.810101Z",
     "start_time": "2020-04-20T02:36:37.622547Z"
    }
   },
   "outputs": [
    {
     "name": "stdout",
     "output_type": "stream",
     "text": [
      "8400/8400 [==============================] - 0s 21us/step\n"
     ]
    }
   ],
   "source": [
    "test_accuracy = model_s.evaluate(X_test, y_test)[1]"
   ]
  },
  {
   "cell_type": "code",
   "execution_count": 27,
   "metadata": {
    "ExecuteTime": {
     "end_time": "2020-04-20T02:36:37.821790Z",
     "start_time": "2020-04-20T02:36:37.811098Z"
    }
   },
   "outputs": [],
   "source": [
    "Summary_table  = Summary_table.append({\"model\": \"Shallow NN\", \"Test accuracy\": np.round(test_accuracy,3) }, ignore_index = True)"
   ]
  },
  {
   "cell_type": "code",
   "execution_count": 28,
   "metadata": {
    "ExecuteTime": {
     "end_time": "2020-04-20T02:36:37.840344Z",
     "start_time": "2020-04-20T02:36:37.822769Z"
    }
   },
   "outputs": [
    {
     "data": {
      "text/html": [
       "<div>\n",
       "<style scoped>\n",
       "    .dataframe tbody tr th:only-of-type {\n",
       "        vertical-align: middle;\n",
       "    }\n",
       "\n",
       "    .dataframe tbody tr th {\n",
       "        vertical-align: top;\n",
       "    }\n",
       "\n",
       "    .dataframe thead th {\n",
       "        text-align: right;\n",
       "    }\n",
       "</style>\n",
       "<table border=\"1\" class=\"dataframe\">\n",
       "  <thead>\n",
       "    <tr style=\"text-align: right;\">\n",
       "      <th></th>\n",
       "      <th>model</th>\n",
       "      <th>Test accuracy</th>\n",
       "    </tr>\n",
       "  </thead>\n",
       "  <tbody>\n",
       "    <tr>\n",
       "      <th>0</th>\n",
       "      <td>Logistic Regression</td>\n",
       "      <td>0.921</td>\n",
       "    </tr>\n",
       "    <tr>\n",
       "      <th>1</th>\n",
       "      <td>Shallow NN</td>\n",
       "      <td>0.894</td>\n",
       "    </tr>\n",
       "  </tbody>\n",
       "</table>\n",
       "</div>"
      ],
      "text/plain": [
       "                 model  Test accuracy\n",
       "0  Logistic Regression          0.921\n",
       "1           Shallow NN          0.894"
      ]
     },
     "execution_count": 28,
     "metadata": {},
     "output_type": "execute_result"
    }
   ],
   "source": [
    "Summary_table"
   ]
  },
  {
   "cell_type": "markdown",
   "metadata": {},
   "source": [
    "Observation:\n",
    "- Bayes error : 0 (Humans can perfectly identify)\n",
    "- Training error : 0.09\n",
    "- Test accuracy: 0.11\n",
    "\n",
    "Therefore, we can focus on trying to decrease the gap between bayes error and training error with **more complex model**\n"
   ]
  },
  {
   "cell_type": "markdown",
   "metadata": {},
   "source": [
    "## Fully Connected Neural Network (2 Hidden Layers, 5 nodes) \n",
    "- Hidden layer1: 5 nodes, activation function: relu\n",
    "- Hidden layer2: 5 nodes, activation function: relu\n",
    "- Optimizer: Adam\n",
    "- Early stoppng: 10, stops further epochs iteration if the validation accuracy does not improve for 10 iterations\n",
    "- Batch Normalization before every layer"
   ]
  },
  {
   "cell_type": "code",
   "execution_count": 29,
   "metadata": {
    "ExecuteTime": {
     "end_time": "2020-04-20T02:36:37.949329Z",
     "start_time": "2020-04-20T02:36:37.841600Z"
    }
   },
   "outputs": [],
   "source": [
    "model_fc = Sequential()\n",
    "model_fc.add(Dense(5, input_shape = (784,), activation = \"relu\"))\n",
    "model_fc.add(BatchNormalization())\n",
    "model_fc.add(Dense(5, activation = \"relu\"))\n",
    "model_fc.add(BatchNormalization())\n",
    "model_fc.add(Dense(10, activation = \"softmax\"))"
   ]
  },
  {
   "cell_type": "code",
   "execution_count": 30,
   "metadata": {
    "ExecuteTime": {
     "end_time": "2020-04-20T02:36:37.986615Z",
     "start_time": "2020-04-20T02:36:37.949329Z"
    }
   },
   "outputs": [],
   "source": [
    "model_fc.compile(optimizer = \"adam\", loss = \"categorical_crossentropy\", metrics =[\"accuracy\"])"
   ]
  },
  {
   "cell_type": "code",
   "execution_count": 31,
   "metadata": {
    "ExecuteTime": {
     "end_time": "2020-04-20T02:36:37.994393Z",
     "start_time": "2020-04-20T02:36:37.986615Z"
    }
   },
   "outputs": [
    {
     "name": "stdout",
     "output_type": "stream",
     "text": [
      "Model: \"sequential_2\"\n",
      "_________________________________________________________________\n",
      "Layer (type)                 Output Shape              Param #   \n",
      "=================================================================\n",
      "dense_3 (Dense)              (None, 5)                 3925      \n",
      "_________________________________________________________________\n",
      "batch_normalization_1 (Batch (None, 5)                 20        \n",
      "_________________________________________________________________\n",
      "dense_4 (Dense)              (None, 5)                 30        \n",
      "_________________________________________________________________\n",
      "batch_normalization_2 (Batch (None, 5)                 20        \n",
      "_________________________________________________________________\n",
      "dense_5 (Dense)              (None, 10)                60        \n",
      "=================================================================\n",
      "Total params: 4,055\n",
      "Trainable params: 4,035\n",
      "Non-trainable params: 20\n",
      "_________________________________________________________________\n"
     ]
    }
   ],
   "source": [
    "model_fc.summary()"
   ]
  },
  {
   "cell_type": "code",
   "execution_count": 32,
   "metadata": {
    "ExecuteTime": {
     "end_time": "2020-04-20T02:38:24.105027Z",
     "start_time": "2020-04-20T02:36:37.995613Z"
    }
   },
   "outputs": [
    {
     "name": "stdout",
     "output_type": "stream",
     "text": [
      "Train on 26880 samples, validate on 6720 samples\n",
      "Epoch 1/100\n",
      "26880/26880 [==============================] - 4s 141us/step - loss: 1.2527 - accuracy: 0.5961 - val_loss: 0.8406 - val_accuracy: 0.7513\n",
      "Epoch 2/100\n",
      "26880/26880 [==============================] - 4s 131us/step - loss: 0.7430 - accuracy: 0.7760 - val_loss: 0.6628 - val_accuracy: 0.7991\n",
      "Epoch 3/100\n",
      "26880/26880 [==============================] - 3s 124us/step - loss: 0.6357 - accuracy: 0.8100 - val_loss: 0.5773 - val_accuracy: 0.8304\n",
      "Epoch 4/100\n",
      "26880/26880 [==============================] - 4s 144us/step - loss: 0.5788 - accuracy: 0.8297 - val_loss: 0.5263 - val_accuracy: 0.8461\n",
      "Epoch 5/100\n",
      "26880/26880 [==============================] - 5s 178us/step - loss: 0.5534 - accuracy: 0.8360 - val_loss: 0.5128 - val_accuracy: 0.8525\n",
      "Epoch 6/100\n",
      "26880/26880 [==============================] - 3s 127us/step - loss: 0.5406 - accuracy: 0.8392 - val_loss: 0.5237 - val_accuracy: 0.8427\n",
      "Epoch 7/100\n",
      "26880/26880 [==============================] - 4s 143us/step - loss: 0.5307 - accuracy: 0.8416 - val_loss: 0.5060 - val_accuracy: 0.8560\n",
      "Epoch 8/100\n",
      "26880/26880 [==============================] - 5s 181us/step - loss: 0.5256 - accuracy: 0.8433 - val_loss: 0.5134 - val_accuracy: 0.8466\n",
      "Epoch 9/100\n",
      "26880/26880 [==============================] - 6s 231us/step - loss: 0.5241 - accuracy: 0.8436 - val_loss: 0.4839 - val_accuracy: 0.8539\n",
      "Epoch 10/100\n",
      "26880/26880 [==============================] - 6s 224us/step - loss: 0.5194 - accuracy: 0.8453 - val_loss: 0.4916 - val_accuracy: 0.8570\n",
      "Epoch 11/100\n",
      "26880/26880 [==============================] - 5s 195us/step - loss: 0.5114 - accuracy: 0.8501 - val_loss: 0.4914 - val_accuracy: 0.8539\n",
      "Epoch 12/100\n",
      "26880/26880 [==============================] - 5s 171us/step - loss: 0.5114 - accuracy: 0.8496 - val_loss: 0.4883 - val_accuracy: 0.8555\n",
      "Epoch 13/100\n",
      "26880/26880 [==============================] - 5s 168us/step - loss: 0.5027 - accuracy: 0.8510 - val_loss: 0.4831 - val_accuracy: 0.8600\n",
      "Epoch 14/100\n",
      "26880/26880 [==============================] - 4s 142us/step - loss: 0.5085 - accuracy: 0.8478 - val_loss: 0.4898 - val_accuracy: 0.8567\n",
      "Epoch 15/100\n",
      "26880/26880 [==============================] - 3s 122us/step - loss: 0.5020 - accuracy: 0.8499 - val_loss: 0.4819 - val_accuracy: 0.8622\n",
      "Epoch 16/100\n",
      "26880/26880 [==============================] - 3s 126us/step - loss: 0.5030 - accuracy: 0.8489 - val_loss: 0.4848 - val_accuracy: 0.8585\n",
      "Epoch 17/100\n",
      "26880/26880 [==============================] - 4s 137us/step - loss: 0.5028 - accuracy: 0.8510 - val_loss: 0.4752 - val_accuracy: 0.8585\n",
      "Epoch 18/100\n",
      "26880/26880 [==============================] - 4s 160us/step - loss: 0.5005 - accuracy: 0.8493 - val_loss: 0.4875 - val_accuracy: 0.8571\n",
      "Epoch 19/100\n",
      "26880/26880 [==============================] - 4s 149us/step - loss: 0.4958 - accuracy: 0.8536 - val_loss: 0.4875 - val_accuracy: 0.8576\n",
      "Epoch 20/100\n",
      "26880/26880 [==============================] - 3s 121us/step - loss: 0.4990 - accuracy: 0.8525 - val_loss: 0.4779 - val_accuracy: 0.8591\n",
      "Epoch 21/100\n",
      "26880/26880 [==============================] - 4s 164us/step - loss: 0.4968 - accuracy: 0.8509 - val_loss: 0.4766 - val_accuracy: 0.8598\n",
      "Epoch 22/100\n",
      "26880/26880 [==============================] - 3s 129us/step - loss: 0.4979 - accuracy: 0.8513 - val_loss: 0.4847 - val_accuracy: 0.8582\n",
      "Epoch 23/100\n",
      "26880/26880 [==============================] - 5s 204us/step - loss: 0.4949 - accuracy: 0.8512 - val_loss: 0.4749 - val_accuracy: 0.8603\n",
      "Epoch 24/100\n",
      "26880/26880 [==============================] - 4s 141us/step - loss: 0.4886 - accuracy: 0.8559 - val_loss: 0.4722 - val_accuracy: 0.8582\n",
      "Epoch 25/100\n",
      "26880/26880 [==============================] - 4s 143us/step - loss: 0.4924 - accuracy: 0.8539 - val_loss: 0.4798 - val_accuracy: 0.8612\n"
     ]
    }
   ],
   "source": [
    "history = model_fc.fit(X_train, y_train, validation_split = 0.2, callbacks = [early_stopping], epochs = 100);"
   ]
  },
  {
   "cell_type": "code",
   "execution_count": 33,
   "metadata": {
    "ExecuteTime": {
     "end_time": "2020-04-20T02:38:24.377875Z",
     "start_time": "2020-04-20T02:38:24.106022Z"
    }
   },
   "outputs": [
    {
     "data": {
      "image/png": "[encoded data removed]",
      "text/plain": [
       "<Figure size 576x288 with 1 Axes>"
      ]
     },
     "metadata": {
      "needs_background": "light"
     },
     "output_type": "display_data"
    }
   ],
   "source": [
    "fig = plt.figure(figsize = (8,4))\n",
    "ax1= plt.plot(history.history[\"accuracy\"], label = \"training\")\n",
    "ax2 = plt.plot(history.history[\"val_accuracy\"], label = \"validation\")\n",
    "plt.legend(loc=\"upper left\")\n",
    "plt.xlabel(\"Epochs\")\n",
    "plt.ylim(0.7,1)\n",
    "plt.ylabel(\"Accuracy\")\n",
    "plt.title(\"Training accuracy and Validation accuracy by epochs\");"
   ]
  },
  {
   "cell_type": "code",
   "execution_count": 34,
   "metadata": {
    "ExecuteTime": {
     "end_time": "2020-04-20T02:38:24.699105Z",
     "start_time": "2020-04-20T02:38:24.382197Z"
    }
   },
   "outputs": [
    {
     "name": "stdout",
     "output_type": "stream",
     "text": [
      "8400/8400 [==============================] - 0s 36us/step\n"
     ]
    }
   ],
   "source": [
    "test_accuracy = model_fc.evaluate(X_test, y_test)[1]"
   ]
  },
  {
   "cell_type": "code",
   "execution_count": 35,
   "metadata": {
    "ExecuteTime": {
     "end_time": "2020-04-20T02:38:24.715106Z",
     "start_time": "2020-04-20T02:38:24.699105Z"
    }
   },
   "outputs": [],
   "source": [
    "Summary_table  = Summary_table.append({\"model\": \"NN 2 HL,5 nodes\", \"Test accuracy\": np.round(test_accuracy,3) }, ignore_index = True)"
   ]
  },
  {
   "cell_type": "markdown",
   "metadata": {},
   "source": [
    "Observations: <br>\n",
    "Increasing  a layer has actually decrased the accuracy rather than increasing. The network needs more width (numer of nodes)"
   ]
  },
  {
   "cell_type": "markdown",
   "metadata": {},
   "source": [
    "## Fully Connected Neural Network (2 Hidden Layers, 16 nodes)\n",
    "- Hidden layer1: 16 nodes, activation function: relu\n",
    "- Hidden layer2: 16 nodes, activation function: relu\n",
    "- Optimizer: Adam\n",
    "- Early stoppng: 10, stops further epochs iteration if the validation accuracy does not improve for 10 iterations\n",
    "- Batch Normalization before every layer"
   ]
  },
  {
   "cell_type": "code",
   "execution_count": 36,
   "metadata": {
    "ExecuteTime": {
     "end_time": "2020-04-20T02:38:24.874868Z",
     "start_time": "2020-04-20T02:38:24.717414Z"
    }
   },
   "outputs": [],
   "source": [
    "model_fc16 = Sequential()\n",
    "model_fc16.add(Dense(16, input_shape = (784,), activation = \"relu\"))\n",
    "model_fc16.add(BatchNormalization())\n",
    "model_fc16.add(Dense(16, activation = \"relu\"))\n",
    "model_fc16.add(BatchNormalization())\n",
    "model_fc16.add(Dense(10, activation = \"softmax\"))"
   ]
  },
  {
   "cell_type": "code",
   "execution_count": 37,
   "metadata": {
    "ExecuteTime": {
     "end_time": "2020-04-20T02:38:24.928287Z",
     "start_time": "2020-04-20T02:38:24.876879Z"
    }
   },
   "outputs": [],
   "source": [
    "model_fc16.compile(optimizer = \"adam\", loss = \"categorical_crossentropy\", metrics = [\"accuracy\"])"
   ]
  },
  {
   "cell_type": "code",
   "execution_count": 38,
   "metadata": {
    "ExecuteTime": {
     "end_time": "2020-04-20T02:38:24.939868Z",
     "start_time": "2020-04-20T02:38:24.931262Z"
    }
   },
   "outputs": [
    {
     "name": "stdout",
     "output_type": "stream",
     "text": [
      "Model: \"sequential_3\"\n",
      "_________________________________________________________________\n",
      "Layer (type)                 Output Shape              Param #   \n",
      "=================================================================\n",
      "dense_6 (Dense)              (None, 16)                12560     \n",
      "_________________________________________________________________\n",
      "batch_normalization_3 (Batch (None, 16)                64        \n",
      "_________________________________________________________________\n",
      "dense_7 (Dense)              (None, 16)                272       \n",
      "_________________________________________________________________\n",
      "batch_normalization_4 (Batch (None, 16)                64        \n",
      "_________________________________________________________________\n",
      "dense_8 (Dense)              (None, 10)                170       \n",
      "=================================================================\n",
      "Total params: 13,130\n",
      "Trainable params: 13,066\n",
      "Non-trainable params: 64\n",
      "_________________________________________________________________\n"
     ]
    }
   ],
   "source": [
    "model_fc16.summary()"
   ]
  },
  {
   "cell_type": "code",
   "execution_count": 39,
   "metadata": {
    "ExecuteTime": {
     "end_time": "2020-04-20T02:41:18.603900Z",
     "start_time": "2020-04-20T02:38:24.942457Z"
    }
   },
   "outputs": [
    {
     "name": "stdout",
     "output_type": "stream",
     "text": [
      "Train on 26880 samples, validate on 6720 samples\n",
      "Epoch 1/100\n",
      "26880/26880 [==============================] - 5s 168us/step - loss: 0.7113 - accuracy: 0.7992 - val_loss: 0.3492 - val_accuracy: 0.9003\n",
      "Epoch 2/100\n",
      "26880/26880 [==============================] - 6s 223us/step - loss: 0.3513 - accuracy: 0.8966 - val_loss: 0.2889 - val_accuracy: 0.9176\n",
      "Epoch 3/100\n",
      "26880/26880 [==============================] - 4s 135us/step - loss: 0.3098 - accuracy: 0.9074 - val_loss: 0.2716 - val_accuracy: 0.9235\n",
      "Epoch 4/100\n",
      "26880/26880 [==============================] - 4s 141us/step - loss: 0.2873 - accuracy: 0.9131 - val_loss: 0.2549 - val_accuracy: 0.9290\n",
      "Epoch 5/100\n",
      "26880/26880 [==============================] - 5s 178us/step - loss: 0.2621 - accuracy: 0.9221 - val_loss: 0.2553 - val_accuracy: 0.9244\n",
      "Epoch 6/100\n",
      "26880/26880 [==============================] - 6s 222us/step - loss: 0.2495 - accuracy: 0.9241 - val_loss: 0.2428 - val_accuracy: 0.9301\n",
      "Epoch 7/100\n",
      "26880/26880 [==============================] - 6s 227us/step - loss: 0.2409 - accuracy: 0.9279 - val_loss: 0.2484 - val_accuracy: 0.9289\n",
      "Epoch 8/100\n",
      "26880/26880 [==============================] - 3s 120us/step - loss: 0.2298 - accuracy: 0.9298 - val_loss: 0.2237 - val_accuracy: 0.9356\n",
      "Epoch 9/100\n",
      "26880/26880 [==============================] - 4s 131us/step - loss: 0.2179 - accuracy: 0.9334 - val_loss: 0.2308 - val_accuracy: 0.9354\n",
      "Epoch 10/100\n",
      "26880/26880 [==============================] - 3s 118us/step - loss: 0.2122 - accuracy: 0.9354 - val_loss: 0.2196 - val_accuracy: 0.9368\n",
      "Epoch 11/100\n",
      "26880/26880 [==============================] - 6s 219us/step - loss: 0.2039 - accuracy: 0.9378 - val_loss: 0.2144 - val_accuracy: 0.9388\n",
      "Epoch 12/100\n",
      "26880/26880 [==============================] - 4s 167us/step - loss: 0.2020 - accuracy: 0.9373 - val_loss: 0.2141 - val_accuracy: 0.9390\n",
      "Epoch 13/100\n",
      "26880/26880 [==============================] - 5s 169us/step - loss: 0.1962 - accuracy: 0.9386 - val_loss: 0.2079 - val_accuracy: 0.9421\n",
      "Epoch 14/100\n",
      "26880/26880 [==============================] - 5s 203us/step - loss: 0.1915 - accuracy: 0.9405 - val_loss: 0.2078 - val_accuracy: 0.9408\n",
      "Epoch 15/100\n",
      "26880/26880 [==============================] - 3s 118us/step - loss: 0.1863 - accuracy: 0.9424 - val_loss: 0.2093 - val_accuracy: 0.9411\n",
      "Epoch 16/100\n",
      "26880/26880 [==============================] - 4s 137us/step - loss: 0.1833 - accuracy: 0.9432 - val_loss: 0.2136 - val_accuracy: 0.9369\n",
      "Epoch 17/100\n",
      "26880/26880 [==============================] - 4s 146us/step - loss: 0.1780 - accuracy: 0.9445 - val_loss: 0.2106 - val_accuracy: 0.9409\n",
      "Epoch 18/100\n",
      "26880/26880 [==============================] - 5s 188us/step - loss: 0.1759 - accuracy: 0.9453 - val_loss: 0.2059 - val_accuracy: 0.9411\n",
      "Epoch 19/100\n",
      "26880/26880 [==============================] - 4s 166us/step - loss: 0.1759 - accuracy: 0.9449 - val_loss: 0.2011 - val_accuracy: 0.9400\n",
      "Epoch 20/100\n",
      "26880/26880 [==============================] - 5s 170us/step - loss: 0.1709 - accuracy: 0.9468 - val_loss: 0.2229 - val_accuracy: 0.9363\n",
      "Epoch 21/100\n",
      "26880/26880 [==============================] - 5s 201us/step - loss: 0.1667 - accuracy: 0.9490 - val_loss: 0.2119 - val_accuracy: 0.9397\n",
      "Epoch 22/100\n",
      "26880/26880 [==============================] - 4s 155us/step - loss: 0.1654 - accuracy: 0.9472 - val_loss: 0.2069 - val_accuracy: 0.9446\n",
      "Epoch 23/100\n",
      "26880/26880 [==============================] - 6s 218us/step - loss: 0.1640 - accuracy: 0.9484 - val_loss: 0.2114 - val_accuracy: 0.9420\n",
      "Epoch 24/100\n",
      "26880/26880 [==============================] - 6s 216us/step - loss: 0.1658 - accuracy: 0.9482 - val_loss: 0.2061 - val_accuracy: 0.9426\n",
      "Epoch 25/100\n",
      "26880/26880 [==============================] - 6s 235us/step - loss: 0.1580 - accuracy: 0.9496 - val_loss: 0.2045 - val_accuracy: 0.9427\n",
      "Epoch 26/100\n",
      "26880/26880 [==============================] - 6s 210us/step - loss: 0.1568 - accuracy: 0.9500 - val_loss: 0.2218 - val_accuracy: 0.9396\n",
      "Epoch 27/100\n",
      "26880/26880 [==============================] - 4s 160us/step - loss: 0.1569 - accuracy: 0.9501 - val_loss: 0.2095 - val_accuracy: 0.9424\n",
      "Epoch 28/100\n",
      "26880/26880 [==============================] - 4s 149us/step - loss: 0.1555 - accuracy: 0.9502 - val_loss: 0.2064 - val_accuracy: 0.9438\n",
      "Epoch 29/100\n",
      "26880/26880 [==============================] - 5s 175us/step - loss: 0.1563 - accuracy: 0.9512 - val_loss: 0.2095 - val_accuracy: 0.9421\n",
      "Epoch 30/100\n",
      "26880/26880 [==============================] - 5s 170us/step - loss: 0.1477 - accuracy: 0.9536 - val_loss: 0.2169 - val_accuracy: 0.9391\n",
      "Epoch 31/100\n",
      "26880/26880 [==============================] - 5s 193us/step - loss: 0.1466 - accuracy: 0.9530 - val_loss: 0.2050 - val_accuracy: 0.9449\n",
      "Epoch 32/100\n",
      "26880/26880 [==============================] - 4s 135us/step - loss: 0.1496 - accuracy: 0.9533 - val_loss: 0.2091 - val_accuracy: 0.9411\n",
      "Epoch 33/100\n",
      "26880/26880 [==============================] - 3s 123us/step - loss: 0.1460 - accuracy: 0.9540 - val_loss: 0.2097 - val_accuracy: 0.9415\n",
      "Epoch 34/100\n",
      "26880/26880 [==============================] - 4s 135us/step - loss: 0.1479 - accuracy: 0.9532 - val_loss: 0.2092 - val_accuracy: 0.9426\n",
      "Epoch 35/100\n",
      "26880/26880 [==============================] - 5s 202us/step - loss: 0.1468 - accuracy: 0.9528 - val_loss: 0.2164 - val_accuracy: 0.9408\n",
      "Epoch 36/100\n",
      "26880/26880 [==============================] - 3s 102us/step - loss: 0.1391 - accuracy: 0.9556 - val_loss: 0.2078 - val_accuracy: 0.9440\n",
      "Epoch 37/100\n",
      "26880/26880 [==============================] - 1s 55us/step - loss: 0.1433 - accuracy: 0.9549 - val_loss: 0.2206 - val_accuracy: 0.9405\n",
      "Epoch 38/100\n",
      "26880/26880 [==============================] - 1s 54us/step - loss: 0.1425 - accuracy: 0.9546 - val_loss: 0.2040 - val_accuracy: 0.9439\n",
      "Epoch 39/100\n",
      "26880/26880 [==============================] - 1s 54us/step - loss: 0.1389 - accuracy: 0.9551 - val_loss: 0.2113 - val_accuracy: 0.9432los\n",
      "Epoch 40/100\n",
      "26880/26880 [==============================] - 1s 55us/step - loss: 0.1380 - accuracy: 0.9560 - val_loss: 0.2124 - val_accuracy: 0.9427\n",
      "Epoch 41/100\n",
      "26880/26880 [==============================] - 1s 55us/step - loss: 0.1363 - accuracy: 0.9571 - val_loss: 0.2204 - val_accuracy: 0.9442\n"
     ]
    }
   ],
   "source": [
    "history = model_fc16.fit(X_train, y_train, validation_split = 0.2, epochs = 100, callbacks = [early_stopping])"
   ]
  },
  {
   "cell_type": "code",
   "execution_count": 40,
   "metadata": {
    "ExecuteTime": {
     "end_time": "2020-04-20T02:41:18.718630Z",
     "start_time": "2020-04-20T02:41:18.604899Z"
    }
   },
   "outputs": [
    {
     "data": {
      "image/png": "[encoded data removed]",
      "text/plain": [
       "<Figure size 576x288 with 1 Axes>"
      ]
     },
     "metadata": {
      "needs_background": "light"
     },
     "output_type": "display_data"
    }
   ],
   "source": [
    "fig = plt.figure(figsize = (8,4))\n",
    "ax1= plt.plot(history.history[\"accuracy\"], label = \"training\")\n",
    "ax2 = plt.plot(history.history[\"val_accuracy\"], label = \"validation\")\n",
    "plt.legend(loc=\"upper left\")\n",
    "plt.xlabel(\"Epochs\")\n",
    "plt.ylim(0.75,1)\n",
    "plt.ylabel(\"Accuracy\")\n",
    "plt.title(\"Training accuracy and Validation accuracy by epochs\");"
   ]
  },
  {
   "cell_type": "code",
   "execution_count": 41,
   "metadata": {
    "ExecuteTime": {
     "end_time": "2020-04-20T02:41:18.877675Z",
     "start_time": "2020-04-20T02:41:18.719610Z"
    }
   },
   "outputs": [
    {
     "name": "stdout",
     "output_type": "stream",
     "text": [
      "8400/8400 [==============================] - 0s 18us/step\n"
     ]
    }
   ],
   "source": [
    "test_accuracy = model_fc16.evaluate(X_test, y_test)[1]"
   ]
  },
  {
   "cell_type": "code",
   "execution_count": 42,
   "metadata": {
    "ExecuteTime": {
     "end_time": "2020-04-20T02:41:18.883662Z",
     "start_time": "2020-04-20T02:41:18.878675Z"
    }
   },
   "outputs": [],
   "source": [
    "Summary_table  = Summary_table.append({\"model\": \"NN 2 HL,16 nodes\", \"Test accuracy\": np.round(test_accuracy,3) }, ignore_index = True)"
   ]
  },
  {
   "cell_type": "code",
   "execution_count": 43,
   "metadata": {
    "ExecuteTime": {
     "end_time": "2020-04-20T02:41:18.894631Z",
     "start_time": "2020-04-20T02:41:18.884670Z"
    }
   },
   "outputs": [
    {
     "data": {
      "text/html": [
       "<div>\n",
       "<style scoped>\n",
       "    .dataframe tbody tr th:only-of-type {\n",
       "        vertical-align: middle;\n",
       "    }\n",
       "\n",
       "    .dataframe tbody tr th {\n",
       "        vertical-align: top;\n",
       "    }\n",
       "\n",
       "    .dataframe thead th {\n",
       "        text-align: right;\n",
       "    }\n",
       "</style>\n",
       "<table border=\"1\" class=\"dataframe\">\n",
       "  <thead>\n",
       "    <tr style=\"text-align: right;\">\n",
       "      <th></th>\n",
       "      <th>model</th>\n",
       "      <th>Test accuracy</th>\n",
       "    </tr>\n",
       "  </thead>\n",
       "  <tbody>\n",
       "    <tr>\n",
       "      <th>0</th>\n",
       "      <td>Logistic Regression</td>\n",
       "      <td>0.921</td>\n",
       "    </tr>\n",
       "    <tr>\n",
       "      <th>1</th>\n",
       "      <td>Shallow NN</td>\n",
       "      <td>0.894</td>\n",
       "    </tr>\n",
       "    <tr>\n",
       "      <th>2</th>\n",
       "      <td>NN 2 HL,5 nodes</td>\n",
       "      <td>0.863</td>\n",
       "    </tr>\n",
       "    <tr>\n",
       "      <th>3</th>\n",
       "      <td>NN 2 HL,16 nodes</td>\n",
       "      <td>0.940</td>\n",
       "    </tr>\n",
       "  </tbody>\n",
       "</table>\n",
       "</div>"
      ],
      "text/plain": [
       "                 model  Test accuracy\n",
       "0  Logistic Regression          0.921\n",
       "1           Shallow NN          0.894\n",
       "2      NN 2 HL,5 nodes          0.863\n",
       "3     NN 2 HL,16 nodes          0.940"
      ]
     },
     "execution_count": 43,
     "metadata": {},
     "output_type": "execute_result"
    }
   ],
   "source": [
    "Summary_table"
   ]
  },
  {
   "cell_type": "markdown",
   "metadata": {},
   "source": [
    "Observations:\n",
    "- Bayes error : 0 (Humans can perfectly identify)\n",
    "- Training error : 0.04\n",
    "- Test accuracy: 0.06\n",
    "\n",
    "We have successfully reduced the bias but there still is 0.04 reducable bias which can be tackled with **more complex model**"
   ]
  },
  {
   "cell_type": "markdown",
   "metadata": {},
   "source": [
    "## Optimizing Fully Connected Neural Network\n",
    "Based on our observation so far, we can optimize the neural network with hyperparamters tuning:\n",
    "- Optimizer: Stochastic Gradient Descent and Adam\n",
    "- Nodes: 16, 32, 64, 128\n",
    "- Hidden Layers: 2,3,4\n",
    "- Activation function: relu, tanh"
   ]
  },
  {
   "cell_type": "code",
   "execution_count": 44,
   "metadata": {
    "ExecuteTime": {
     "end_time": "2020-04-20T02:41:18.902610Z",
     "start_time": "2020-04-20T02:41:18.896628Z"
    }
   },
   "outputs": [],
   "source": [
    "def create_model(optimizer =\"adam\", hl = 2, nodes = 16, activation = \"relu\"):\n",
    "    model = Sequential()\n",
    "    model.add(Dense(nodes, input_shape = (784,), activation = activation))\n",
    "    l=1\n",
    "    while(l < hl):\n",
    "        model.add(Dense(nodes,activation = activation))\n",
    "        model.add(BatchNormalization())\n",
    "        l+=1\n",
    "    model.add(Dense(10, activation = \"softmax\"))\n",
    "    model.compile(optimizer = optimizer, loss = \"categorical_crossentropy\",metrics = [\"accuracy\"])\n",
    "    return model"
   ]
  },
  {
   "cell_type": "code",
   "execution_count": 45,
   "metadata": {
    "ExecuteTime": {
     "end_time": "2020-04-20T02:41:18.909591Z",
     "start_time": "2020-04-20T02:41:18.903626Z"
    }
   },
   "outputs": [],
   "source": [
    "NN_parameters = {\"optimizer\":[\"sgd\", \"adam\"], \"hl\":[2,3,4], \"nodes\":[16,32,64,128], \"activation\":[\"relu\",\"tanh\"]}"
   ]
  },
  {
   "cell_type": "code",
   "execution_count": 46,
   "metadata": {
    "ExecuteTime": {
     "end_time": "2020-04-20T02:41:18.914578Z",
     "start_time": "2020-04-20T02:41:18.910588Z"
    }
   },
   "outputs": [],
   "source": [
    "model = KerasClassifier(build_fn = create_model, epochs = 10)"
   ]
  },
  {
   "cell_type": "code",
   "execution_count": 47,
   "metadata": {
    "ExecuteTime": {
     "end_time": "2020-04-20T02:41:18.920561Z",
     "start_time": "2020-04-20T02:41:18.915575Z"
    }
   },
   "outputs": [],
   "source": [
    "RS_CV = RandomizedSearchCV(model, n_iter = 10, param_distributions = NN_parameters, cv = 3)"
   ]
  },
  {
   "cell_type": "code",
   "execution_count": 48,
   "metadata": {
    "ExecuteTime": {
     "end_time": "2020-04-20T02:51:55.427480Z",
     "start_time": "2020-04-20T02:41:18.921561Z"
    }
   },
   "outputs": [
    {
     "name": "stdout",
     "output_type": "stream",
     "text": [
      "Epoch 1/10\n",
      "22400/22400 [==============================] - ETA: 0s - loss: 0.7776 - accuracy: 0.77 - 1s 61us/step - loss: 0.7679 - accuracy: 0.7828\n",
      "Epoch 2/10\n",
      "22400/22400 [==============================] - 1s 51us/step - loss: 0.3333 - accuracy: 0.9043\n",
      "Epoch 3/10\n",
      "22400/22400 [==============================] - 1s 50us/step - loss: 0.2643 - accuracy: 0.9218\n",
      "Epoch 4/10\n",
      "22400/22400 [==============================] - 1s 50us/step - loss: 0.2254 - accuracy: 0.9329\n",
      "Epoch 5/10\n",
      "22400/22400 [==============================] - 1s 50us/step - loss: 0.2009 - accuracy: 0.9408\n",
      "Epoch 6/10\n",
      "22400/22400 [==============================] - 1s 50us/step - loss: 0.1861 - accuracy: 0.9432\n",
      "Epoch 7/10\n",
      "22400/22400 [==============================] - 1s 50us/step - loss: 0.1668 - accuracy: 0.9495\n",
      "Epoch 8/10\n",
      "22400/22400 [==============================] - 1s 48us/step - loss: 0.1632 - accuracy: 0.9485\n",
      "Epoch 9/10\n",
      "22400/22400 [==============================] - 1s 49us/step - loss: 0.1480 - accuracy: 0.9552\n",
      "Epoch 10/10\n",
      "22400/22400 [==============================] - 1s 48us/step - loss: 0.1416 - accuracy: 0.9547\n",
      "11200/11200 [==============================] - 0s 19us/step\n",
      "Epoch 1/10\n",
      "22400/22400 [==============================] - 1s 61us/step - loss: 0.8894 - accuracy: 0.7260\n",
      "Epoch 2/10\n",
      "22400/22400 [==============================] - 1s 51us/step - loss: 0.3646 - accuracy: 0.8929 1s - loss: 0.3793 - accura - ETA: 0s -\n",
      "Epoch 3/10\n",
      "22400/22400 [==============================] - 1s 50us/step - loss: 0.2907 - accuracy: 0.9154\n",
      "Epoch 4/10\n",
      "22400/22400 [==============================] - 1s 50us/step - loss: 0.2551 - accuracy: 0.9262\n",
      "Epoch 5/10\n",
      "22400/22400 [==============================] - 1s 51us/step - loss: 0.2268 - accuracy: 0.9341\n",
      "Epoch 6/10\n",
      "22400/22400 [==============================] - 1s 51us/step - loss: 0.2097 - accuracy: 0.9381 0s - loss: 0.2057 - ac\n",
      "Epoch 7/10\n",
      "22400/22400 [==============================] - 1s 51us/step - loss: 0.1977 - accuracy: 0.9401\n",
      "Epoch 8/10\n",
      "22400/22400 [==============================] - 1s 51us/step - loss: 0.1859 - accuracy: 0.9447 0s -\n",
      "Epoch 9/10\n",
      "22400/22400 [==============================] - 1s 51us/step - loss: 0.1724 - accuracy: 0.9465\n",
      "Epoch 10/10\n",
      "22400/22400 [==============================] - 1s 52us/step - loss: 0.1672 - accuracy: 0.9489\n",
      "11200/11200 [==============================] - 0s 20us/step\n",
      "Epoch 1/10\n",
      "22400/22400 [==============================] - 1s 61us/step - loss: 0.7654 - accuracy: 0.7772 0s - loss: 0.8988 - ac\n",
      "Epoch 2/10\n",
      "22400/22400 [==============================] - 1s 50us/step - loss: 0.3387 - accuracy: 0.9045\n",
      "Epoch 3/10\n",
      "22400/22400 [==============================] - 1s 50us/step - loss: 0.2651 - accuracy: 0.9217\n",
      "Epoch 4/10\n",
      "22400/22400 [==============================] - 1s 51us/step - loss: 0.2324 - accuracy: 0.9312 0s - loss: 0.2287 - ac\n",
      "Epoch 5/10\n",
      "22400/22400 [==============================] - 1s 52us/step - loss: 0.2099 - accuracy: 0.9370 1s - - ETA: 0s - loss: 0.2135 - accura\n",
      "Epoch 6/10\n",
      "22400/22400 [==============================] - 1s 51us/step - loss: 0.1940 - accuracy: 0.9406 0s\n",
      "Epoch 7/10\n",
      "22400/22400 [==============================] - 1s 50us/step - loss: 0.1732 - accuracy: 0.9475\n",
      "Epoch 8/10\n",
      "22400/22400 [==============================] - ETA: 0s - loss: 0.1696 - accuracy: 0.94 - 1s 51us/step - loss: 0.1699 - accuracy: 0.9494\n",
      "Epoch 9/10\n",
      "22400/22400 [==============================] - 1s 50us/step - loss: 0.1656 - accuracy: 0.9500\n",
      "Epoch 10/10\n",
      "22400/22400 [==============================] - 1s 51us/step - loss: 0.1519 - accuracy: 0.9529\n",
      "11200/11200 [==============================] - 0s 20us/step\n",
      "Epoch 1/10\n",
      "22400/22400 [==============================] - 2s 70us/step - loss: 0.4680 - accuracy: 0.8597\n",
      "Epoch 2/10\n",
      "22400/22400 [==============================] - 1s 66us/step - loss: 0.2288 - accuracy: 0.9339\n",
      "Epoch 3/10\n",
      "22400/22400 [==============================] - 1s 66us/step - loss: 0.1727 - accuracy: 0.9491\n",
      "Epoch 4/10\n",
      "22400/22400 [==============================] - 1s 65us/step - loss: 0.1376 - accuracy: 0.9604\n",
      "Epoch 5/10\n",
      "22400/22400 [==============================] - 1s 66us/step - loss: 0.1133 - accuracy: 0.9667 \n",
      "Epoch 6/10\n",
      "22400/22400 [==============================] - 1s 66us/step - loss: 0.0965 - accuracy: 0.9721\n",
      "Epoch 7/10\n",
      "22400/22400 [==============================] - 1s 66us/step - loss: 0.0812 - accuracy: 0.9763\n",
      "Epoch 8/10\n",
      "22400/22400 [==============================] - 1s 66us/step - loss: 0.0720 - accuracy: 0.9781\n",
      "Epoch 9/10\n",
      "22400/22400 [==============================] - 1s 65us/step - loss: 0.0630 - accuracy: 0.9813\n",
      "Epoch 10/10\n",
      "22400/22400 [==============================] - 2s 69us/step - loss: 0.0549 - accuracy: 0.9850\n",
      "11200/11200 [==============================] - 0s 27us/step\n",
      "Epoch 1/10\n",
      "22400/22400 [==============================] - 2s 71us/step - loss: 0.4759 - accuracy: 0.8558\n",
      "Epoch 2/10\n",
      "22400/22400 [==============================] - 1s 66us/step - loss: 0.2370 - accuracy: 0.9297\n",
      "Epoch 3/10\n",
      "22400/22400 [==============================] - 2s 67us/step - loss: 0.1790 - accuracy: 0.9469\n",
      "Epoch 4/10\n",
      "22400/22400 [==============================] - 1s 66us/step - loss: 0.1450 - accuracy: 0.9569\n",
      "Epoch 5/10\n",
      "22400/22400 [==============================] - 1s 67us/step - loss: 0.1220 - accuracy: 0.9628\n",
      "Epoch 6/10\n",
      "22400/22400 [==============================] - 2s 67us/step - loss: 0.1014 - accuracy: 0.9716\n",
      "Epoch 7/10\n",
      "22400/22400 [==============================] - 2s 67us/step - loss: 0.0882 - accuracy: 0.9756\n",
      "Epoch 8/10\n",
      "22400/22400 [==============================] - 2s 67us/step - loss: 0.0761 - accuracy: 0.9782\n",
      "Epoch 9/10\n",
      "22400/22400 [==============================] - 1s 66us/step - loss: 0.0647 - accuracy: 0.9824\n",
      "Epoch 10/10\n",
      "22400/22400 [==============================] - 1s 65us/step - loss: 0.0572 - accuracy: 0.9839\n",
      "11200/11200 [==============================] - 0s 27us/step\n",
      "Epoch 1/10\n",
      "22400/22400 [==============================] - 2s 73us/step - loss: 0.4899 - accuracy: 0.8525\n",
      "Epoch 2/10\n",
      "22400/22400 [==============================] - 1s 67us/step - loss: 0.2350 - accuracy: 0.9300\n",
      "Epoch 3/10\n",
      "22400/22400 [==============================] - 1s 67us/step - loss: 0.1784 - accuracy: 0.9461\n",
      "Epoch 4/10\n",
      "22400/22400 [==============================] - 2s 67us/step - loss: 0.1414 - accuracy: 0.9577\n",
      "Epoch 5/10\n",
      "22400/22400 [==============================] - 2s 67us/step - loss: 0.1148 - accuracy: 0.9647\n",
      "Epoch 6/10\n",
      "22400/22400 [==============================] - 2s 70us/step - loss: 0.0989 - accuracy: 0.9698\n",
      "Epoch 7/10\n",
      "22400/22400 [==============================] - 2s 73us/step - loss: 0.0838 - accuracy: 0.9758\n",
      "Epoch 8/10\n",
      "22400/22400 [==============================] - 2s 71us/step - loss: 0.0719 - accuracy: 0.9791\n",
      "Epoch 9/10\n",
      "22400/22400 [==============================] - 2s 71us/step - loss: 0.0622 - accuracy: 0.9824\n",
      "Epoch 10/10\n",
      "22400/22400 [==============================] - 1s 67us/step - loss: 0.0544 - accuracy: 0.9846\n",
      "11200/11200 [==============================] - 0s 26us/step\n",
      "Epoch 1/10\n",
      "22400/22400 [==============================] - 2s 72us/step - loss: 0.4794 - accuracy: 0.8569\n",
      "Epoch 2/10\n",
      "22400/22400 [==============================] - 1s 65us/step - loss: 0.2986 - accuracy: 0.9120\n",
      "Epoch 3/10\n",
      "22400/22400 [==============================] - 1s 65us/step - loss: 0.2476 - accuracy: 0.9278\n",
      "Epoch 4/10\n",
      "22400/22400 [==============================] - 1s 64us/step - loss: 0.2148 - accuracy: 0.9375\n",
      "Epoch 5/10\n",
      "22400/22400 [==============================] - 1s 66us/step - loss: 0.1883 - accuracy: 0.9453\n",
      "Epoch 6/10\n",
      "22400/22400 [==============================] - 1s 65us/step - loss: 0.1649 - accuracy: 0.9515\n",
      "Epoch 7/10\n",
      "22400/22400 [==============================] - 1s 66us/step - loss: 0.1497 - accuracy: 0.9566\n",
      "Epoch 8/10\n",
      "22400/22400 [==============================] - 1s 65us/step - loss: 0.1336 - accuracy: 0.9612\n",
      "Epoch 9/10\n",
      "22400/22400 [==============================] - 1s 65us/step - loss: 0.1221 - accuracy: 0.9644\n",
      "Epoch 10/10\n",
      "22400/22400 [==============================] - 1s 65us/step - loss: 0.1093 - accuracy: 0.9683\n",
      "11200/11200 [==============================] - 0s 27us/step\n",
      "Epoch 1/10\n",
      "22400/22400 [==============================] - 2s 75us/step - loss: 0.4892 - accuracy: 0.8516 0s - loss:\n",
      "Epoch 2/10\n"
     ]
    },
    {
     "name": "stdout",
     "output_type": "stream",
     "text": [
      "22400/22400 [==============================] - 1s 67us/step - loss: 0.3122 - accuracy: 0.9083\n",
      "Epoch 3/10\n",
      "22400/22400 [==============================] - 1s 65us/step - loss: 0.2550 - accuracy: 0.9248\n",
      "Epoch 4/10\n",
      "22400/22400 [==============================] - 1s 66us/step - loss: 0.2194 - accuracy: 0.9355\n",
      "Epoch 5/10\n",
      "22400/22400 [==============================] - 1s 66us/step - loss: 0.1898 - accuracy: 0.9455\n",
      "Epoch 6/10\n",
      "22400/22400 [==============================] - 1s 66us/step - loss: 0.1691 - accuracy: 0.9515\n",
      "Epoch 7/10\n",
      "22400/22400 [==============================] - 1s 66us/step - loss: 0.1491 - accuracy: 0.9574\n",
      "Epoch 8/10\n",
      "22400/22400 [==============================] - 1s 66us/step - loss: 0.1340 - accuracy: 0.9621\n",
      "Epoch 9/10\n",
      "22400/22400 [==============================] - 1s 65us/step - loss: 0.1212 - accuracy: 0.9647\n",
      "Epoch 10/10\n",
      "22400/22400 [==============================] - 1s 67us/step - loss: 0.1092 - accuracy: 0.9688\n",
      "11200/11200 [==============================] - 0s 26us/step\n",
      "Epoch 1/10\n",
      "22400/22400 [==============================] - 2s 74us/step - loss: 0.4948 - accuracy: 0.8522\n",
      "Epoch 2/10\n",
      "22400/22400 [==============================] - 1s 66us/step - loss: 0.3019 - accuracy: 0.9114\n",
      "Epoch 3/10\n",
      "22400/22400 [==============================] - 1s 66us/step - loss: 0.2491 - accuracy: 0.9289\n",
      "Epoch 4/10\n",
      "22400/22400 [==============================] - 1s 66us/step - loss: 0.2131 - accuracy: 0.9390\n",
      "Epoch 5/10\n",
      "22400/22400 [==============================] - 1s 66us/step - loss: 0.1869 - accuracy: 0.9468 0s\n",
      "Epoch 6/10\n",
      "22400/22400 [==============================] - 1s 67us/step - loss: 0.1658 - accuracy: 0.9523\n",
      "Epoch 7/10\n",
      "22400/22400 [==============================] - 1s 67us/step - loss: 0.1490 - accuracy: 0.9562\n",
      "Epoch 8/10\n",
      "22400/22400 [==============================] - 1s 66us/step - loss: 0.1322 - accuracy: 0.9614\n",
      "Epoch 9/10\n",
      "22400/22400 [==============================] - 2s 67us/step - loss: 0.1204 - accuracy: 0.9638\n",
      "Epoch 10/10\n",
      "22400/22400 [==============================] - 1s 66us/step - loss: 0.1078 - accuracy: 0.9685\n",
      "11200/11200 [==============================] - 0s 26us/step\n",
      "Epoch 1/10\n",
      "22400/22400 [==============================] - 1s 64us/step - loss: 0.4629 - accuracy: 0.8669\n",
      "Epoch 2/10\n",
      "22400/22400 [==============================] - 1s 54us/step - loss: 0.2224 - accuracy: 0.9346 0s - loss: 0.2297 \n",
      "Epoch 3/10\n",
      "22400/22400 [==============================] - 1s 54us/step - loss: 0.1726 - accuracy: 0.9488 0s -\n",
      "Epoch 4/10\n",
      "22400/22400 [==============================] - 1s 54us/step - loss: 0.1395 - accuracy: 0.9571\n",
      "Epoch 5/10\n",
      "22400/22400 [==============================] - 1s 53us/step - loss: 0.1187 - accuracy: 0.9640\n",
      "Epoch 6/10\n",
      "22400/22400 [==============================] - 1s 53us/step - loss: 0.1033 - accuracy: 0.9681\n",
      "Epoch 7/10\n",
      "22400/22400 [==============================] - 1s 54us/step - loss: 0.0923 - accuracy: 0.9706\n",
      "Epoch 8/10\n",
      "22400/22400 [==============================] - 1s 53us/step - loss: 0.0827 - accuracy: 0.9746 0s - loss: 0.0\n",
      "Epoch 9/10\n",
      "22400/22400 [==============================] - 1s 53us/step - loss: 0.0765 - accuracy: 0.9753\n",
      "Epoch 10/10\n",
      "22400/22400 [==============================] - 1s 52us/step - loss: 0.0634 - accuracy: 0.9791\n",
      "11200/11200 [==============================] - 0s 21us/step\n",
      "Epoch 1/10\n",
      "22400/22400 [==============================] - 1s 64us/step - loss: 0.4483 - accuracy: 0.8700 0s - loss: 0.5209 \n",
      "Epoch 2/10\n",
      "22400/22400 [==============================] - 1s 55us/step - loss: 0.2219 - accuracy: 0.9345 0s - los\n",
      "Epoch 3/10\n",
      "22400/22400 [==============================] - 1s 54us/step - loss: 0.1702 - accuracy: 0.9461\n",
      "Epoch 4/10\n",
      "22400/22400 [==============================] - 1s 53us/step - loss: 0.1401 - accuracy: 0.9575\n",
      "Epoch 5/10\n",
      "22400/22400 [==============================] - 1s 54us/step - loss: 0.1208 - accuracy: 0.9634\n",
      "Epoch 6/10\n",
      "22400/22400 [==============================] - 1s 54us/step - loss: 0.1043 - accuracy: 0.9672\n",
      "Epoch 7/10\n",
      "22400/22400 [==============================] - 1s 54us/step - loss: 0.0903 - accuracy: 0.9712\n",
      "Epoch 8/10\n",
      "22400/22400 [==============================] - 1s 54us/step - loss: 0.0823 - accuracy: 0.9737\n",
      "Epoch 9/10\n",
      "22400/22400 [==============================] - 1s 54us/step - loss: 0.0740 - accuracy: 0.9772\n",
      "Epoch 10/10\n",
      "22400/22400 [==============================] - 1s 54us/step - loss: 0.0698 - accuracy: 0.9779\n",
      "11200/11200 [==============================] - 0s 21us/step\n",
      "Epoch 1/10\n",
      "22400/22400 [==============================] - 1s 65us/step - loss: 0.4649 - accuracy: 0.8635\n",
      "Epoch 2/10\n",
      "22400/22400 [==============================] - 1s 54us/step - loss: 0.2328 - accuracy: 0.9302\n",
      "Epoch 3/10\n",
      "22400/22400 [==============================] - 1s 55us/step - loss: 0.1712 - accuracy: 0.9467\n",
      "Epoch 4/10\n",
      "22400/22400 [==============================] - 1s 55us/step - loss: 0.1433 - accuracy: 0.9562\n",
      "Epoch 5/10\n",
      "22400/22400 [==============================] - 1s 59us/step - loss: 0.1242 - accuracy: 0.9606\n",
      "Epoch 6/10\n",
      "22400/22400 [==============================] - 1s 56us/step - loss: 0.1061 - accuracy: 0.9662\n",
      "Epoch 7/10\n",
      "22400/22400 [==============================] - 1s 54us/step - loss: 0.0929 - accuracy: 0.9712\n",
      "Epoch 8/10\n",
      "22400/22400 [==============================] - 1s 55us/step - loss: 0.0814 - accuracy: 0.9748 0s - loss: 0.0828 - ac - ETA: 0s - loss: 0.0817 - accuracy\n",
      "Epoch 9/10\n",
      "22400/22400 [==============================] - 1s 54us/step - loss: 0.0745 - accuracy: 0.9752\n",
      "Epoch 10/10\n",
      "22400/22400 [==============================] - 1s 59us/step - loss: 0.0697 - accuracy: 0.9774\n",
      "11200/11200 [==============================] - 0s 21us/step\n",
      "Epoch 1/10\n",
      "22400/22400 [==============================] - 2s 87us/step - loss: 0.4594 - accuracy: 0.8584\n",
      "Epoch 2/10\n",
      "22400/22400 [==============================] - 2s 73us/step - loss: 0.1986 - accuracy: 0.9416\n",
      "Epoch 3/10\n",
      "22400/22400 [==============================] - 2s 74us/step - loss: 0.1583 - accuracy: 0.9513\n",
      "Epoch 4/10\n",
      "22400/22400 [==============================] - 2s 72us/step - loss: 0.1288 - accuracy: 0.9599\n",
      "Epoch 5/10\n",
      "22400/22400 [==============================] - 2s 72us/step - loss: 0.1106 - accuracy: 0.9651\n",
      "Epoch 6/10\n",
      "22400/22400 [==============================] - 2s 72us/step - loss: 0.0902 - accuracy: 0.9708\n",
      "Epoch 7/10\n",
      "22400/22400 [==============================] - 2s 73us/step - loss: 0.0850 - accuracy: 0.9736 0s - loss:\n",
      "Epoch 8/10\n",
      "22400/22400 [==============================] - 2s 73us/step - loss: 0.0725 - accuracy: 0.9759 0s -\n",
      "Epoch 9/10\n",
      "22400/22400 [==============================] - 2s 72us/step - loss: 0.0637 - accuracy: 0.9804\n",
      "Epoch 10/10\n",
      "22400/22400 [==============================] - 2s 72us/step - loss: 0.0572 - accuracy: 0.9812\n",
      "11200/11200 [==============================] - 0s 27us/step\n",
      "Epoch 1/10\n",
      "22400/22400 [==============================] - ETA: 0s - loss: 0.4758 - accuracy: 0.85 - 2s 84us/step - loss: 0.4733 - accuracy: 0.8556\n",
      "Epoch 2/10\n",
      "22400/22400 [==============================] - 2s 70us/step - loss: 0.2063 - accuracy: 0.9373\n",
      "Epoch 3/10\n",
      "22400/22400 [==============================] - 2s 70us/step - loss: 0.1580 - accuracy: 0.9497\n",
      "Epoch 4/10\n",
      "22400/22400 [==============================] - 2s 72us/step - loss: 0.1319 - accuracy: 0.9574\n",
      "Epoch 5/10\n",
      "22400/22400 [==============================] - 2s 71us/step - loss: 0.1094 - accuracy: 0.9665 0s - loss: 0.1076 - \n",
      "Epoch 6/10\n",
      "22400/22400 [==============================] - 2s 70us/step - loss: 0.0942 - accuracy: 0.9689\n",
      "Epoch 7/10\n",
      "22400/22400 [==============================] - 2s 71us/step - loss: 0.0820 - accuracy: 0.9730\n",
      "Epoch 8/10\n",
      "22400/22400 [==============================] - 2s 70us/step - loss: 0.0690 - accuracy: 0.9779\n",
      "Epoch 9/10\n",
      "22400/22400 [==============================] - 2s 77us/step - loss: 0.0634 - accuracy: 0.9790 0s - loss: 0.0636 - accuracy - ETA: 0s - loss: 0.0638 - accuracy: 0.97\n",
      "Epoch 10/10\n",
      "22400/22400 [==============================] - 2s 81us/step - loss: 0.0572 - accuracy: 0.9804\n",
      "11200/11200 [==============================] - 0s 28us/step\n",
      "Epoch 1/10\n",
      "22400/22400 [==============================] - 2s 93us/step - loss: 0.4746 - accuracy: 0.8551 0s - loss: 0\n",
      "Epoch 2/10\n",
      "22400/22400 [==============================] - 2s 79us/step - loss: 0.2086 - accuracy: 0.9362\n",
      "Epoch 3/10\n"
     ]
    },
    {
     "name": "stdout",
     "output_type": "stream",
     "text": [
      "22400/22400 [==============================] - 2s 76us/step - loss: 0.1579 - accuracy: 0.9519\n",
      "Epoch 4/10\n",
      "22400/22400 [==============================] - 2s 69us/step - loss: 0.1289 - accuracy: 0.9599\n",
      "Epoch 5/10\n",
      "22400/22400 [==============================] - 2s 69us/step - loss: 0.1005 - accuracy: 0.9676 0s -\n",
      "Epoch 6/10\n",
      "22400/22400 [==============================] - 2s 69us/step - loss: 0.0964 - accuracy: 0.9680\n",
      "Epoch 7/10\n",
      "22400/22400 [==============================] - 2s 71us/step - loss: 0.0813 - accuracy: 0.9736 0s - los\n",
      "Epoch 8/10\n",
      "22400/22400 [==============================] - 2s 71us/step - loss: 0.0742 - accuracy: 0.9757\n",
      "Epoch 9/10\n",
      "22400/22400 [==============================] - 2s 71us/step - loss: 0.0694 - accuracy: 0.9766\n",
      "Epoch 10/10\n",
      "22400/22400 [==============================] - 2s 71us/step - loss: 0.0563 - accuracy: 0.9820\n",
      "11200/11200 [==============================] - 0s 27us/step\n",
      "Epoch 1/10\n",
      "22400/22400 [==============================] - 1s 60us/step - loss: 0.5427 - accuracy: 0.8391\n",
      "Epoch 2/10\n",
      "22400/22400 [==============================] - 1s 53us/step - loss: 0.3208 - accuracy: 0.9043\n",
      "Epoch 3/10\n",
      "22400/22400 [==============================] - 1s 52us/step - loss: 0.2638 - accuracy: 0.9224\n",
      "Epoch 4/10\n",
      "22400/22400 [==============================] - 1s 53us/step - loss: 0.2249 - accuracy: 0.9342\n",
      "Epoch 5/10\n",
      "22400/22400 [==============================] - ETA: 0s - loss: 0.1961 - accuracy: 0.94 - 1s 53us/step - loss: 0.1951 - accuracy: 0.9443\n",
      "Epoch 6/10\n",
      "22400/22400 [==============================] - 1s 53us/step - loss: 0.1765 - accuracy: 0.9481\n",
      "Epoch 7/10\n",
      "22400/22400 [==============================] - 1s 54us/step - loss: 0.1578 - accuracy: 0.9524\n",
      "Epoch 8/10\n",
      "22400/22400 [==============================] - 1s 53us/step - loss: 0.1461 - accuracy: 0.9563\n",
      "Epoch 9/10\n",
      "22400/22400 [==============================] - 1s 53us/step - loss: 0.1309 - accuracy: 0.9610\n",
      "Epoch 10/10\n",
      "22400/22400 [==============================] - 1s 53us/step - loss: 0.1217 - accuracy: 0.9633\n",
      "11200/11200 [==============================] - 0s 24us/step\n",
      "Epoch 1/10\n",
      "22400/22400 [==============================] - 1s 61us/step - loss: 0.5614 - accuracy: 0.8350\n",
      "Epoch 2/10\n",
      "22400/22400 [==============================] - 1s 53us/step - loss: 0.3334 - accuracy: 0.9035\n",
      "Epoch 3/10\n",
      "22400/22400 [==============================] - 1s 53us/step - loss: 0.2769 - accuracy: 0.9197\n",
      "Epoch 4/10\n",
      "22400/22400 [==============================] - 1s 54us/step - loss: 0.2402 - accuracy: 0.9296\n",
      "Epoch 5/10\n",
      "22400/22400 [==============================] - 1s 54us/step - loss: 0.2107 - accuracy: 0.9399\n",
      "Epoch 6/10\n",
      "22400/22400 [==============================] - 1s 53us/step - loss: 0.1855 - accuracy: 0.9461\n",
      "Epoch 7/10\n",
      "22400/22400 [==============================] - 1s 54us/step - loss: 0.1654 - accuracy: 0.9521\n",
      "Epoch 8/10\n",
      "22400/22400 [==============================] - 1s 53us/step - loss: 0.1530 - accuracy: 0.9555\n",
      "Epoch 9/10\n",
      "22400/22400 [==============================] - 1s 54us/step - loss: 0.1383 - accuracy: 0.9600\n",
      "Epoch 10/10\n",
      "22400/22400 [==============================] - 1s 53us/step - loss: 0.1269 - accuracy: 0.9621\n",
      "11200/11200 [==============================] - 0s 24us/step\n",
      "Epoch 1/10\n",
      "22400/22400 [==============================] - 1s 63us/step - loss: 0.5330 - accuracy: 0.8443 0s - loss: 0.5832 - ac\n",
      "Epoch 2/10\n",
      "22400/22400 [==============================] - 1s 56us/step - loss: 0.3270 - accuracy: 0.9070\n",
      "Epoch 3/10\n",
      "22400/22400 [==============================] - 1s 56us/step - loss: 0.2678 - accuracy: 0.9220\n",
      "Epoch 4/10\n",
      "22400/22400 [==============================] - 1s 56us/step - loss: 0.2313 - accuracy: 0.9341\n",
      "Epoch 5/10\n",
      "22400/22400 [==============================] - 1s 56us/step - loss: 0.2039 - accuracy: 0.9392\n",
      "Epoch 6/10\n",
      "22400/22400 [==============================] - 1s 56us/step - loss: 0.1810 - accuracy: 0.9459 0s - loss: 0.1825 - \n",
      "Epoch 7/10\n",
      "22400/22400 [==============================] - 1s 56us/step - loss: 0.1624 - accuracy: 0.9526\n",
      "Epoch 8/10\n",
      "22400/22400 [==============================] - 1s 57us/step - loss: 0.1454 - accuracy: 0.9565\n",
      "Epoch 9/10\n",
      "22400/22400 [==============================] - 1s 56us/step - loss: 0.1341 - accuracy: 0.9601\n",
      "Epoch 10/10\n",
      "22400/22400 [==============================] - 1s 56us/step - loss: 0.1220 - accuracy: 0.9646\n",
      "11200/11200 [==============================] - 0s 26us/step\n",
      "Epoch 1/10\n",
      "22400/22400 [==============================] - 1s 55us/step - loss: 0.8331 - accuracy: 0.7722\n",
      "Epoch 2/10\n",
      "22400/22400 [==============================] - 1s 48us/step - loss: 0.4135 - accuracy: 0.8865 0s - l\n",
      "Epoch 3/10\n",
      "22400/22400 [==============================] - 1s 48us/step - loss: 0.3263 - accuracy: 0.9085\n",
      "Epoch 4/10\n",
      "22400/22400 [==============================] - 1s 47us/step - loss: 0.2847 - accuracy: 0.9173\n",
      "Epoch 5/10\n",
      "22400/22400 [==============================] - 1s 46us/step - loss: 0.2576 - accuracy: 0.9243\n",
      "Epoch 6/10\n",
      "22400/22400 [==============================] - 1s 47us/step - loss: 0.2407 - accuracy: 0.9288\n",
      "Epoch 7/10\n",
      "22400/22400 [==============================] - 1s 47us/step - loss: 0.2223 - accuracy: 0.9333 0s - loss: 0.2210 - \n",
      "Epoch 8/10\n",
      "22400/22400 [==============================] - 1s 48us/step - loss: 0.2072 - accuracy: 0.9388\n",
      "Epoch 9/10\n",
      "22400/22400 [==============================] - 1s 48us/step - loss: 0.2009 - accuracy: 0.9390\n",
      "Epoch 10/10\n",
      "22400/22400 [==============================] - 1s 47us/step - loss: 0.1891 - accuracy: 0.9435\n",
      "11200/11200 [==============================] - 0s 21us/step\n",
      "Epoch 1/10\n",
      "22400/22400 [==============================] - 1s 55us/step - loss: 0.7827 - accuracy: 0.7816\n",
      "Epoch 2/10\n",
      "22400/22400 [==============================] - 1s 47us/step - loss: 0.4157 - accuracy: 0.8852\n",
      "Epoch 3/10\n",
      "22400/22400 [==============================] - 1s 47us/step - loss: 0.3375 - accuracy: 0.9067\n",
      "Epoch 4/10\n",
      "22400/22400 [==============================] - 1s 48us/step - loss: 0.2987 - accuracy: 0.9164\n",
      "Epoch 5/10\n",
      "22400/22400 [==============================] - 1s 47us/step - loss: 0.2732 - accuracy: 0.9218\n",
      "Epoch 6/10\n",
      "22400/22400 [==============================] - 1s 49us/step - loss: 0.2503 - accuracy: 0.9287 1s - loss: 0.2608 - accura - ETA: 0s -\n",
      "Epoch 7/10\n",
      "22400/22400 [==============================] - 1s 48us/step - loss: 0.2361 - accuracy: 0.9321\n",
      "Epoch 8/10\n",
      "22400/22400 [==============================] - 1s 47us/step - loss: 0.2223 - accuracy: 0.9345\n",
      "Epoch 9/10\n",
      "22400/22400 [==============================] - 1s 47us/step - loss: 0.2126 - accuracy: 0.9371\n",
      "Epoch 10/10\n",
      "22400/22400 [==============================] - 1s 46us/step - loss: 0.2009 - accuracy: 0.9407\n",
      "11200/11200 [==============================] - 0s 22us/step\n",
      "Epoch 1/10\n",
      "22400/22400 [==============================] - 1s 55us/step - loss: 0.8372 - accuracy: 0.7720\n",
      "Epoch 2/10\n",
      "22400/22400 [==============================] - 1s 47us/step - loss: 0.4112 - accuracy: 0.8873\n",
      "Epoch 3/10\n",
      "22400/22400 [==============================] - 1s 47us/step - loss: 0.3328 - accuracy: 0.9060\n",
      "Epoch 4/10\n",
      "22400/22400 [==============================] - 1s 47us/step - loss: 0.2895 - accuracy: 0.9173\n",
      "Epoch 5/10\n",
      "22400/22400 [==============================] - 4s 199us/step - loss: 0.2630 - accuracy: 0.9239\n",
      "Epoch 6/10\n",
      "22400/22400 [==============================] - 4s 164us/step - loss: 0.2447 - accuracy: 0.9283\n",
      "Epoch 7/10\n",
      "22400/22400 [==============================] - 4s 158us/step - loss: 0.2284 - accuracy: 0.9336\n",
      "Epoch 8/10\n",
      "22400/22400 [==============================] - 4s 173us/step - loss: 0.2141 - accuracy: 0.9373\n",
      "Epoch 9/10\n",
      "22400/22400 [==============================] - 3s 131us/step - loss: 0.2073 - accuracy: 0.9391\n",
      "Epoch 10/10\n",
      "22400/22400 [==============================] - 3s 113us/step - loss: 0.1957 - accuracy: 0.9419\n",
      "11200/11200 [==============================] - 1s 67us/step\n",
      "Epoch 1/10\n",
      "22400/22400 [==============================] - 3s 136us/step - loss: 0.5857 - accuracy: 0.8325\n",
      "Epoch 2/10\n",
      "22400/22400 [==============================] - 2s 104us/step - loss: 0.2780 - accuracy: 0.9171\n",
      "Epoch 3/10\n",
      "22400/22400 [==============================] - 2s 103us/step - loss: 0.2274 - accuracy: 0.9305\n",
      "Epoch 4/10\n",
      "22400/22400 [==============================] - 2s 107us/step - loss: 0.2015 - accuracy: 0.9382\n",
      "Epoch 5/10\n"
     ]
    },
    {
     "name": "stdout",
     "output_type": "stream",
     "text": [
      "22400/22400 [==============================] - 2s 104us/step - loss: 0.1832 - accuracy: 0.9435\n",
      "Epoch 6/10\n",
      "22400/22400 [==============================] - 2s 108us/step - loss: 0.1663 - accuracy: 0.9483\n",
      "Epoch 7/10\n",
      "22400/22400 [==============================] - 4s 175us/step - loss: 0.1562 - accuracy: 0.9533\n",
      "Epoch 8/10\n",
      "22400/22400 [==============================] - 2s 74us/step - loss: 0.1452 - accuracy: 0.9558\n",
      "Epoch 9/10\n",
      "22400/22400 [==============================] - 1s 66us/step - loss: 0.1355 - accuracy: 0.9573\n",
      "Epoch 10/10\n",
      "22400/22400 [==============================] - 1s 59us/step - loss: 0.1312 - accuracy: 0.9583\n",
      "11200/11200 [==============================] - 0s 37us/step\n",
      "Epoch 1/10\n",
      "22400/22400 [==============================] - 4s 171us/step - loss: 0.5743 - accuracy: 0.8396\n",
      "Epoch 2/10\n",
      "22400/22400 [==============================] - 4s 157us/step - loss: 0.2830 - accuracy: 0.9173\n",
      "Epoch 3/10\n",
      "22400/22400 [==============================] - 5s 207us/step - loss: 0.2313 - accuracy: 0.9322\n",
      "Epoch 4/10\n",
      "22400/22400 [==============================] - 4s 190us/step - loss: 0.2063 - accuracy: 0.9386\n",
      "Epoch 5/10\n",
      "22400/22400 [==============================] - 4s 175us/step - loss: 0.1870 - accuracy: 0.9433\n",
      "Epoch 6/10\n",
      "22400/22400 [==============================] - 2s 92us/step - loss: 0.1710 - accuracy: 0.9479\n",
      "Epoch 7/10\n",
      "22400/22400 [==============================] - 2s 86us/step - loss: 0.1570 - accuracy: 0.9527\n",
      "Epoch 8/10\n",
      "22400/22400 [==============================] - 2s 86us/step - loss: 0.1496 - accuracy: 0.9536\n",
      "Epoch 9/10\n",
      "22400/22400 [==============================] - 3s 135us/step - loss: 0.1426 - accuracy: 0.9561\n",
      "Epoch 10/10\n",
      "22400/22400 [==============================] - 2s 100us/step - loss: 0.1386 - accuracy: 0.9577\n",
      "11200/11200 [==============================] - 1s 86us/step\n",
      "Epoch 1/10\n",
      "22400/22400 [==============================] - 4s 162us/step - loss: 0.5944 - accuracy: 0.8327\n",
      "Epoch 2/10\n",
      "22400/22400 [==============================] - 3s 121us/step - loss: 0.2789 - accuracy: 0.9179\n",
      "Epoch 3/10\n",
      "22400/22400 [==============================] - 3s 125us/step - loss: 0.2292 - accuracy: 0.9324\n",
      "Epoch 4/10\n",
      "22400/22400 [==============================] - 3s 129us/step - loss: 0.2062 - accuracy: 0.9384\n",
      "Epoch 5/10\n",
      "22400/22400 [==============================] - 3s 119us/step - loss: 0.1851 - accuracy: 0.9445\n",
      "Epoch 6/10\n",
      "22400/22400 [==============================] - 3s 127us/step - loss: 0.1678 - accuracy: 0.9501\n",
      "Epoch 7/10\n",
      "22400/22400 [==============================] - 3s 126us/step - loss: 0.1589 - accuracy: 0.9513\n",
      "Epoch 8/10\n",
      "22400/22400 [==============================] - 3s 128us/step - loss: 0.1478 - accuracy: 0.9550\n",
      "Epoch 9/10\n",
      "22400/22400 [==============================] - 3s 128us/step - loss: 0.1378 - accuracy: 0.9593\n",
      "Epoch 10/10\n",
      "22400/22400 [==============================] - 3s 126us/step - loss: 0.1309 - accuracy: 0.9605\n",
      "11200/11200 [==============================] - 1s 89us/step\n",
      "Epoch 1/10\n",
      "22400/22400 [==============================] - 4s 157us/step - loss: 0.5517 - accuracy: 0.8345\n",
      "Epoch 2/10\n",
      "22400/22400 [==============================] - 3s 117us/step - loss: 0.2352 - accuracy: 0.9283\n",
      "Epoch 3/10\n",
      "22400/22400 [==============================] - 3s 125us/step - loss: 0.1750 - accuracy: 0.9460\n",
      "Epoch 4/10\n",
      "22400/22400 [==============================] - 2s 99us/step - loss: 0.1462 - accuracy: 0.9548\n",
      "Epoch 5/10\n",
      "22400/22400 [==============================] - 2s 87us/step - loss: 0.1258 - accuracy: 0.9633\n",
      "Epoch 6/10\n",
      "22400/22400 [==============================] - 2s 99us/step - loss: 0.1109 - accuracy: 0.9664\n",
      "Epoch 7/10\n",
      "22400/22400 [==============================] - 3s 124us/step - loss: 0.0978 - accuracy: 0.9684\n",
      "Epoch 8/10\n",
      "22400/22400 [==============================] - 3s 128us/step - loss: 0.0869 - accuracy: 0.9726\n",
      "Epoch 9/10\n",
      "22400/22400 [==============================] - 3s 114us/step - loss: 0.0826 - accuracy: 0.9745\n",
      "Epoch 10/10\n",
      "22400/22400 [==============================] - 4s 191us/step - loss: 0.0699 - accuracy: 0.9779\n",
      "11200/11200 [==============================] - 1s 85us/step\n",
      "Epoch 1/10\n",
      "22400/22400 [==============================] - 4s 161us/step - loss: 0.5618 - accuracy: 0.8335\n",
      "Epoch 2/10\n",
      "22400/22400 [==============================] - 2s 96us/step - loss: 0.2550 - accuracy: 0.9259\n",
      "Epoch 3/10\n",
      "22400/22400 [==============================] - 2s 104us/step - loss: 0.1929 - accuracy: 0.9408\n",
      "Epoch 4/10\n",
      "22400/22400 [==============================] - 3s 113us/step - loss: 0.1655 - accuracy: 0.9499\n",
      "Epoch 5/10\n",
      "22400/22400 [==============================] - 3s 117us/step - loss: 0.1417 - accuracy: 0.9558\n",
      "Epoch 6/10\n",
      "22400/22400 [==============================] - 3s 126us/step - loss: 0.1295 - accuracy: 0.9595\n",
      "Epoch 7/10\n",
      "22400/22400 [==============================] - 3s 113us/step - loss: 0.1148 - accuracy: 0.9648\n",
      "Epoch 8/10\n",
      "22400/22400 [==============================] - 2s 86us/step - loss: 0.1088 - accuracy: 0.9650\n",
      "Epoch 9/10\n",
      "22400/22400 [==============================] - 3s 114us/step - loss: 0.0929 - accuracy: 0.9714\n",
      "Epoch 10/10\n",
      "22400/22400 [==============================] - 2s 111us/step - loss: 0.0907 - accuracy: 0.9717\n",
      "11200/11200 [==============================] - 0s 24us/step\n",
      "Epoch 1/10\n",
      "22400/22400 [==============================] - 2s 110us/step - loss: 0.6182 - accuracy: 0.8187\n",
      "Epoch 2/10\n",
      "22400/22400 [==============================] - 2s 102us/step - loss: 0.2487 - accuracy: 0.9251\n",
      "Epoch 3/10\n",
      "22400/22400 [==============================] - 3s 139us/step - loss: 0.2000 - accuracy: 0.9399\n",
      "Epoch 4/10\n",
      "22400/22400 [==============================] - 2s 110us/step - loss: 0.1579 - accuracy: 0.9522\n",
      "Epoch 5/10\n",
      "22400/22400 [==============================] - 2s 104us/step - loss: 0.1429 - accuracy: 0.9558\n",
      "Epoch 6/10\n",
      "22400/22400 [==============================] - 2s 110us/step - loss: 0.1267 - accuracy: 0.9609\n",
      "Epoch 7/10\n",
      "22400/22400 [==============================] - 2s 105us/step - loss: 0.1135 - accuracy: 0.9640\n",
      "Epoch 8/10\n",
      "22400/22400 [==============================] - 2s 98us/step - loss: 0.0989 - accuracy: 0.9690\n",
      "Epoch 9/10\n",
      "22400/22400 [==============================] - 2s 108us/step - loss: 0.0958 - accuracy: 0.9690\n",
      "Epoch 10/10\n",
      "22400/22400 [==============================] - 2s 107us/step - loss: 0.0828 - accuracy: 0.9733\n",
      "11200/11200 [==============================] - 0s 39us/step\n",
      "Epoch 1/10\n",
      "22400/22400 [==============================] - 3s 145us/step - loss: 0.9388 - accuracy: 0.7400\n",
      "Epoch 2/10\n",
      "22400/22400 [==============================] - 4s 171us/step - loss: 0.4698 - accuracy: 0.8744\n",
      "Epoch 3/10\n",
      "22400/22400 [==============================] - 4s 183us/step - loss: 0.3660 - accuracy: 0.8987\n",
      "Epoch 4/10\n",
      "22400/22400 [==============================] - 4s 167us/step - loss: 0.3165 - accuracy: 0.9099\n",
      "Epoch 5/10\n",
      "22400/22400 [==============================] - 4s 172us/step - loss: 0.2826 - accuracy: 0.9212\n",
      "Epoch 6/10\n",
      "22400/22400 [==============================] - 3s 146us/step - loss: 0.2558 - accuracy: 0.9259\n",
      "Epoch 7/10\n",
      "22400/22400 [==============================] - 3s 144us/step - loss: 0.2399 - accuracy: 0.9301\n",
      "Epoch 8/10\n",
      "22400/22400 [==============================] - 3s 133us/step - loss: 0.2247 - accuracy: 0.9367\n",
      "Epoch 9/10\n",
      "22400/22400 [==============================] - 3s 122us/step - loss: 0.2123 - accuracy: 0.9394\n",
      "Epoch 10/10\n",
      "22400/22400 [==============================] - 4s 160us/step - loss: 0.1983 - accuracy: 0.9438\n",
      "11200/11200 [==============================] - 1s 50us/step\n",
      "Epoch 1/10\n",
      "22400/22400 [==============================] - 1s 64us/step - loss: 0.9548 - accuracy: 0.7355\n",
      "Epoch 2/10\n",
      "22400/22400 [==============================] - 1s 55us/step - loss: 0.4702 - accuracy: 0.8776\n",
      "Epoch 3/10\n",
      "22400/22400 [==============================] - 2s 75us/step - loss: 0.3736 - accuracy: 0.8968\n",
      "Epoch 4/10\n",
      "22400/22400 [==============================] - 1s 54us/step - loss: 0.3276 - accuracy: 0.9072\n",
      "Epoch 5/10\n",
      "22400/22400 [==============================] - 1s 66us/step - loss: 0.2939 - accuracy: 0.9162\n",
      "Epoch 6/10\n",
      "22400/22400 [==============================] - 2s 84us/step - loss: 0.2731 - accuracy: 0.9215\n",
      "Epoch 7/10\n",
      "22400/22400 [==============================] - 2s 105us/step - loss: 0.2584 - accuracy: 0.9254\n",
      "Epoch 8/10\n"
     ]
    },
    {
     "name": "stdout",
     "output_type": "stream",
     "text": [
      "22400/22400 [==============================] - 3s 125us/step - loss: 0.2432 - accuracy: 0.9297\n",
      "Epoch 9/10\n",
      "22400/22400 [==============================] - 5s 204us/step - loss: 0.2364 - accuracy: 0.9312\n",
      "Epoch 10/10\n",
      "22400/22400 [==============================] - 3s 119us/step - loss: 0.2236 - accuracy: 0.9342\n",
      "11200/11200 [==============================] - 1s 76us/step\n",
      "Epoch 1/10\n",
      "22400/22400 [==============================] - 4s 178us/step - loss: 0.9104 - accuracy: 0.7479\n",
      "Epoch 2/10\n",
      "22400/22400 [==============================] - 4s 158us/step - loss: 0.4405 - accuracy: 0.8875\n",
      "Epoch 3/10\n",
      "22400/22400 [==============================] - 2s 92us/step - loss: 0.3499 - accuracy: 0.9026\n",
      "Epoch 4/10\n",
      "22400/22400 [==============================] - 2s 98us/step - loss: 0.2983 - accuracy: 0.9166\n",
      "Epoch 5/10\n",
      "22400/22400 [==============================] - 3s 141us/step - loss: 0.2685 - accuracy: 0.9242\n",
      "Epoch 6/10\n",
      "22400/22400 [==============================] - 3s 125us/step - loss: 0.2422 - accuracy: 0.9315\n",
      "Epoch 7/10\n",
      "22400/22400 [==============================] - 3s 150us/step - loss: 0.2263 - accuracy: 0.9353\n",
      "Epoch 8/10\n",
      "22400/22400 [==============================] - 3s 144us/step - loss: 0.2154 - accuracy: 0.9385\n",
      "Epoch 9/10\n",
      "22400/22400 [==============================] - 3s 144us/step - loss: 0.2072 - accuracy: 0.9407\n",
      "Epoch 10/10\n",
      "22400/22400 [==============================] - 3s 142us/step - loss: 0.1949 - accuracy: 0.9430\n",
      "11200/11200 [==============================] - 1s 66us/step\n",
      "Epoch 1/10\n",
      "33600/33600 [==============================] - 5s 150us/step - loss: 0.3985 - accuracy: 0.8802\n",
      "Epoch 2/10\n",
      "33600/33600 [==============================] - 5s 138us/step - loss: 0.1941 - accuracy: 0.9423\n",
      "Epoch 3/10\n",
      "33600/33600 [==============================] - 5s 138us/step - loss: 0.1495 - accuracy: 0.9559\n",
      "Epoch 4/10\n",
      "33600/33600 [==============================] - 4s 129us/step - loss: 0.1164 - accuracy: 0.9647\n",
      "Epoch 5/10\n",
      "33600/33600 [==============================] - 5s 137us/step - loss: 0.0988 - accuracy: 0.9709\n",
      "Epoch 6/10\n",
      "33600/33600 [==============================] - 5s 138us/step - loss: 0.0836 - accuracy: 0.9750\n",
      "Epoch 7/10\n",
      "33600/33600 [==============================] - 5s 144us/step - loss: 0.0700 - accuracy: 0.9790\n",
      "Epoch 8/10\n",
      "33600/33600 [==============================] - 5s 149us/step - loss: 0.0622 - accuracy: 0.9814\n",
      "Epoch 9/10\n",
      "33600/33600 [==============================] - 5s 137us/step - loss: 0.0548 - accuracy: 0.9840\n",
      "Epoch 10/10\n",
      "33600/33600 [==============================] - 5s 141us/step - loss: 0.0468 - accuracy: 0.9864\n"
     ]
    },
    {
     "data": {
      "text/plain": [
       "RandomizedSearchCV(cv=3, error_score=nan,\n",
       "                   estimator=<keras.wrappers.scikit_learn.KerasClassifier object at 0x0000024F81BC1708>,\n",
       "                   iid='deprecated', n_iter=10, n_jobs=None,\n",
       "                   param_distributions={'activation': ['relu', 'tanh'],\n",
       "                                        'hl': [2, 3, 4],\n",
       "                                        'nodes': [16, 32, 64, 128],\n",
       "                                        'optimizer': ['sgd', 'adam']},\n",
       "                   pre_dispatch='2*n_jobs', random_state=None, refit=True,\n",
       "                   return_train_score=False, scoring=None, verbose=0)"
      ]
     },
     "execution_count": 48,
     "metadata": {},
     "output_type": "execute_result"
    }
   ],
   "source": [
    "RS_CV.fit(X_train, y_train)"
   ]
  },
  {
   "cell_type": "code",
   "execution_count": 49,
   "metadata": {
    "ExecuteTime": {
     "end_time": "2020-04-20T02:51:55.439882Z",
     "start_time": "2020-04-20T02:51:55.430427Z"
    }
   },
   "outputs": [
    {
     "data": {
      "text/plain": [
       "{'optimizer': 'sgd', 'nodes': 128, 'hl': 3, 'activation': 'relu'}"
      ]
     },
     "execution_count": 49,
     "metadata": {},
     "output_type": "execute_result"
    }
   ],
   "source": [
    "RS_CV.best_params_"
   ]
  },
  {
   "cell_type": "markdown",
   "metadata": {},
   "source": [
    "Best parameters:\n",
    "- Optimizer: Stochastic Gradient Descent\n",
    "- 3 hidden layers\n",
    "- Activation relu"
   ]
  },
  {
   "cell_type": "code",
   "execution_count": 52,
   "metadata": {
    "ExecuteTime": {
     "end_time": "2020-04-20T02:52:31.285489Z",
     "start_time": "2020-04-20T02:52:31.089459Z"
    }
   },
   "outputs": [],
   "source": [
    "model_fc_o = create_model(optimizer= \"sgd\", nodes = 128, hl = 3, activation = \"relu\")"
   ]
  },
  {
   "cell_type": "code",
   "execution_count": 53,
   "metadata": {
    "ExecuteTime": {
     "end_time": "2020-04-20T02:54:49.399586Z",
     "start_time": "2020-04-20T02:52:33.978990Z"
    }
   },
   "outputs": [
    {
     "name": "stdout",
     "output_type": "stream",
     "text": [
      "Train on 26880 samples, validate on 6720 samples\n",
      "Epoch 1/100\n",
      "26880/26880 [==============================] - 5s 181us/step - loss: 0.4457 - accuracy: 0.8662 - val_loss: 0.2230 - val_accuracy: 0.9338\n",
      "Epoch 2/100\n",
      "26880/26880 [==============================] - 9s 321us/step - loss: 0.2128 - accuracy: 0.9376 - val_loss: 0.1664 - val_accuracy: 0.9501\n",
      "Epoch 3/100\n",
      "26880/26880 [==============================] - 5s 173us/step - loss: 0.1594 - accuracy: 0.9527 - val_loss: 0.1498 - val_accuracy: 0.9536\n",
      "Epoch 4/100\n",
      "26880/26880 [==============================] - 4s 164us/step - loss: 0.1274 - accuracy: 0.9628 - val_loss: 0.1345 - val_accuracy: 0.9580\n",
      "Epoch 5/100\n",
      "26880/26880 [==============================] - 6s 205us/step - loss: 0.1072 - accuracy: 0.9683 - val_loss: 0.1214 - val_accuracy: 0.9668\n",
      "Epoch 6/100\n",
      "26880/26880 [==============================] - 6s 233us/step - loss: 0.0885 - accuracy: 0.9740 - val_loss: 0.1171 - val_accuracy: 0.9659\n",
      "Epoch 7/100\n",
      "26880/26880 [==============================] - 5s 176us/step - loss: 0.0773 - accuracy: 0.9765 - val_loss: 0.1183 - val_accuracy: 0.9650\n",
      "Epoch 8/100\n",
      "26880/26880 [==============================] - 4s 155us/step - loss: 0.0666 - accuracy: 0.9809 - val_loss: 0.1122 - val_accuracy: 0.9679\n",
      "Epoch 9/100\n",
      "26880/26880 [==============================] - 4s 164us/step - loss: 0.0566 - accuracy: 0.9837 - val_loss: 0.1088 - val_accuracy: 0.9683\n",
      "Epoch 10/100\n",
      "26880/26880 [==============================] - 5s 182us/step - loss: 0.0496 - accuracy: 0.9859 - val_loss: 0.1070 - val_accuracy: 0.9680\n",
      "Epoch 11/100\n",
      "26880/26880 [==============================] - 6s 212us/step - loss: 0.0451 - accuracy: 0.9874 - val_loss: 0.1010 - val_accuracy: 0.9711\n",
      "Epoch 12/100\n",
      "26880/26880 [==============================] - 4s 159us/step - loss: 0.0394 - accuracy: 0.9897 - val_loss: 0.0992 - val_accuracy: 0.9716\n",
      "Epoch 13/100\n",
      "26880/26880 [==============================] - 4s 162us/step - loss: 0.0346 - accuracy: 0.9906 - val_loss: 0.0989 - val_accuracy: 0.9722\n",
      "Epoch 14/100\n",
      "26880/26880 [==============================] - 6s 216us/step - loss: 0.0310 - accuracy: 0.9923 - val_loss: 0.1008 - val_accuracy: 0.9723\n",
      "Epoch 15/100\n",
      "26880/26880 [==============================] - 5s 180us/step - loss: 0.0273 - accuracy: 0.9932 - val_loss: 0.0972 - val_accuracy: 0.9743\n",
      "Epoch 16/100\n",
      "26880/26880 [==============================] - 6s 207us/step - loss: 0.0240 - accuracy: 0.9943 - val_loss: 0.0974 - val_accuracy: 0.9737\n",
      "Epoch 17/100\n",
      "26880/26880 [==============================] - 4s 165us/step - loss: 0.0212 - accuracy: 0.9952 - val_loss: 0.0951 - val_accuracy: 0.9749\n",
      "Epoch 18/100\n",
      "26880/26880 [==============================] - 6s 240us/step - loss: 0.0195 - accuracy: 0.9959 - val_loss: 0.0960 - val_accuracy: 0.9722\n",
      "Epoch 19/100\n",
      "26880/26880 [==============================] - 4s 158us/step - loss: 0.0183 - accuracy: 0.9961 - val_loss: 0.0961 - val_accuracy: 0.9735\n",
      "Epoch 20/100\n",
      "26880/26880 [==============================] - 5s 173us/step - loss: 0.0158 - accuracy: 0.9966 - val_loss: 0.0984 - val_accuracy: 0.9731\n",
      "Epoch 21/100\n",
      "26880/26880 [==============================] - 5s 188us/step - loss: 0.0153 - accuracy: 0.9969 - val_loss: 0.0997 - val_accuracy: 0.9738\n",
      "Epoch 22/100\n",
      "26880/26880 [==============================] - 4s 159us/step - loss: 0.0139 - accuracy: 0.9973 - val_loss: 0.0991 - val_accuracy: 0.9747\n",
      "Epoch 23/100\n",
      "26880/26880 [==============================] - 4s 157us/step - loss: 0.0125 - accuracy: 0.9978 - val_loss: 0.1001 - val_accuracy: 0.9738\n",
      "Epoch 24/100\n",
      "26880/26880 [==============================] - 5s 171us/step - loss: 0.0111 - accuracy: 0.9985 - val_loss: 0.0983 - val_accuracy: 0.9740\n",
      "Epoch 25/100\n",
      "26880/26880 [==============================] - 5s 170us/step - loss: 0.0111 - accuracy: 0.9979 - val_loss: 0.0973 - val_accuracy: 0.9749\n",
      "Epoch 26/100\n",
      "26880/26880 [==============================] - 4s 154us/step - loss: 0.0106 - accuracy: 0.9982 - val_loss: 0.0984 - val_accuracy: 0.9743\n",
      "Epoch 27/100\n",
      "26880/26880 [==============================] - 4s 166us/step - loss: 0.0096 - accuracy: 0.9988 - val_loss: 0.0990 - val_accuracy: 0.9741\n"
     ]
    }
   ],
   "source": [
    "history = model_fc_o.fit(X_train, y_train, validation_split = 0.2, epochs = 100, callbacks = [early_stopping])"
   ]
  },
  {
   "cell_type": "code",
   "execution_count": 54,
   "metadata": {
    "ExecuteTime": {
     "end_time": "2020-04-20T02:54:49.654309Z",
     "start_time": "2020-04-20T02:54:49.403620Z"
    }
   },
   "outputs": [
    {
     "data": {
      "image/png": "[encoded data removed]",
      "text/plain": [
       "<Figure size 576x288 with 1 Axes>"
      ]
     },
     "metadata": {
      "needs_background": "light"
     },
     "output_type": "display_data"
    }
   ],
   "source": [
    "fig = plt.figure(figsize = (8,4))\n",
    "ax1= plt.plot(history.history[\"accuracy\"], label = \"training\")\n",
    "ax2 = plt.plot(history.history[\"val_accuracy\"], label = \"validation\")\n",
    "plt.legend(loc=\"upper left\")\n",
    "plt.xlabel(\"Epochs\")\n",
    "plt.ylim(0.9,1)\n",
    "plt.ylabel(\"Accuracy\")\n",
    "plt.title(\"Training accuracy and Validation accuracy by epochs\");"
   ]
  },
  {
   "cell_type": "code",
   "execution_count": 55,
   "metadata": {
    "ExecuteTime": {
     "end_time": "2020-04-20T02:54:50.000973Z",
     "start_time": "2020-04-20T02:54:49.655470Z"
    }
   },
   "outputs": [
    {
     "name": "stdout",
     "output_type": "stream",
     "text": [
      "8400/8400 [==============================] - 0s 40us/step\n"
     ]
    }
   ],
   "source": [
    "test_accuracy = model_fc_o.evaluate(X_test, y_test)[1]"
   ]
  },
  {
   "cell_type": "code",
   "execution_count": 56,
   "metadata": {
    "ExecuteTime": {
     "end_time": "2020-04-20T02:54:50.012120Z",
     "start_time": "2020-04-20T02:54:50.001969Z"
    }
   },
   "outputs": [],
   "source": [
    "Summary_table  = Summary_table.append({\"model\": \"Opimized NN (3 HL, 128 nodes)\", \"Test accuracy\": np.round(test_accuracy,3) }, ignore_index = True)"
   ]
  },
  {
   "cell_type": "code",
   "execution_count": 57,
   "metadata": {
    "ExecuteTime": {
     "end_time": "2020-04-20T02:54:50.029327Z",
     "start_time": "2020-04-20T02:54:50.013117Z"
    }
   },
   "outputs": [
    {
     "data": {
      "text/html": [
       "<div>\n",
       "<style scoped>\n",
       "    .dataframe tbody tr th:only-of-type {\n",
       "        vertical-align: middle;\n",
       "    }\n",
       "\n",
       "    .dataframe tbody tr th {\n",
       "        vertical-align: top;\n",
       "    }\n",
       "\n",
       "    .dataframe thead th {\n",
       "        text-align: right;\n",
       "    }\n",
       "</style>\n",
       "<table border=\"1\" class=\"dataframe\">\n",
       "  <thead>\n",
       "    <tr style=\"text-align: right;\">\n",
       "      <th></th>\n",
       "      <th>model</th>\n",
       "      <th>Test accuracy</th>\n",
       "    </tr>\n",
       "  </thead>\n",
       "  <tbody>\n",
       "    <tr>\n",
       "      <th>0</th>\n",
       "      <td>Logistic Regression</td>\n",
       "      <td>0.921</td>\n",
       "    </tr>\n",
       "    <tr>\n",
       "      <th>1</th>\n",
       "      <td>Shallow NN</td>\n",
       "      <td>0.894</td>\n",
       "    </tr>\n",
       "    <tr>\n",
       "      <th>2</th>\n",
       "      <td>NN 2 HL,5 nodes</td>\n",
       "      <td>0.863</td>\n",
       "    </tr>\n",
       "    <tr>\n",
       "      <th>3</th>\n",
       "      <td>NN 2 HL,16 nodes</td>\n",
       "      <td>0.940</td>\n",
       "    </tr>\n",
       "    <tr>\n",
       "      <th>4</th>\n",
       "      <td>Opimized NN (3 HL, 128 nodes)</td>\n",
       "      <td>0.970</td>\n",
       "    </tr>\n",
       "  </tbody>\n",
       "</table>\n",
       "</div>"
      ],
      "text/plain": [
       "                           model  Test accuracy\n",
       "0            Logistic Regression          0.921\n",
       "1                     Shallow NN          0.894\n",
       "2                NN 2 HL,5 nodes          0.863\n",
       "3               NN 2 HL,16 nodes          0.940\n",
       "4  Opimized NN (3 HL, 128 nodes)          0.970"
      ]
     },
     "execution_count": 57,
     "metadata": {},
     "output_type": "execute_result"
    }
   ],
   "source": [
    "Summary_table"
   ]
  },
  {
   "cell_type": "markdown",
   "metadata": {},
   "source": [
    "Observations:\n",
    "- Bayes error : 0 (Humans can perfectly identify)\n",
    "- Training error : 0.002\n",
    "- Test error: 0.030\n",
    "\n",
    "We have successfully reduced the bias but there is varaince now due to **overfitting**.Variance can be decreased by:\n",
    "- Drop out regularization\n",
    "- l2 Regularization "
   ]
  },
  {
   "cell_type": "markdown",
   "metadata": {},
   "source": [
    "## Dropout Regularization "
   ]
  },
  {
   "cell_type": "code",
   "execution_count": 58,
   "metadata": {
    "ExecuteTime": {
     "end_time": "2020-04-20T02:59:49.041678Z",
     "start_time": "2020-04-20T02:59:48.804564Z"
    }
   },
   "outputs": [],
   "source": [
    "model_fc_r = Sequential()\n",
    "model_fc_r.add(Dense(128, input_shape = (784,), activation = \"relu\"))\n",
    "model_fc_r.add(BatchNormalization())\n",
    "model_fc_r.add(Dropout(0.2))\n",
    "model_fc_r.add(Dense(128, activation = \"relu\"))\n",
    "model_fc_r.add(BatchNormalization())\n",
    "model_fc_r.add(Dropout(0.2))\n",
    "model_fc_r.add(Dense(128, activation = \"relu\"))\n",
    "model_fc_r.add(BatchNormalization())\n",
    "model_fc_r.add(Dropout(0.2))\n",
    "model_fc_r.add(Dense(10, activation = \"softmax\"))"
   ]
  },
  {
   "cell_type": "code",
   "execution_count": 59,
   "metadata": {
    "ExecuteTime": {
     "end_time": "2020-04-20T02:59:50.256807Z",
     "start_time": "2020-04-20T02:59:50.208316Z"
    }
   },
   "outputs": [],
   "source": [
    "model_fc_r.compile(optimizer = \"sgd\", loss = \"categorical_crossentropy\", metrics = [\"accuracy\"])"
   ]
  },
  {
   "cell_type": "code",
   "execution_count": 60,
   "metadata": {
    "ExecuteTime": {
     "end_time": "2020-04-20T03:04:54.756126Z",
     "start_time": "2020-04-20T02:59:50.678642Z"
    }
   },
   "outputs": [
    {
     "name": "stdout",
     "output_type": "stream",
     "text": [
      "Train on 26880 samples, validate on 6720 samples\n",
      "Epoch 1/100\n",
      "26880/26880 [==============================] - 6s 233us/step - loss: 0.6967 - accuracy: 0.7805 - val_loss: 0.2530 - val_accuracy: 0.9265\n",
      "Epoch 2/100\n",
      "26880/26880 [==============================] - 5s 201us/step - loss: 0.3911 - accuracy: 0.8819 - val_loss: 0.2004 - val_accuracy: 0.9421\n",
      "Epoch 3/100\n",
      "26880/26880 [==============================] - 6s 230us/step - loss: 0.3175 - accuracy: 0.9028 - val_loss: 0.1710 - val_accuracy: 0.9488\n",
      "Epoch 4/100\n",
      "26880/26880 [==============================] - 6s 222us/step - loss: 0.2776 - accuracy: 0.9148 - val_loss: 0.1482 - val_accuracy: 0.9571\n",
      "Epoch 5/100\n",
      "26880/26880 [==============================] - 5s 198us/step - loss: 0.2490 - accuracy: 0.9249 - val_loss: 0.1379 - val_accuracy: 0.9603\n",
      "Epoch 6/100\n",
      "26880/26880 [==============================] - 5s 204us/step - loss: 0.2269 - accuracy: 0.9318 - val_loss: 0.1302 - val_accuracy: 0.9624\n",
      "Epoch 7/100\n",
      "26880/26880 [==============================] - 6s 210us/step - loss: 0.2150 - accuracy: 0.9324 - val_loss: 0.1232 - val_accuracy: 0.9632\n",
      "Epoch 8/100\n",
      "26880/26880 [==============================] - 6s 213us/step - loss: 0.1980 - accuracy: 0.9392 - val_loss: 0.1203 - val_accuracy: 0.9649\n",
      "Epoch 9/100\n",
      "26880/26880 [==============================] - 6s 205us/step - loss: 0.1859 - accuracy: 0.9421 - val_loss: 0.1136 - val_accuracy: 0.9655\n",
      "Epoch 10/100\n",
      "26880/26880 [==============================] - 5s 194us/step - loss: 0.1747 - accuracy: 0.9452 - val_loss: 0.1100 - val_accuracy: 0.9679\n",
      "Epoch 11/100\n",
      "26880/26880 [==============================] - 5s 202us/step - loss: 0.1681 - accuracy: 0.9478 - val_loss: 0.1120 - val_accuracy: 0.9658\n",
      "Epoch 12/100\n",
      "26880/26880 [==============================] - 5s 197us/step - loss: 0.1576 - accuracy: 0.9513 - val_loss: 0.1056 - val_accuracy: 0.9676\n",
      "Epoch 13/100\n",
      "26880/26880 [==============================] - 6s 206us/step - loss: 0.1572 - accuracy: 0.9501 - val_loss: 0.1026 - val_accuracy: 0.9701\n",
      "Epoch 14/100\n",
      "26880/26880 [==============================] - 9s 317us/step - loss: 0.1526 - accuracy: 0.9519 - val_loss: 0.1024 - val_accuracy: 0.9692\n",
      "Epoch 15/100\n",
      "26880/26880 [==============================] - 6s 226us/step - loss: 0.1370 - accuracy: 0.9571 - val_loss: 0.0988 - val_accuracy: 0.9698\n",
      "Epoch 16/100\n",
      "26880/26880 [==============================] - 6s 239us/step - loss: 0.1318 - accuracy: 0.9580 - val_loss: 0.0952 - val_accuracy: 0.9710\n",
      "Epoch 17/100\n",
      "26880/26880 [==============================] - 6s 213us/step - loss: 0.1307 - accuracy: 0.9597 - val_loss: 0.0923 - val_accuracy: 0.9713\n",
      "Epoch 18/100\n",
      "26880/26880 [==============================] - 5s 203us/step - loss: 0.1279 - accuracy: 0.9594 - val_loss: 0.0915 - val_accuracy: 0.9716\n",
      "Epoch 19/100\n",
      "26880/26880 [==============================] - 9s 322us/step - loss: 0.1229 - accuracy: 0.9615 - val_loss: 0.0936 - val_accuracy: 0.9716\n",
      "Epoch 20/100\n",
      "26880/26880 [==============================] - 5s 185us/step - loss: 0.1198 - accuracy: 0.9621 - val_loss: 0.0921 - val_accuracy: 0.9734\n",
      "Epoch 21/100\n",
      "26880/26880 [==============================] - 6s 210us/step - loss: 0.1165 - accuracy: 0.9641 - val_loss: 0.0932 - val_accuracy: 0.9734\n",
      "Epoch 22/100\n",
      "26880/26880 [==============================] - 6s 205us/step - loss: 0.1094 - accuracy: 0.9646 - val_loss: 0.0909 - val_accuracy: 0.9729\n",
      "Epoch 23/100\n",
      "26880/26880 [==============================] - 7s 243us/step - loss: 0.1095 - accuracy: 0.9652 - val_loss: 0.0924 - val_accuracy: 0.9726\n",
      "Epoch 24/100\n",
      "26880/26880 [==============================] - 8s 286us/step - loss: 0.1038 - accuracy: 0.9674 - val_loss: 0.0902 - val_accuracy: 0.9738\n",
      "Epoch 25/100\n",
      "26880/26880 [==============================] - 6s 238us/step - loss: 0.1016 - accuracy: 0.9677 - val_loss: 0.0913 - val_accuracy: 0.9738\n",
      "Epoch 26/100\n",
      "26880/26880 [==============================] - 7s 266us/step - loss: 0.0988 - accuracy: 0.9686 - val_loss: 0.0884 - val_accuracy: 0.9740\n",
      "Epoch 27/100\n",
      "26880/26880 [==============================] - 8s 288us/step - loss: 0.0985 - accuracy: 0.9688 - val_loss: 0.0900 - val_accuracy: 0.9744\n",
      "Epoch 28/100\n",
      "26880/26880 [==============================] - 6s 234us/step - loss: 0.0945 - accuracy: 0.9686 - val_loss: 0.0899 - val_accuracy: 0.9744\n",
      "Epoch 29/100\n",
      "26880/26880 [==============================] - 8s 302us/step - loss: 0.0881 - accuracy: 0.9714 - val_loss: 0.0861 - val_accuracy: 0.9756\n",
      "Epoch 30/100\n",
      "26880/26880 [==============================] - 6s 206us/step - loss: 0.0880 - accuracy: 0.9717 - val_loss: 0.0902 - val_accuracy: 0.9735\n",
      "Epoch 31/100\n",
      "26880/26880 [==============================] - 8s 286us/step - loss: 0.0851 - accuracy: 0.9719 - val_loss: 0.0856 - val_accuracy: 0.9754\n",
      "Epoch 32/100\n",
      "26880/26880 [==============================] - 9s 352us/step - loss: 0.0881 - accuracy: 0.9719 - val_loss: 0.0852 - val_accuracy: 0.9765\n",
      "Epoch 33/100\n",
      "26880/26880 [==============================] - 6s 239us/step - loss: 0.0792 - accuracy: 0.9745 - val_loss: 0.0873 - val_accuracy: 0.9754\n",
      "Epoch 34/100\n",
      "26880/26880 [==============================] - 6s 219us/step - loss: 0.0832 - accuracy: 0.9725 - val_loss: 0.0839 - val_accuracy: 0.9746\n",
      "Epoch 35/100\n",
      "26880/26880 [==============================] - 6s 231us/step - loss: 0.0777 - accuracy: 0.9743 - val_loss: 0.0846 - val_accuracy: 0.9757\n",
      "Epoch 36/100\n",
      "26880/26880 [==============================] - 6s 226us/step - loss: 0.0760 - accuracy: 0.9749 - val_loss: 0.0859 - val_accuracy: 0.9753\n",
      "Epoch 37/100\n",
      "26880/26880 [==============================] - 6s 240us/step - loss: 0.0777 - accuracy: 0.9746 - val_loss: 0.0856 - val_accuracy: 0.9763\n",
      "Epoch 38/100\n",
      "26880/26880 [==============================] - 6s 211us/step - loss: 0.0779 - accuracy: 0.9746 - val_loss: 0.0837 - val_accuracy: 0.9762\n",
      "Epoch 39/100\n",
      "26880/26880 [==============================] - 6s 233us/step - loss: 0.0748 - accuracy: 0.9753 - val_loss: 0.0832 - val_accuracy: 0.9777\n",
      "Epoch 40/100\n",
      "26880/26880 [==============================] - 7s 249us/step - loss: 0.0754 - accuracy: 0.9744 - val_loss: 0.0853 - val_accuracy: 0.9760\n",
      "Epoch 41/100\n",
      "26880/26880 [==============================] - 6s 240us/step - loss: 0.0708 - accuracy: 0.9762 - val_loss: 0.0839 - val_accuracy: 0.9762\n",
      "Epoch 42/100\n",
      "26880/26880 [==============================] - 7s 272us/step - loss: 0.0650 - accuracy: 0.9786 - val_loss: 0.0874 - val_accuracy: 0.9763\n",
      "Epoch 43/100\n",
      "26880/26880 [==============================] - 9s 324us/step - loss: 0.0716 - accuracy: 0.9772 - val_loss: 0.0886 - val_accuracy: 0.9754\n",
      "Epoch 44/100\n",
      "26880/26880 [==============================] - 6s 215us/step - loss: 0.0658 - accuracy: 0.9784 - val_loss: 0.0861 - val_accuracy: 0.9759\n",
      "Epoch 45/100\n",
      "26880/26880 [==============================] - 10s 365us/step - loss: 0.0655 - accuracy: 0.9785 - val_loss: 0.0838 - val_accuracy: 0.9769\n",
      "Epoch 46/100\n",
      "26880/26880 [==============================] - 4s 136us/step - loss: 0.0680 - accuracy: 0.9782 - val_loss: 0.0839 - val_accuracy: 0.9760\n",
      "Epoch 47/100\n",
      "26880/26880 [==============================] - 3s 101us/step - loss: 0.0637 - accuracy: 0.9789 - val_loss: 0.0859 - val_accuracy: 0.9769\n",
      "Epoch 48/100\n",
      "26880/26880 [==============================] - 3s 101us/step - loss: 0.0632 - accuracy: 0.9793 - val_loss: 0.0882 - val_accuracy: 0.9759\n",
      "Epoch 49/100\n",
      "26880/26880 [==============================] - 3s 103us/step - loss: 0.0628 - accuracy: 0.9792 - val_loss: 0.0884 - val_accuracy: 0.9769\n"
     ]
    }
   ],
   "source": [
    "history = model_fc_r.fit(X_train, y_train, validation_split = 0.2, epochs = 100, callbacks = [early_stopping])"
   ]
  },
  {
   "cell_type": "code",
   "execution_count": 61,
   "metadata": {
    "ExecuteTime": {
     "end_time": "2020-04-20T03:04:54.872829Z",
     "start_time": "2020-04-20T03:04:54.757124Z"
    }
   },
   "outputs": [
    {
     "data": {
      "image/png": "[encoded data removed]",
      "text/plain": [
       "<Figure size 576x288 with 1 Axes>"
      ]
     },
     "metadata": {
      "needs_background": "light"
     },
     "output_type": "display_data"
    }
   ],
   "source": [
    "fig = plt.figure(figsize = (8,4))\n",
    "ax1= plt.plot(history.history[\"accuracy\"], label = \"training\")\n",
    "ax2 = plt.plot(history.history[\"val_accuracy\"], label = \"validation\")\n",
    "plt.legend(loc=\"upper left\")\n",
    "plt.xlabel(\"Epochs\")\n",
    "plt.ylim(0.9,1)\n",
    "plt.ylabel(\"Accuracy\")\n",
    "plt.title(\"Training accuracy and Validation accuracy by epochs\");"
   ]
  },
  {
   "cell_type": "code",
   "execution_count": 62,
   "metadata": {
    "ExecuteTime": {
     "end_time": "2020-04-20T03:04:55.115044Z",
     "start_time": "2020-04-20T03:04:54.874853Z"
    }
   },
   "outputs": [
    {
     "name": "stdout",
     "output_type": "stream",
     "text": [
      "8400/8400 [==============================] - 0s 28us/step\n"
     ]
    }
   ],
   "source": [
    "test_accuracy = model_fc_r.evaluate(X_test, y_test)[1]"
   ]
  },
  {
   "cell_type": "code",
   "execution_count": 63,
   "metadata": {
    "ExecuteTime": {
     "end_time": "2020-04-20T03:04:55.121242Z",
     "start_time": "2020-04-20T03:04:55.116054Z"
    }
   },
   "outputs": [],
   "source": [
    "Summary_table  = Summary_table.append({\"model\": \"Opimized NN (3 HL, 128 nodes) with Dropout\", \"Test accuracy\": np.round(test_accuracy,3) }, ignore_index = True)"
   ]
  },
  {
   "cell_type": "code",
   "execution_count": 64,
   "metadata": {
    "ExecuteTime": {
     "end_time": "2020-04-20T03:04:55.147516Z",
     "start_time": "2020-04-20T03:04:55.123034Z"
    }
   },
   "outputs": [
    {
     "data": {
      "text/html": [
       "<div>\n",
       "<style scoped>\n",
       "    .dataframe tbody tr th:only-of-type {\n",
       "        vertical-align: middle;\n",
       "    }\n",
       "\n",
       "    .dataframe tbody tr th {\n",
       "        vertical-align: top;\n",
       "    }\n",
       "\n",
       "    .dataframe thead th {\n",
       "        text-align: right;\n",
       "    }\n",
       "</style>\n",
       "<table border=\"1\" class=\"dataframe\">\n",
       "  <thead>\n",
       "    <tr style=\"text-align: right;\">\n",
       "      <th></th>\n",
       "      <th>model</th>\n",
       "      <th>Test accuracy</th>\n",
       "    </tr>\n",
       "  </thead>\n",
       "  <tbody>\n",
       "    <tr>\n",
       "      <th>0</th>\n",
       "      <td>Logistic Regression</td>\n",
       "      <td>0.921</td>\n",
       "    </tr>\n",
       "    <tr>\n",
       "      <th>1</th>\n",
       "      <td>Shallow NN</td>\n",
       "      <td>0.894</td>\n",
       "    </tr>\n",
       "    <tr>\n",
       "      <th>2</th>\n",
       "      <td>NN 2 HL,5 nodes</td>\n",
       "      <td>0.863</td>\n",
       "    </tr>\n",
       "    <tr>\n",
       "      <th>3</th>\n",
       "      <td>NN 2 HL,16 nodes</td>\n",
       "      <td>0.940</td>\n",
       "    </tr>\n",
       "    <tr>\n",
       "      <th>4</th>\n",
       "      <td>Opimized NN (3 HL, 128 nodes)</td>\n",
       "      <td>0.970</td>\n",
       "    </tr>\n",
       "    <tr>\n",
       "      <th>5</th>\n",
       "      <td>Opimized NN (3 HL, 128 nodes) with Dropout</td>\n",
       "      <td>0.976</td>\n",
       "    </tr>\n",
       "  </tbody>\n",
       "</table>\n",
       "</div>"
      ],
      "text/plain": [
       "                                        model  Test accuracy\n",
       "0                         Logistic Regression          0.921\n",
       "1                                  Shallow NN          0.894\n",
       "2                             NN 2 HL,5 nodes          0.863\n",
       "3                            NN 2 HL,16 nodes          0.940\n",
       "4               Opimized NN (3 HL, 128 nodes)          0.970\n",
       "5  Opimized NN (3 HL, 128 nodes) with Dropout          0.976"
      ]
     },
     "execution_count": 64,
     "metadata": {},
     "output_type": "execute_result"
    }
   ],
   "source": [
    "Summary_table"
   ]
  },
  {
   "cell_type": "markdown",
   "metadata": {},
   "source": [
    "Observation: <br>\n",
    "\n",
    " We reduced the variance using regularization and the model generalizes beeter "
   ]
  },
  {
   "cell_type": "markdown",
   "metadata": {},
   "source": [
    "## Convolutional Neural Network \n",
    "CNNs are great for image detection for following reasons: \n",
    "- **Lesser number of parameters to train**: CNNs filters involve paramter sharing across the image\n",
    "- **Sparsity of connections**: Each output is connected to a only a few inputs in CNNs, unlike fully connected layer where every input is connected to the output\n",
    "- **Roboust to translation in variance**: CNNs are robust to translation in variance of the image. This generally happens when the image is roatated, shifted, cropped however the image label is same hence this proprety is desirable in image recognition "
   ]
  },
  {
   "cell_type": "markdown",
   "metadata": {},
   "source": [
    "Trying a model similar to the LeNet-5 architechture\n",
    "- Layer1: CONV layer filter size 3x3, stride 1, Maxpooling layer 2x2, Batch Normalizaton\n",
    "- Layer2: CONV layer filter size 3x3, stride 1, Maxpooling layer 2x2, Batch Normalizaton\n",
    "- Layer3: Fully connected layer 128 nodes with Dropout\n",
    "- Layer4: Fully connected layer 64 nodes with Dropout"
   ]
  },
  {
   "cell_type": "code",
   "execution_count": 65,
   "metadata": {
    "ExecuteTime": {
     "end_time": "2020-04-20T03:04:55.306132Z",
     "start_time": "2020-04-20T03:04:55.149542Z"
    }
   },
   "outputs": [],
   "source": [
    "model_cnn1 = Sequential()\n",
    "#Layer1\n",
    "model_cnn1.add(Conv2D(filters = 8, kernel_size = (3,3), input_shape = (28,28,1), name= \"conv0\"))\n",
    "model_cnn1.add(BatchNormalization(name = \"bn0\"))\n",
    "model_cnn1.add(Activation(\"relu\", name = \"ac0\"))\n",
    "model_cnn1.add(MaxPooling2D(pool_size = (2,2), name = \"mp0\"))\n",
    "#Layer2\n",
    "model_cnn1.add(Conv2D(filters = 16, kernel_size = (3,3), name = \"conv1\"))\n",
    "model_cnn1.add(BatchNormalization(name = \"bn1\"))\n",
    "model_cnn1.add(Activation(\"relu\", name=\"ac1\"))\n",
    "model_cnn1.add(MaxPooling2D(pool_size = (2,2), name = \"mp1\"))\n",
    "#Flatten Outputs\n",
    "model_cnn1.add(Flatten())\n",
    "#Layer3\n",
    "model_cnn1.add(Dense(128, name = \"fc0\"))\n",
    "model_cnn1.add(BatchNormalization(name = \"bn2\"))\n",
    "model_cnn1.add(Activation(\"relu\", name = \"ac2\"))\n",
    "model_cnn1.add(Dropout(0.2))\n",
    "#Layer4\n",
    "model_cnn1.add(Dense(64, name = \"fc1\"))\n",
    "model_cnn1.add(BatchNormalization(name = \"bn3\"))\n",
    "model_cnn1.add(Activation(\"relu\", name = \"ac3\"))\n",
    "model_cnn1.add(Dropout(0.2))\n",
    "#Output\n",
    "model_cnn1.add(Dense(10, name = \"output\", activation = \"softmax\"))"
   ]
  },
  {
   "cell_type": "code",
   "execution_count": 66,
   "metadata": {
    "ExecuteTime": {
     "end_time": "2020-04-20T03:04:55.313070Z",
     "start_time": "2020-04-20T03:04:55.307087Z"
    }
   },
   "outputs": [
    {
     "name": "stdout",
     "output_type": "stream",
     "text": [
      "Model: \"sequential_38\"\n",
      "_________________________________________________________________\n",
      "Layer (type)                 Output Shape              Param #   \n",
      "=================================================================\n",
      "conv0 (Conv2D)               (None, 26, 26, 8)         80        \n",
      "_________________________________________________________________\n",
      "bn0 (BatchNormalization)     (None, 26, 26, 8)         32        \n",
      "_________________________________________________________________\n",
      "ac0 (Activation)             (None, 26, 26, 8)         0         \n",
      "_________________________________________________________________\n",
      "mp0 (MaxPooling2D)           (None, 13, 13, 8)         0         \n",
      "_________________________________________________________________\n",
      "conv1 (Conv2D)               (None, 11, 11, 16)        1168      \n",
      "_________________________________________________________________\n",
      "bn1 (BatchNormalization)     (None, 11, 11, 16)        64        \n",
      "_________________________________________________________________\n",
      "ac1 (Activation)             (None, 11, 11, 16)        0         \n",
      "_________________________________________________________________\n",
      "mp1 (MaxPooling2D)           (None, 5, 5, 16)          0         \n",
      "_________________________________________________________________\n",
      "flatten_1 (Flatten)          (None, 400)               0         \n",
      "_________________________________________________________________\n",
      "fc0 (Dense)                  (None, 128)               51328     \n",
      "_________________________________________________________________\n",
      "bn2 (BatchNormalization)     (None, 128)               512       \n",
      "_________________________________________________________________\n",
      "ac2 (Activation)             (None, 128)               0         \n",
      "_________________________________________________________________\n",
      "dropout_4 (Dropout)          (None, 128)               0         \n",
      "_________________________________________________________________\n",
      "fc1 (Dense)                  (None, 64)                8256      \n",
      "_________________________________________________________________\n",
      "bn3 (BatchNormalization)     (None, 64)                256       \n",
      "_________________________________________________________________\n",
      "ac3 (Activation)             (None, 64)                0         \n",
      "_________________________________________________________________\n",
      "dropout_5 (Dropout)          (None, 64)                0         \n",
      "_________________________________________________________________\n",
      "output (Dense)               (None, 10)                650       \n",
      "=================================================================\n",
      "Total params: 62,346\n",
      "Trainable params: 61,914\n",
      "Non-trainable params: 432\n",
      "_________________________________________________________________\n"
     ]
    }
   ],
   "source": [
    "model_cnn1.summary()"
   ]
  },
  {
   "cell_type": "code",
   "execution_count": 67,
   "metadata": {
    "ExecuteTime": {
     "end_time": "2020-04-20T03:04:55.344061Z",
     "start_time": "2020-04-20T03:04:55.315065Z"
    }
   },
   "outputs": [],
   "source": [
    "model_cnn1.compile(optimizer = \"adam\", loss = \"categorical_crossentropy\",  metrics = [\"accuracy\"])"
   ]
  },
  {
   "cell_type": "code",
   "execution_count": 68,
   "metadata": {
    "ExecuteTime": {
     "end_time": "2020-04-20T03:09:17.163405Z",
     "start_time": "2020-04-20T03:04:55.344985Z"
    }
   },
   "outputs": [
    {
     "name": "stdout",
     "output_type": "stream",
     "text": [
      "Train on 26880 samples, validate on 6720 samples\n",
      "Epoch 1/100\n",
      "26880/26880 [==============================] - 9s 339us/step - loss: 0.3480 - accuracy: 0.9041 - val_loss: 0.0873 - val_accuracy: 0.9760\n",
      "Epoch 2/100\n",
      "26880/26880 [==============================] - 9s 325us/step - loss: 0.1172 - accuracy: 0.9672 - val_loss: 0.0651 - val_accuracy: 0.9801\n",
      "Epoch 3/100\n",
      "26880/26880 [==============================] - 9s 317us/step - loss: 0.0869 - accuracy: 0.9747 - val_loss: 0.0528 - val_accuracy: 0.9836\n",
      "Epoch 4/100\n",
      "26880/26880 [==============================] - 8s 311us/step - loss: 0.0730 - accuracy: 0.9776 - val_loss: 0.0522 - val_accuracy: 0.9830\n",
      "Epoch 5/100\n",
      "26880/26880 [==============================] - 8s 312us/step - loss: 0.0601 - accuracy: 0.9808 - val_loss: 0.0580 - val_accuracy: 0.9823\n",
      "Epoch 6/100\n",
      "26880/26880 [==============================] - 8s 313us/step - loss: 0.0552 - accuracy: 0.9827 - val_loss: 0.0542 - val_accuracy: 0.9833\n",
      "Epoch 7/100\n",
      "26880/26880 [==============================] - 9s 318us/step - loss: 0.0515 - accuracy: 0.9842 - val_loss: 0.0447 - val_accuracy: 0.9871\n",
      "Epoch 8/100\n",
      "26880/26880 [==============================] - 9s 319us/step - loss: 0.0460 - accuracy: 0.9860 - val_loss: 0.0396 - val_accuracy: 0.9868\n",
      "Epoch 9/100\n",
      "26880/26880 [==============================] - 8s 309us/step - loss: 0.0413 - accuracy: 0.9874 - val_loss: 0.0401 - val_accuracy: 0.9878\n",
      "Epoch 10/100\n",
      "26880/26880 [==============================] - 8s 315us/step - loss: 0.0394 - accuracy: 0.9872 - val_loss: 0.0412 - val_accuracy: 0.9887\n",
      "Epoch 11/100\n",
      "26880/26880 [==============================] - 8s 305us/step - loss: 0.0369 - accuracy: 0.9881 - val_loss: 0.0382 - val_accuracy: 0.9893\n",
      "Epoch 12/100\n",
      "26880/26880 [==============================] - 8s 305us/step - loss: 0.0327 - accuracy: 0.9894 - val_loss: 0.0418 - val_accuracy: 0.9884\n",
      "Epoch 13/100\n",
      "26880/26880 [==============================] - 8s 309us/step - loss: 0.0312 - accuracy: 0.9902 - val_loss: 0.0381 - val_accuracy: 0.9881\n",
      "Epoch 14/100\n",
      "26880/26880 [==============================] - 8s 308us/step - loss: 0.0265 - accuracy: 0.9916 - val_loss: 0.0372 - val_accuracy: 0.9890\n",
      "Epoch 15/100\n",
      "26880/26880 [==============================] - 8s 306us/step - loss: 0.0261 - accuracy: 0.9913 - val_loss: 0.0443 - val_accuracy: 0.9862\n",
      "Epoch 16/100\n",
      "26880/26880 [==============================] - 8s 310us/step - loss: 0.0260 - accuracy: 0.9916 - val_loss: 0.0406 - val_accuracy: 0.9896\n",
      "Epoch 17/100\n",
      "26880/26880 [==============================] - 8s 307us/step - loss: 0.0215 - accuracy: 0.9935 - val_loss: 0.0454 - val_accuracy: 0.9890\n",
      "Epoch 18/100\n",
      "26880/26880 [==============================] - 8s 309us/step - loss: 0.0265 - accuracy: 0.9916 - val_loss: 0.0385 - val_accuracy: 0.9902\n",
      "Epoch 19/100\n",
      "26880/26880 [==============================] - 8s 308us/step - loss: 0.0228 - accuracy: 0.9919 - val_loss: 0.0350 - val_accuracy: 0.9899\n",
      "Epoch 20/100\n",
      "26880/26880 [==============================] - 8s 308us/step - loss: 0.0203 - accuracy: 0.9928 - val_loss: 0.0344 - val_accuracy: 0.9903\n",
      "Epoch 21/100\n",
      "26880/26880 [==============================] - 8s 312us/step - loss: 0.0187 - accuracy: 0.9940 - val_loss: 0.0342 - val_accuracy: 0.9905\n",
      "Epoch 22/100\n",
      "26880/26880 [==============================] - 8s 307us/step - loss: 0.0193 - accuracy: 0.9935 - val_loss: 0.0372 - val_accuracy: 0.9903\n",
      "Epoch 23/100\n",
      "26880/26880 [==============================] - 8s 314us/step - loss: 0.0183 - accuracy: 0.9940 - val_loss: 0.0479 - val_accuracy: 0.9875\n",
      "Epoch 24/100\n",
      "26880/26880 [==============================] - 8s 313us/step - loss: 0.0188 - accuracy: 0.9936 - val_loss: 0.0450 - val_accuracy: 0.9875\n",
      "Epoch 25/100\n",
      "26880/26880 [==============================] - 9s 317us/step - loss: 0.0178 - accuracy: 0.9940 - val_loss: 0.0431 - val_accuracy: 0.9878\n",
      "Epoch 26/100\n",
      "26880/26880 [==============================] - 8s 308us/step - loss: 0.0196 - accuracy: 0.9939 - val_loss: 0.0397 - val_accuracy: 0.9902\n",
      "Epoch 27/100\n",
      "26880/26880 [==============================] - 8s 312us/step - loss: 0.0162 - accuracy: 0.9946 - val_loss: 0.0420 - val_accuracy: 0.9905\n",
      "Epoch 28/100\n",
      "26880/26880 [==============================] - 8s 311us/step - loss: 0.0143 - accuracy: 0.9953 - val_loss: 0.0460 - val_accuracy: 0.9874\n",
      "Epoch 29/100\n",
      "26880/26880 [==============================] - 9s 318us/step - loss: 0.0154 - accuracy: 0.9946 - val_loss: 0.0471 - val_accuracy: 0.9893\n",
      "Epoch 30/100\n",
      "26880/26880 [==============================] - 8s 315us/step - loss: 0.0157 - accuracy: 0.9947 - val_loss: 0.0431 - val_accuracy: 0.9887\n",
      "Epoch 31/100\n",
      "26880/26880 [==============================] - 9s 320us/step - loss: 0.0176 - accuracy: 0.9945 - val_loss: 0.0417 - val_accuracy: 0.9888\n"
     ]
    }
   ],
   "source": [
    "history = model_cnn1.fit(X_train_r, y_train, validation_split = 0.2, epochs = 100, callbacks = [early_stopping])"
   ]
  },
  {
   "cell_type": "code",
   "execution_count": 69,
   "metadata": {
    "ExecuteTime": {
     "end_time": "2020-04-20T03:09:17.289069Z",
     "start_time": "2020-04-20T03:09:17.164403Z"
    }
   },
   "outputs": [
    {
     "data": {
      "image/png": "[encoded data removed]",
      "text/plain": [
       "<Figure size 576x288 with 1 Axes>"
      ]
     },
     "metadata": {
      "needs_background": "light"
     },
     "output_type": "display_data"
    }
   ],
   "source": [
    "fig = plt.figure(figsize = (8,4))\n",
    "ax1= plt.plot(history.history[\"accuracy\"], label = \"training\")\n",
    "ax2 = plt.plot(history.history[\"val_accuracy\"], label = \"validation\")\n",
    "plt.legend(loc=\"upper left\")\n",
    "plt.xlabel(\"Epochs\")\n",
    "plt.ylim(0.9,1)\n",
    "plt.ylabel(\"Accuracy\")\n",
    "plt.title(\"Training accuracy and Validation accuracy by epochs\");"
   ]
  },
  {
   "cell_type": "code",
   "execution_count": 70,
   "metadata": {
    "ExecuteTime": {
     "end_time": "2020-04-20T03:09:18.114992Z",
     "start_time": "2020-04-20T03:09:17.290113Z"
    }
   },
   "outputs": [
    {
     "name": "stdout",
     "output_type": "stream",
     "text": [
      "8400/8400 [==============================] - 1s 98us/step\n"
     ]
    }
   ],
   "source": [
    "test_accuracy = model_cnn1.evaluate(X_test_r, y_test)[1]"
   ]
  },
  {
   "cell_type": "code",
   "execution_count": 71,
   "metadata": {
    "ExecuteTime": {
     "end_time": "2020-04-20T03:09:18.121974Z",
     "start_time": "2020-04-20T03:09:18.115991Z"
    }
   },
   "outputs": [],
   "source": [
    "Summary_table  = Summary_table.append({\"model\": \"CNN architecture\", \"Test accuracy\": np.round(test_accuracy,3) }, ignore_index = True)"
   ]
  },
  {
   "cell_type": "code",
   "execution_count": 72,
   "metadata": {
    "ExecuteTime": {
     "end_time": "2020-04-20T03:09:18.142021Z",
     "start_time": "2020-04-20T03:09:18.122974Z"
    }
   },
   "outputs": [
    {
     "data": {
      "text/html": [
       "<div>\n",
       "<style scoped>\n",
       "    .dataframe tbody tr th:only-of-type {\n",
       "        vertical-align: middle;\n",
       "    }\n",
       "\n",
       "    .dataframe tbody tr th {\n",
       "        vertical-align: top;\n",
       "    }\n",
       "\n",
       "    .dataframe thead th {\n",
       "        text-align: right;\n",
       "    }\n",
       "</style>\n",
       "<table border=\"1\" class=\"dataframe\">\n",
       "  <thead>\n",
       "    <tr style=\"text-align: right;\">\n",
       "      <th></th>\n",
       "      <th>model</th>\n",
       "      <th>Test accuracy</th>\n",
       "    </tr>\n",
       "  </thead>\n",
       "  <tbody>\n",
       "    <tr>\n",
       "      <th>0</th>\n",
       "      <td>Logistic Regression</td>\n",
       "      <td>0.921</td>\n",
       "    </tr>\n",
       "    <tr>\n",
       "      <th>1</th>\n",
       "      <td>Shallow NN</td>\n",
       "      <td>0.894</td>\n",
       "    </tr>\n",
       "    <tr>\n",
       "      <th>2</th>\n",
       "      <td>NN 2 HL,5 nodes</td>\n",
       "      <td>0.863</td>\n",
       "    </tr>\n",
       "    <tr>\n",
       "      <th>3</th>\n",
       "      <td>NN 2 HL,16 nodes</td>\n",
       "      <td>0.940</td>\n",
       "    </tr>\n",
       "    <tr>\n",
       "      <th>4</th>\n",
       "      <td>Opimized NN (3 HL, 128 nodes)</td>\n",
       "      <td>0.970</td>\n",
       "    </tr>\n",
       "    <tr>\n",
       "      <th>5</th>\n",
       "      <td>Opimized NN (3 HL, 128 nodes) with Dropout</td>\n",
       "      <td>0.976</td>\n",
       "    </tr>\n",
       "    <tr>\n",
       "      <th>6</th>\n",
       "      <td>CNN architecture</td>\n",
       "      <td>0.988</td>\n",
       "    </tr>\n",
       "  </tbody>\n",
       "</table>\n",
       "</div>"
      ],
      "text/plain": [
       "                                        model  Test accuracy\n",
       "0                         Logistic Regression          0.921\n",
       "1                                  Shallow NN          0.894\n",
       "2                             NN 2 HL,5 nodes          0.863\n",
       "3                            NN 2 HL,16 nodes          0.940\n",
       "4               Opimized NN (3 HL, 128 nodes)          0.970\n",
       "5  Opimized NN (3 HL, 128 nodes) with Dropout          0.976\n",
       "6                            CNN architecture          0.988"
      ]
     },
     "execution_count": 72,
     "metadata": {},
     "output_type": "execute_result"
    }
   ],
   "source": [
    "Summary_table "
   ]
  },
  {
   "cell_type": "markdown",
   "metadata": {},
   "source": [
    "# Submission on Test Data\n",
    "\n",
    "Training the network on the whole data to submit prediction"
   ]
  },
  {
   "cell_type": "code",
   "execution_count": 83,
   "metadata": {
    "ExecuteTime": {
     "end_time": "2020-04-20T03:15:32.883678Z",
     "start_time": "2020-04-20T03:15:32.793876Z"
    }
   },
   "outputs": [],
   "source": [
    "X_train, y_train = digits_train.iloc[:,1:], digits_train[\"label\"]\n",
    "X_train = X_train / 255\n",
    "X_test = digits_test\n",
    "X_test = X_test / 255"
   ]
  },
  {
   "cell_type": "code",
   "execution_count": 84,
   "metadata": {
    "ExecuteTime": {
     "end_time": "2020-04-20T03:15:36.119515Z",
     "start_time": "2020-04-20T03:15:36.079539Z"
    }
   },
   "outputs": [],
   "source": [
    "y_train = to_categorical(y_train, num_classes = 10)\n",
    "y_test = to_categorical(y_test, num_classes = 10)\n",
    "X_train_r, X_test_r = X_train.values.reshape(-1,28,28,1), X_test.values.reshape(-1,28,28,1)"
   ]
  },
  {
   "cell_type": "code",
   "execution_count": 85,
   "metadata": {
    "ExecuteTime": {
     "end_time": "2020-04-20T03:15:37.006868Z",
     "start_time": "2020-04-20T03:15:37.001881Z"
    }
   },
   "outputs": [
    {
     "data": {
      "text/plain": [
       "(42000, 28, 28, 1)"
      ]
     },
     "execution_count": 85,
     "metadata": {},
     "output_type": "execute_result"
    }
   ],
   "source": [
    "X_train_r.shape"
   ]
  },
  {
   "cell_type": "code",
   "execution_count": 86,
   "metadata": {
    "ExecuteTime": {
     "end_time": "2020-04-20T03:15:37.958040Z",
     "start_time": "2020-04-20T03:15:37.953077Z"
    }
   },
   "outputs": [
    {
     "data": {
      "text/plain": [
       "(28000, 28, 28, 1)"
      ]
     },
     "execution_count": 86,
     "metadata": {},
     "output_type": "execute_result"
    }
   ],
   "source": [
    "X_test_r.shape"
   ]
  },
  {
   "cell_type": "code",
   "execution_count": 93,
   "metadata": {
    "ExecuteTime": {
     "end_time": "2020-04-20T03:21:46.952796Z",
     "start_time": "2020-04-20T03:19:27.460449Z"
    }
   },
   "outputs": [
    {
     "name": "stdout",
     "output_type": "stream",
     "text": [
      "Train on 37800 samples, validate on 4200 samples\n",
      "Epoch 1/100\n",
      "37800/37800 [==============================] - 13s 355us/step - loss: 0.0214 - accuracy: 0.9937 - val_loss: 0.0049 - val_accuracy: 0.9981\n",
      "Epoch 2/100\n",
      "37800/37800 [==============================] - 11s 301us/step - loss: 0.0221 - accuracy: 0.9934 - val_loss: 0.0066 - val_accuracy: 0.9983\n",
      "Epoch 3/100\n",
      "37800/37800 [==============================] - 11s 301us/step - loss: 0.0191 - accuracy: 0.9941 - val_loss: 0.0062 - val_accuracy: 0.9979\n",
      "Epoch 4/100\n",
      "37800/37800 [==============================] - 11s 301us/step - loss: 0.0210 - accuracy: 0.9937 - val_loss: 0.0086 - val_accuracy: 0.9971\n",
      "Epoch 5/100\n",
      "37800/37800 [==============================] - 12s 311us/step - loss: 0.0189 - accuracy: 0.9942 - val_loss: 0.0089 - val_accuracy: 0.9969\n",
      "Epoch 6/100\n",
      "37800/37800 [==============================] - 12s 307us/step - loss: 0.0186 - accuracy: 0.9943 - val_loss: 0.0118 - val_accuracy: 0.9957\n",
      "Epoch 7/100\n",
      "37800/37800 [==============================] - 11s 302us/step - loss: 0.0168 - accuracy: 0.9945 - val_loss: 0.0088 - val_accuracy: 0.9969\n",
      "Epoch 8/100\n",
      "37800/37800 [==============================] - 11s 299us/step - loss: 0.0157 - accuracy: 0.9949 - val_loss: 0.0113 - val_accuracy: 0.9974\n",
      "Epoch 9/100\n",
      "37800/37800 [==============================] - 11s 303us/step - loss: 0.0144 - accuracy: 0.9954 - val_loss: 0.0168 - val_accuracy: 0.9948\n",
      "Epoch 10/100\n",
      "37800/37800 [==============================] - 12s 311us/step - loss: 0.0159 - accuracy: 0.9949 - val_loss: 0.0124 - val_accuracy: 0.9962\n",
      "Epoch 11/100\n",
      "37800/37800 [==============================] - 11s 299us/step - loss: 0.0149 - accuracy: 0.9956 - val_loss: 0.0168 - val_accuracy: 0.9955\n",
      "Epoch 12/100\n",
      "37800/37800 [==============================] - 11s 299us/step - loss: 0.0138 - accuracy: 0.9955 - val_loss: 0.0097 - val_accuracy: 0.9967\n"
     ]
    },
    {
     "data": {
      "text/plain": [
       "<keras.callbacks.callbacks.History at 0x24fb9bb2dc8>"
      ]
     },
     "execution_count": 93,
     "metadata": {},
     "output_type": "execute_result"
    }
   ],
   "source": [
    "model_cnn1.fit(X_train_r, y_train, epochs = 100, validation_split= 0.1, callbacks = [early_stopping])"
   ]
  },
  {
   "cell_type": "code",
   "execution_count": 95,
   "metadata": {
    "ExecuteTime": {
     "end_time": "2020-04-20T03:22:01.798632Z",
     "start_time": "2020-04-20T03:21:59.246570Z"
    }
   },
   "outputs": [],
   "source": [
    "predictions = model_cnn1.predict(X_test_r)\n",
    "predictions = np.argmax(predictions, axis = 1)"
   ]
  },
  {
   "cell_type": "code",
   "execution_count": 101,
   "metadata": {
    "ExecuteTime": {
     "end_time": "2020-04-20T03:25:03.415726Z",
     "start_time": "2020-04-20T03:25:03.408746Z"
    }
   },
   "outputs": [],
   "source": [
    "submission = pd.DataFrame({\"ImageId\":np.arange(len(predictions))+1, \"Label\":predictions}) "
   ]
  },
  {
   "cell_type": "code",
   "execution_count": 102,
   "metadata": {
    "ExecuteTime": {
     "end_time": "2020-04-20T03:25:16.934927Z",
     "start_time": "2020-04-20T03:25:16.893028Z"
    }
   },
   "outputs": [],
   "source": [
    "submission.to_csv(\"submission.csv\", index = False)"
   ]
  },
  {
   "cell_type": "markdown",
   "metadata": {},
   "source": [
    "# Future steps\n",
    "- Further optimization of hyperparameters of CNN\n",
    "- Larger architechtures\n",
    "- Try other regularization techniques like l2\n",
    "- Implementation of ResNets\n",
    "- Data Augmentation \n",
    "- Ensemble of different architectures and combining results"
   ]
  },
  {
   "cell_type": "markdown",
   "metadata": {},
   "source": [
    "# Credits \n",
    "- Andrew NG (Coursera Deep Learning Specialization)\n",
    "- Ethan Swan (Lead Data Scientist at 84.51)\n",
    "- LeNet-5 (http://yann.lecun.com/exdb/publis/pdf/lecun-01a.pdf) \n",
    "- François Chollet"
   ]
  }
 ],
 "metadata": {
  "kernelspec": {
   "display_name": "Python 3",
   "language": "python",
   "name": "python3"
  },
  "language_info": {
   "codemirror_mode": {
    "name": "ipython",
    "version": 3
   },
   "file_extension": ".py",
   "mimetype": "text/x-python",
   "name": "python",
   "nbconvert_exporter": "python",
   "pygments_lexer": "ipython3",
   "version": "3.7.6"
  },
  "toc": {
   "base_numbering": 1,
   "nav_menu": {},
   "number_sections": true,
   "sideBar": true,
   "skip_h1_title": false,
   "title_cell": "Table of Contents",
   "title_sidebar": "Contents",
   "toc_cell": false,
   "toc_position": {},
   "toc_section_display": true,
   "toc_window_display": true
  }
 },
 "nbformat": 4,
 "nbformat_minor": 4
}
