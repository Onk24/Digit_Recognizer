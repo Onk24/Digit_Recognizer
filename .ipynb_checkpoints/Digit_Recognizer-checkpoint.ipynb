{
 "cells": [
  {
   "cell_type": "markdown",
   "metadata": {},
   "source": [
    "# Importing Data"
   ]
  },
  {
   "cell_type": "code",
   "execution_count": 184,
   "metadata": {
    "ExecuteTime": {
     "end_time": "2020-04-18T21:49:12.990847Z",
     "start_time": "2020-04-18T21:49:12.984690Z"
    }
   },
   "outputs": [],
   "source": [
    "import pandas as pd\n",
    "import numpy as np\n",
    "import keras\n",
    "from matplotlib import pyplot as plt\n",
    "import seaborn as sns\n",
    "from sklearn.model_selection import train_test_split\n",
    "from keras.utils import to_categorical\n",
    "from keras.models import Sequential\n",
    "from keras.layers import Dense\n",
    "from keras.callbacks import EarlyStopping\n",
    "from sklearn.linear_model import LogisticRegression\n",
    "from sklearn.model_selection import cross_val_score;"
   ]
  },
  {
   "cell_type": "code",
   "execution_count": 2,
   "metadata": {
    "ExecuteTime": {
     "end_time": "2020-04-18T16:17:40.840881Z",
     "start_time": "2020-04-18T16:17:38.181855Z"
    }
   },
   "outputs": [],
   "source": [
    "digits_train = pd.read_csv(\"train.csv\")\n",
    "digits_test = pd.read_csv(\"test.csv\")"
   ]
  },
  {
   "cell_type": "code",
   "execution_count": 3,
   "metadata": {
    "ExecuteTime": {
     "end_time": "2020-04-18T16:17:40.864815Z",
     "start_time": "2020-04-18T16:17:40.841835Z"
    }
   },
   "outputs": [
    {
     "data": {
      "text/html": [
       "<div>\n",
       "<style scoped>\n",
       "    .dataframe tbody tr th:only-of-type {\n",
       "        vertical-align: middle;\n",
       "    }\n",
       "\n",
       "    .dataframe tbody tr th {\n",
       "        vertical-align: top;\n",
       "    }\n",
       "\n",
       "    .dataframe thead th {\n",
       "        text-align: right;\n",
       "    }\n",
       "</style>\n",
       "<table border=\"1\" class=\"dataframe\">\n",
       "  <thead>\n",
       "    <tr style=\"text-align: right;\">\n",
       "      <th></th>\n",
       "      <th>label</th>\n",
       "      <th>pixel0</th>\n",
       "      <th>pixel1</th>\n",
       "      <th>pixel2</th>\n",
       "      <th>pixel3</th>\n",
       "      <th>pixel4</th>\n",
       "      <th>pixel5</th>\n",
       "      <th>pixel6</th>\n",
       "      <th>pixel7</th>\n",
       "      <th>pixel8</th>\n",
       "      <th>...</th>\n",
       "      <th>pixel774</th>\n",
       "      <th>pixel775</th>\n",
       "      <th>pixel776</th>\n",
       "      <th>pixel777</th>\n",
       "      <th>pixel778</th>\n",
       "      <th>pixel779</th>\n",
       "      <th>pixel780</th>\n",
       "      <th>pixel781</th>\n",
       "      <th>pixel782</th>\n",
       "      <th>pixel783</th>\n",
       "    </tr>\n",
       "  </thead>\n",
       "  <tbody>\n",
       "    <tr>\n",
       "      <th>0</th>\n",
       "      <td>1</td>\n",
       "      <td>0</td>\n",
       "      <td>0</td>\n",
       "      <td>0</td>\n",
       "      <td>0</td>\n",
       "      <td>0</td>\n",
       "      <td>0</td>\n",
       "      <td>0</td>\n",
       "      <td>0</td>\n",
       "      <td>0</td>\n",
       "      <td>...</td>\n",
       "      <td>0</td>\n",
       "      <td>0</td>\n",
       "      <td>0</td>\n",
       "      <td>0</td>\n",
       "      <td>0</td>\n",
       "      <td>0</td>\n",
       "      <td>0</td>\n",
       "      <td>0</td>\n",
       "      <td>0</td>\n",
       "      <td>0</td>\n",
       "    </tr>\n",
       "    <tr>\n",
       "      <th>1</th>\n",
       "      <td>0</td>\n",
       "      <td>0</td>\n",
       "      <td>0</td>\n",
       "      <td>0</td>\n",
       "      <td>0</td>\n",
       "      <td>0</td>\n",
       "      <td>0</td>\n",
       "      <td>0</td>\n",
       "      <td>0</td>\n",
       "      <td>0</td>\n",
       "      <td>...</td>\n",
       "      <td>0</td>\n",
       "      <td>0</td>\n",
       "      <td>0</td>\n",
       "      <td>0</td>\n",
       "      <td>0</td>\n",
       "      <td>0</td>\n",
       "      <td>0</td>\n",
       "      <td>0</td>\n",
       "      <td>0</td>\n",
       "      <td>0</td>\n",
       "    </tr>\n",
       "    <tr>\n",
       "      <th>2</th>\n",
       "      <td>1</td>\n",
       "      <td>0</td>\n",
       "      <td>0</td>\n",
       "      <td>0</td>\n",
       "      <td>0</td>\n",
       "      <td>0</td>\n",
       "      <td>0</td>\n",
       "      <td>0</td>\n",
       "      <td>0</td>\n",
       "      <td>0</td>\n",
       "      <td>...</td>\n",
       "      <td>0</td>\n",
       "      <td>0</td>\n",
       "      <td>0</td>\n",
       "      <td>0</td>\n",
       "      <td>0</td>\n",
       "      <td>0</td>\n",
       "      <td>0</td>\n",
       "      <td>0</td>\n",
       "      <td>0</td>\n",
       "      <td>0</td>\n",
       "    </tr>\n",
       "    <tr>\n",
       "      <th>3</th>\n",
       "      <td>4</td>\n",
       "      <td>0</td>\n",
       "      <td>0</td>\n",
       "      <td>0</td>\n",
       "      <td>0</td>\n",
       "      <td>0</td>\n",
       "      <td>0</td>\n",
       "      <td>0</td>\n",
       "      <td>0</td>\n",
       "      <td>0</td>\n",
       "      <td>...</td>\n",
       "      <td>0</td>\n",
       "      <td>0</td>\n",
       "      <td>0</td>\n",
       "      <td>0</td>\n",
       "      <td>0</td>\n",
       "      <td>0</td>\n",
       "      <td>0</td>\n",
       "      <td>0</td>\n",
       "      <td>0</td>\n",
       "      <td>0</td>\n",
       "    </tr>\n",
       "    <tr>\n",
       "      <th>4</th>\n",
       "      <td>0</td>\n",
       "      <td>0</td>\n",
       "      <td>0</td>\n",
       "      <td>0</td>\n",
       "      <td>0</td>\n",
       "      <td>0</td>\n",
       "      <td>0</td>\n",
       "      <td>0</td>\n",
       "      <td>0</td>\n",
       "      <td>0</td>\n",
       "      <td>...</td>\n",
       "      <td>0</td>\n",
       "      <td>0</td>\n",
       "      <td>0</td>\n",
       "      <td>0</td>\n",
       "      <td>0</td>\n",
       "      <td>0</td>\n",
       "      <td>0</td>\n",
       "      <td>0</td>\n",
       "      <td>0</td>\n",
       "      <td>0</td>\n",
       "    </tr>\n",
       "  </tbody>\n",
       "</table>\n",
       "<p>5 rows × 785 columns</p>\n",
       "</div>"
      ],
      "text/plain": [
       "   label  pixel0  pixel1  pixel2  pixel3  pixel4  pixel5  pixel6  pixel7  \\\n",
       "0      1       0       0       0       0       0       0       0       0   \n",
       "1      0       0       0       0       0       0       0       0       0   \n",
       "2      1       0       0       0       0       0       0       0       0   \n",
       "3      4       0       0       0       0       0       0       0       0   \n",
       "4      0       0       0       0       0       0       0       0       0   \n",
       "\n",
       "   pixel8  ...  pixel774  pixel775  pixel776  pixel777  pixel778  pixel779  \\\n",
       "0       0  ...         0         0         0         0         0         0   \n",
       "1       0  ...         0         0         0         0         0         0   \n",
       "2       0  ...         0         0         0         0         0         0   \n",
       "3       0  ...         0         0         0         0         0         0   \n",
       "4       0  ...         0         0         0         0         0         0   \n",
       "\n",
       "   pixel780  pixel781  pixel782  pixel783  \n",
       "0         0         0         0         0  \n",
       "1         0         0         0         0  \n",
       "2         0         0         0         0  \n",
       "3         0         0         0         0  \n",
       "4         0         0         0         0  \n",
       "\n",
       "[5 rows x 785 columns]"
      ]
     },
     "execution_count": 3,
     "metadata": {},
     "output_type": "execute_result"
    }
   ],
   "source": [
    "digits_train.head()"
   ]
  },
  {
   "cell_type": "markdown",
   "metadata": {},
   "source": [
    "# Explorarary Data Analysis"
   ]
  },
  {
   "cell_type": "markdown",
   "metadata": {},
   "source": [
    "## Structure of Data"
   ]
  },
  {
   "cell_type": "code",
   "execution_count": 74,
   "metadata": {
    "ExecuteTime": {
     "end_time": "2020-04-18T17:47:47.342306Z",
     "start_time": "2020-04-18T17:47:47.331352Z"
    }
   },
   "outputs": [
    {
     "data": {
      "text/plain": [
       "(42000, 785)"
      ]
     },
     "execution_count": 74,
     "metadata": {},
     "output_type": "execute_result"
    }
   ],
   "source": [
    "digits_train.shape"
   ]
  },
  {
   "cell_type": "markdown",
   "metadata": {},
   "source": [
    "Training dataset:\n",
    "-  28x28 image in 784 columns and 1 label\n",
    "- 42000 images"
   ]
  },
  {
   "cell_type": "code",
   "execution_count": 7,
   "metadata": {
    "ExecuteTime": {
     "end_time": "2020-04-18T16:53:03.650107Z",
     "start_time": "2020-04-18T16:53:03.646113Z"
    }
   },
   "outputs": [
    {
     "data": {
      "text/plain": [
       "(28000, 784)"
      ]
     },
     "execution_count": 7,
     "metadata": {},
     "output_type": "execute_result"
    }
   ],
   "source": [
    "digits_test.shape"
   ]
  },
  {
   "cell_type": "markdown",
   "metadata": {
    "ExecuteTime": {
     "end_time": "2020-04-18T16:53:34.356086Z",
     "start_time": "2020-04-18T16:53:34.352115Z"
    }
   },
   "source": [
    "Test dataset:\n",
    "- 28x28 image in 784 columns\n",
    "- 28000 images"
   ]
  },
  {
   "cell_type": "code",
   "execution_count": 81,
   "metadata": {
    "ExecuteTime": {
     "end_time": "2020-04-18T17:52:10.302275Z",
     "start_time": "2020-04-18T17:52:10.296673Z"
    }
   },
   "outputs": [],
   "source": [
    "X_test = digits_test"
   ]
  },
  {
   "cell_type": "code",
   "execution_count": 110,
   "metadata": {
    "ExecuteTime": {
     "end_time": "2020-04-18T20:52:38.783646Z",
     "start_time": "2020-04-18T20:52:38.775194Z"
    }
   },
   "outputs": [],
   "source": [
    "X_train, y_train = digits_train.iloc[:,1:], digits_train[\"label\"]"
   ]
  },
  {
   "cell_type": "markdown",
   "metadata": {},
   "source": [
    "## Null values"
   ]
  },
  {
   "cell_type": "code",
   "execution_count": 111,
   "metadata": {
    "ExecuteTime": {
     "end_time": "2020-04-18T20:52:39.849140Z",
     "start_time": "2020-04-18T20:52:39.706765Z"
    }
   },
   "outputs": [
    {
     "data": {
      "text/plain": [
       "count    785.0\n",
       "mean       0.0\n",
       "std        0.0\n",
       "min        0.0\n",
       "25%        0.0\n",
       "50%        0.0\n",
       "75%        0.0\n",
       "max        0.0\n",
       "dtype: float64"
      ]
     },
     "execution_count": 111,
     "metadata": {},
     "output_type": "execute_result"
    }
   ],
   "source": [
    "digits_train.isna().sum().describe()"
   ]
  },
  {
   "cell_type": "markdown",
   "metadata": {},
   "source": [
    "There are no null values"
   ]
  },
  {
   "cell_type": "markdown",
   "metadata": {},
   "source": [
    "## Visualize the images"
   ]
  },
  {
   "cell_type": "code",
   "execution_count": 112,
   "metadata": {
    "ExecuteTime": {
     "end_time": "2020-04-18T20:52:41.422489Z",
     "start_time": "2020-04-18T20:52:40.761256Z"
    }
   },
   "outputs": [
    {
     "data": {
      "image/png": "[encoded data removed]",
      "text/plain": [
       "<Figure size 1080x360 with 3 Axes>"
      ]
     },
     "metadata": {
      "needs_background": "light"
     },
     "output_type": "display_data"
    }
   ],
   "source": [
    "#Let's check how few images look like\n",
    "fig, ax = plt.subplots(1,3, figsize = (15,5))\n",
    "ax[0].imshow(np.array(X_train.iloc[0]).reshape(28,28))\n",
    "ax[1].imshow(np.array(X_train.iloc[1]).reshape(28,28))\n",
    "ax[2].imshow(np.array(X_train.iloc[3]).reshape(28,28));"
   ]
  },
  {
   "cell_type": "markdown",
   "metadata": {},
   "source": [
    "## Distribution of Image labels"
   ]
  },
  {
   "cell_type": "code",
   "execution_count": 113,
   "metadata": {
    "ExecuteTime": {
     "end_time": "2020-04-18T20:52:41.644435Z",
     "start_time": "2020-04-18T20:52:41.625346Z"
    }
   },
   "outputs": [
    {
     "data": {
      "text/html": [
       "<div>\n",
       "<style scoped>\n",
       "    .dataframe tbody tr th:only-of-type {\n",
       "        vertical-align: middle;\n",
       "    }\n",
       "\n",
       "    .dataframe tbody tr th {\n",
       "        vertical-align: top;\n",
       "    }\n",
       "\n",
       "    .dataframe thead th {\n",
       "        text-align: right;\n",
       "    }\n",
       "</style>\n",
       "<table border=\"1\" class=\"dataframe\">\n",
       "  <thead>\n",
       "    <tr style=\"text-align: right;\">\n",
       "      <th></th>\n",
       "      <th>label</th>\n",
       "    </tr>\n",
       "    <tr>\n",
       "      <th>label</th>\n",
       "      <th></th>\n",
       "    </tr>\n",
       "  </thead>\n",
       "  <tbody>\n",
       "    <tr>\n",
       "      <th>0</th>\n",
       "      <td>4132</td>\n",
       "    </tr>\n",
       "    <tr>\n",
       "      <th>1</th>\n",
       "      <td>4684</td>\n",
       "    </tr>\n",
       "    <tr>\n",
       "      <th>2</th>\n",
       "      <td>4177</td>\n",
       "    </tr>\n",
       "    <tr>\n",
       "      <th>3</th>\n",
       "      <td>4351</td>\n",
       "    </tr>\n",
       "    <tr>\n",
       "      <th>4</th>\n",
       "      <td>4072</td>\n",
       "    </tr>\n",
       "    <tr>\n",
       "      <th>5</th>\n",
       "      <td>3795</td>\n",
       "    </tr>\n",
       "    <tr>\n",
       "      <th>6</th>\n",
       "      <td>4137</td>\n",
       "    </tr>\n",
       "    <tr>\n",
       "      <th>7</th>\n",
       "      <td>4401</td>\n",
       "    </tr>\n",
       "    <tr>\n",
       "      <th>8</th>\n",
       "      <td>4063</td>\n",
       "    </tr>\n",
       "    <tr>\n",
       "      <th>9</th>\n",
       "      <td>4188</td>\n",
       "    </tr>\n",
       "  </tbody>\n",
       "</table>\n",
       "</div>"
      ],
      "text/plain": [
       "       label\n",
       "label       \n",
       "0       4132\n",
       "1       4684\n",
       "2       4177\n",
       "3       4351\n",
       "4       4072\n",
       "5       3795\n",
       "6       4137\n",
       "7       4401\n",
       "8       4063\n",
       "9       4188"
      ]
     },
     "execution_count": 113,
     "metadata": {},
     "output_type": "execute_result"
    }
   ],
   "source": [
    "y_counts = y_train.value_counts(sort = True, normalize = True)\n",
    "digits_train.groupby(\"label\").agg({\"label\":\"count\"})"
   ]
  },
  {
   "cell_type": "code",
   "execution_count": 114,
   "metadata": {
    "ExecuteTime": {
     "end_time": "2020-04-18T20:52:42.678723Z",
     "start_time": "2020-04-18T20:52:42.341365Z"
    }
   },
   "outputs": [
    {
     "data": {
      "image/png": "[encoded data removed]",
      "text/plain": [
       "<Figure size 432x288 with 1 Axes>"
      ]
     },
     "metadata": {
      "needs_background": "light"
     },
     "output_type": "display_data"
    }
   ],
   "source": [
    "plt.figure(figsize = (6,4))\n",
    "ax = sns.barplot(x=y_counts.index, y = y_counts.values)\n",
    "ax.set_title(\"Distribution of labels\")\n",
    "ax.set_ylabel(\"Proportion of the label\")\n",
    "ax.set_xlabel(\"Labels\");"
   ]
  },
  {
   "cell_type": "markdown",
   "metadata": {},
   "source": [
    "We observe the labels are fairly evenly distributed"
   ]
  },
  {
   "cell_type": "markdown",
   "metadata": {},
   "source": [
    "Divide the data into train and validation sets before modeling"
   ]
  },
  {
   "cell_type": "markdown",
   "metadata": {},
   "source": [
    "# Data Engineering / Wrangling"
   ]
  },
  {
   "cell_type": "markdown",
   "metadata": {
    "ExecuteTime": {
     "end_time": "2020-04-18T17:35:39.019424Z",
     "start_time": "2020-04-18T17:35:38.987819Z"
    }
   },
   "source": [
    "## Normalizing\n",
    "Neural networks converge faster for normalized data. The data has max 255 represeting the brightness of the image"
   ]
  },
  {
   "cell_type": "code",
   "execution_count": 115,
   "metadata": {
    "ExecuteTime": {
     "end_time": "2020-04-18T20:52:45.390092Z",
     "start_time": "2020-04-18T20:52:45.256489Z"
    }
   },
   "outputs": [],
   "source": [
    "X_train = X_train / 255\n",
    "X_test = X_test / 255"
   ]
  },
  {
   "cell_type": "markdown",
   "metadata": {},
   "source": [
    "## Converting labels to categorical outputs"
   ]
  },
  {
   "cell_type": "code",
   "execution_count": 116,
   "metadata": {
    "ExecuteTime": {
     "end_time": "2020-04-18T20:52:47.752314Z",
     "start_time": "2020-04-18T20:52:47.744509Z"
    }
   },
   "outputs": [],
   "source": [
    "y_train = to_categorical(y_train, num_classes = 10)"
   ]
  },
  {
   "cell_type": "markdown",
   "metadata": {},
   "source": [
    "## Splitting the training data\n",
    "- training set\n",
    "- test set\n",
    "\n",
    "We do not have labels for the test set provided on Kaggle. Hence, we test on them later"
   ]
  },
  {
   "cell_type": "code",
   "execution_count": 130,
   "metadata": {
    "ExecuteTime": {
     "end_time": "2020-04-18T21:03:32.244926Z",
     "start_time": "2020-04-18T21:03:31.883015Z"
    }
   },
   "outputs": [],
   "source": [
    "X_train, X_test, y_train, y_test = train_test_split(X_train, y_train, test_size = 0.2)"
   ]
  },
  {
   "cell_type": "markdown",
   "metadata": {},
   "source": [
    "## Reshaping data for use in CNN\n",
    "- Length x width = 28X28\n",
    "- Channel = 1"
   ]
  },
  {
   "cell_type": "code",
   "execution_count": 180,
   "metadata": {
    "ExecuteTime": {
     "end_time": "2020-04-18T21:47:12.020481Z",
     "start_time": "2020-04-18T21:47:12.014468Z"
    }
   },
   "outputs": [],
   "source": [
    "X_train_r, X_test_r = X_train.values.reshape(-1,28,28,1), X_test.values.reshape(-1,28,28,1)"
   ]
  },
  {
   "cell_type": "markdown",
   "metadata": {
    "ExecuteTime": {
     "end_time": "2020-04-18T17:27:33.338807Z",
     "start_time": "2020-04-18T17:27:33.331839Z"
    }
   },
   "source": [
    "# Modeling"
   ]
  },
  {
   "cell_type": "code",
   "execution_count": 185,
   "metadata": {
    "ExecuteTime": {
     "end_time": "2020-04-18T21:50:19.536019Z",
     "start_time": "2020-04-18T21:50:19.522218Z"
    }
   },
   "outputs": [],
   "source": [
    "Summary_table = pd.DataFrame(columns = [\"model\", \"Test accuracy\"])"
   ]
  },
  {
   "cell_type": "markdown",
   "metadata": {},
   "source": [
    "## Logistic Regression\n",
    "Baseline model for comparison "
   ]
  },
  {
   "cell_type": "code",
   "execution_count": 188,
   "metadata": {
    "ExecuteTime": {
     "end_time": "2020-04-18T21:53:43.641985Z",
     "start_time": "2020-04-18T21:53:43.637996Z"
    }
   },
   "outputs": [],
   "source": [
    "lr = LogisticRegression(max_iter = 1000)"
   ]
  },
  {
   "cell_type": "code",
   "execution_count": 189,
   "metadata": {
    "ExecuteTime": {
     "end_time": "2020-04-18T21:54:23.135519Z",
     "start_time": "2020-04-18T21:53:43.920880Z"
    }
   },
   "outputs": [
    {
     "data": {
      "text/plain": [
       "LogisticRegression(C=1.0, class_weight=None, dual=False, fit_intercept=True,\n",
       "                   intercept_scaling=1, l1_ratio=None, max_iter=1000,\n",
       "                   multi_class='auto', n_jobs=None, penalty='l2',\n",
       "                   random_state=None, solver='lbfgs', tol=0.0001, verbose=0,\n",
       "                   warm_start=False)"
      ]
     },
     "execution_count": 189,
     "metadata": {},
     "output_type": "execute_result"
    }
   ],
   "source": [
    "lr.fit(X_train, np.argmax(y_train, axis = 1))"
   ]
  },
  {
   "cell_type": "code",
   "execution_count": 191,
   "metadata": {
    "ExecuteTime": {
     "end_time": "2020-04-18T21:55:13.972316Z",
     "start_time": "2020-04-18T21:55:13.950350Z"
    }
   },
   "outputs": [],
   "source": [
    "test_accuracy = lr.score(X_test, np.argmax(y_test, axis = 1))"
   ]
  },
  {
   "cell_type": "code",
   "execution_count": 194,
   "metadata": {
    "ExecuteTime": {
     "end_time": "2020-04-18T21:55:51.965347Z",
     "start_time": "2020-04-18T21:55:51.957335Z"
    }
   },
   "outputs": [],
   "source": [
    "Summary_table  = Summary_table.append({\"model\": \"Logistic Regression\", \"Test accuracy\": test_accuracy }, ignore_index = True)"
   ]
  },
  {
   "cell_type": "code",
   "execution_count": 195,
   "metadata": {
    "ExecuteTime": {
     "end_time": "2020-04-18T21:55:56.744936Z",
     "start_time": "2020-04-18T21:55:56.737978Z"
    }
   },
   "outputs": [
    {
     "data": {
      "text/html": [
       "<div>\n",
       "<style scoped>\n",
       "    .dataframe tbody tr th:only-of-type {\n",
       "        vertical-align: middle;\n",
       "    }\n",
       "\n",
       "    .dataframe tbody tr th {\n",
       "        vertical-align: top;\n",
       "    }\n",
       "\n",
       "    .dataframe thead th {\n",
       "        text-align: right;\n",
       "    }\n",
       "</style>\n",
       "<table border=\"1\" class=\"dataframe\">\n",
       "  <thead>\n",
       "    <tr style=\"text-align: right;\">\n",
       "      <th></th>\n",
       "      <th>model</th>\n",
       "      <th>Test accuracy</th>\n",
       "    </tr>\n",
       "  </thead>\n",
       "  <tbody>\n",
       "    <tr>\n",
       "      <th>0</th>\n",
       "      <td>Logistic Regression</td>\n",
       "      <td>0.917708</td>\n",
       "    </tr>\n",
       "  </tbody>\n",
       "</table>\n",
       "</div>"
      ],
      "text/plain": [
       "                 model  Test accuracy\n",
       "0  Logistic Regression       0.917708"
      ]
     },
     "execution_count": 195,
     "metadata": {},
     "output_type": "execute_result"
    }
   ],
   "source": [
    "Summary_table"
   ]
  },
  {
   "cell_type": "markdown",
   "metadata": {},
   "source": [
    "## Shallow fully connected Neural Network\n",
    "- Hidden layer1: 5 nodes, activation function: relu\n",
    "- Optimizer: Adam\n",
    "- Early stoppng: 10, stops further epochs iteration if the validation accuracy does not improve for 10 iterations"
   ]
  },
  {
   "cell_type": "code",
   "execution_count": 196,
   "metadata": {
    "ExecuteTime": {
     "end_time": "2020-04-18T21:56:21.408977Z",
     "start_time": "2020-04-18T21:56:21.369719Z"
    }
   },
   "outputs": [],
   "source": [
    "model_s = Sequential()\n",
    "model_s.add(Dense(5, input_shape = (784,), activation = \"relu\"))\n",
    "model_s.add(Dense(10, activation = \"softmax\"))\n",
    "model_s.compile(optimizer = \"adam\", loss = \"categorical_crossentropy\", metrics = [\"accuracy\"])"
   ]
  },
  {
   "cell_type": "code",
   "execution_count": 197,
   "metadata": {
    "ExecuteTime": {
     "end_time": "2020-04-18T21:56:23.133315Z",
     "start_time": "2020-04-18T21:56:23.128360Z"
    }
   },
   "outputs": [
    {
     "name": "stdout",
     "output_type": "stream",
     "text": [
      "Model: \"sequential_5\"\n",
      "_________________________________________________________________\n",
      "Layer (type)                 Output Shape              Param #   \n",
      "=================================================================\n",
      "dense_8 (Dense)              (None, 5)                 3925      \n",
      "_________________________________________________________________\n",
      "dense_9 (Dense)              (None, 10)                60        \n",
      "=================================================================\n",
      "Total params: 3,985\n",
      "Trainable params: 3,985\n",
      "Non-trainable params: 0\n",
      "_________________________________________________________________\n"
     ]
    }
   ],
   "source": [
    "model_s.summary()"
   ]
  },
  {
   "cell_type": "markdown",
   "metadata": {},
   "source": [
    "There are:\n",
    "- Layer1: Weights =  784*5, Bias(each node's) = 5. Total = 3925\n",
    "- Layer2 (output): Weights = 5*10 = 50, Bias (each node's) = 10. Total 60\n",
    "\n",
    "Toatal parameters = 3985"
   ]
  },
  {
   "cell_type": "code",
   "execution_count": 200,
   "metadata": {
    "ExecuteTime": {
     "end_time": "2020-04-18T21:57:36.688819Z",
     "start_time": "2020-04-18T21:57:36.686536Z"
    }
   },
   "outputs": [],
   "source": [
    "early_stopping = EarlyStopping(monitor = \"val_accuracy\", patience = 10)"
   ]
  },
  {
   "cell_type": "code",
   "execution_count": 201,
   "metadata": {
    "ExecuteTime": {
     "end_time": "2020-04-18T21:57:55.532604Z",
     "start_time": "2020-04-18T21:57:37.376075Z"
    }
   },
   "outputs": [
    {
     "name": "stdout",
     "output_type": "stream",
     "text": [
      "Train on 21504 samples, validate on 5376 samples\n",
      "Epoch 1/100\n",
      "21504/21504 [==============================] - 1s 40us/step - loss: 0.3151 - accuracy: 0.9104 - val_loss: 0.3975 - val_accuracy: 0.8884\n",
      "Epoch 2/100\n",
      "21504/21504 [==============================] - 1s 41us/step - loss: 0.3146 - accuracy: 0.9102 - val_loss: 0.3983 - val_accuracy: 0.8878\n",
      "Epoch 3/100\n",
      "21504/21504 [==============================] - 1s 42us/step - loss: 0.3142 - accuracy: 0.9088 - val_loss: 0.3968 - val_accuracy: 0.8895\n",
      "Epoch 4/100\n",
      "21504/21504 [==============================] - ETA: 0s - loss: 0.3126 - accuracy: 0.9108 ETA: 0s - l - 1s 42us/step - loss: 0.3121 - accuracy: 0.9107 - val_loss: 0.3976 - val_accuracy: 0.8878\n",
      "Epoch 5/100\n",
      "21504/21504 [==============================] - 1s 41us/step - loss: 0.3112 - accuracy: 0.9095 - val_loss: 0.3978 - val_accuracy: 0.8906\n",
      "Epoch 6/100\n",
      "21504/21504 [==============================] - 1s 44us/step - loss: 0.3113 - accuracy: 0.9102 - val_loss: 0.4004 - val_accuracy: 0.8897\n",
      "Epoch 7/100\n",
      "21504/21504 [==============================] - 1s 45us/step - loss: 0.3106 - accuracy: 0.9102 - val_loss: 0.3969 - val_accuracy: 0.8893\n",
      "Epoch 8/100\n",
      "21504/21504 [==============================] - 1s 46us/step - loss: 0.3096 - accuracy: 0.9116 - val_loss: 0.3978 - val_accuracy: 0.8878\n",
      "Epoch 9/100\n",
      "21504/21504 [==============================] - 1s 46us/step - loss: 0.3089 - accuracy: 0.9115 - val_loss: 0.3951 - val_accuracy: 0.8932\n",
      "Epoch 10/100\n",
      "21504/21504 [==============================] - 1s 44us/step - loss: 0.3095 - accuracy: 0.9113 - val_loss: 0.3976 - val_accuracy: 0.8899\n",
      "Epoch 11/100\n",
      "21504/21504 [==============================] - 1s 43us/step - loss: 0.3074 - accuracy: 0.9113 - val_loss: 0.3984 - val_accuracy: 0.8929\n",
      "Epoch 12/100\n",
      "21504/21504 [==============================] - 1s 41us/step - loss: 0.3068 - accuracy: 0.9115 - val_loss: 0.3983 - val_accuracy: 0.8916\n",
      "Epoch 13/100\n",
      "21504/21504 [==============================] - 1s 43us/step - loss: 0.3063 - accuracy: 0.9115 - val_loss: 0.4001 - val_accuracy: 0.8932\n",
      "Epoch 14/100\n",
      "21504/21504 [==============================] - 1s 56us/step - loss: 0.3050 - accuracy: 0.9121 - val_loss: 0.4018 - val_accuracy: 0.8904\n",
      "Epoch 15/100\n",
      "21504/21504 [==============================] - 1s 55us/step - loss: 0.3055 - accuracy: 0.9128 - val_loss: 0.4016 - val_accuracy: 0.8904\n",
      "Epoch 16/100\n",
      "21504/21504 [==============================] - 1s 43us/step - loss: 0.3043 - accuracy: 0.9124 - val_loss: 0.4023 - val_accuracy: 0.8890\n",
      "Epoch 17/100\n",
      "21504/21504 [==============================] - 1s 42us/step - loss: 0.3049 - accuracy: 0.9129 - val_loss: 0.3988 - val_accuracy: 0.8921\n",
      "Epoch 18/100\n",
      "21504/21504 [==============================] - 1s 45us/step - loss: 0.3030 - accuracy: 0.9136 - val_loss: 0.4025 - val_accuracy: 0.8891loss: 0.3054 - \n",
      "Epoch 19/100\n",
      "21504/21504 [==============================] - 1s 44us/step - loss: 0.3021 - accuracy: 0.9120 - val_loss: 0.4072 - val_accuracy: 0.8908\n"
     ]
    }
   ],
   "source": [
    "history = model_s.fit(X_train, y_train, epochs = 100, validation_split = 0.2, callbacks = [early_stopping])"
   ]
  },
  {
   "cell_type": "code",
   "execution_count": 202,
   "metadata": {
    "ExecuteTime": {
     "end_time": "2020-04-18T21:57:55.679362Z",
     "start_time": "2020-04-18T21:57:55.534577Z"
    }
   },
   "outputs": [
    {
     "data": {
      "image/png": "[encoded data removed]",
      "text/plain": [
       "<Figure size 576x288 with 1 Axes>"
      ]
     },
     "metadata": {
      "needs_background": "light"
     },
     "output_type": "display_data"
    }
   ],
   "source": [
    "fig = plt.figure(figsize = (8,4))\n",
    "ax1= plt.plot(history.history[\"accuracy\"], label = \"training\")\n",
    "ax2 = plt.plot(history.history[\"val_accuracy\"], label = \"validation\")\n",
    "plt.legend(loc=\"upper left\")\n",
    "plt.xlabel(\"Epochs\")\n",
    "plt.ylim(0.85,1)\n",
    "plt.ylabel(\"Accuracy\")\n",
    "plt.title(\"Training accuracy and Validation accuracy by epochs\");"
   ]
  },
  {
   "cell_type": "code",
   "execution_count": 207,
   "metadata": {
    "ExecuteTime": {
     "end_time": "2020-04-18T22:33:36.069731Z",
     "start_time": "2020-04-18T22:33:35.875980Z"
    }
   },
   "outputs": [
    {
     "name": "stdout",
     "output_type": "stream",
     "text": [
      "6720/6720 [==============================] - 0s 26us/step\n"
     ]
    }
   ],
   "source": [
    "test_accuracy = model_s.evaluate(X_test, y_test)[1]"
   ]
  },
  {
   "cell_type": "code",
   "execution_count": 208,
   "metadata": {
    "ExecuteTime": {
     "end_time": "2020-04-18T22:33:53.601053Z",
     "start_time": "2020-04-18T22:33:53.594086Z"
    }
   },
   "outputs": [],
   "source": [
    "Summary_table  = Summary_table.append({\"model\": \"Shallow NN\", \"Test accuracy\": test_accuracy }, ignore_index = True)"
   ]
  },
  {
   "cell_type": "code",
   "execution_count": 209,
   "metadata": {
    "ExecuteTime": {
     "end_time": "2020-04-18T22:33:57.741548Z",
     "start_time": "2020-04-18T22:33:57.728281Z"
    }
   },
   "outputs": [
    {
     "data": {
      "text/html": [
       "<div>\n",
       "<style scoped>\n",
       "    .dataframe tbody tr th:only-of-type {\n",
       "        vertical-align: middle;\n",
       "    }\n",
       "\n",
       "    .dataframe tbody tr th {\n",
       "        vertical-align: top;\n",
       "    }\n",
       "\n",
       "    .dataframe thead th {\n",
       "        text-align: right;\n",
       "    }\n",
       "</style>\n",
       "<table border=\"1\" class=\"dataframe\">\n",
       "  <thead>\n",
       "    <tr style=\"text-align: right;\">\n",
       "      <th></th>\n",
       "      <th>model</th>\n",
       "      <th>Test accuracy</th>\n",
       "    </tr>\n",
       "  </thead>\n",
       "  <tbody>\n",
       "    <tr>\n",
       "      <th>0</th>\n",
       "      <td>Logistic Regression</td>\n",
       "      <td>0.917708</td>\n",
       "    </tr>\n",
       "    <tr>\n",
       "      <th>1</th>\n",
       "      <td>Shallow NN</td>\n",
       "      <td>0.884673</td>\n",
       "    </tr>\n",
       "  </tbody>\n",
       "</table>\n",
       "</div>"
      ],
      "text/plain": [
       "                 model  Test accuracy\n",
       "0  Logistic Regression       0.917708\n",
       "1           Shallow NN       0.884673"
      ]
     },
     "execution_count": 209,
     "metadata": {},
     "output_type": "execute_result"
    }
   ],
   "source": [
    "Summary_table"
   ]
  },
  {
   "cell_type": "code",
   "execution_count": null,
   "metadata": {},
   "outputs": [],
   "source": []
  }
 ],
 "metadata": {
  "kernelspec": {
   "display_name": "Python 3",
   "language": "python",
   "name": "python3"
  },
  "language_info": {
   "codemirror_mode": {
    "name": "ipython",
    "version": 3
   },
   "file_extension": ".py",
   "mimetype": "text/x-python",
   "name": "python",
   "nbconvert_exporter": "python",
   "pygments_lexer": "ipython3",
   "version": "3.7.6"
  },
  "toc": {
   "base_numbering": 1,
   "nav_menu": {},
   "number_sections": true,
   "sideBar": true,
   "skip_h1_title": false,
   "title_cell": "Table of Contents",
   "title_sidebar": "Contents",
   "toc_cell": false,
   "toc_position": {},
   "toc_section_display": true,
   "toc_window_display": false
  }
 },
 "nbformat": 4,
 "nbformat_minor": 4
}
